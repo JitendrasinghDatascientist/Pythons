{
 "cells": [
  {
   "cell_type": "code",
   "execution_count": 1,
   "id": "a32aec6e",
   "metadata": {},
   "outputs": [
    {
     "name": "stdout",
     "output_type": "stream",
     "text": [
      "jitendra\n"
     ]
    }
   ],
   "source": [
    "name = \"jitendra\"\n",
    "print(name)"
   ]
  },
  {
   "cell_type": "code",
   "execution_count": 2,
   "id": "7b9edc38",
   "metadata": {},
   "outputs": [
    {
     "name": "stdout",
     "output_type": "stream",
     "text": [
      "1000\n"
     ]
    }
   ],
   "source": [
    "num = 1000\n",
    "print(num)"
   ]
  },
  {
   "cell_type": "code",
   "execution_count": 3,
   "id": "54b14905",
   "metadata": {},
   "outputs": [
    {
     "name": "stdout",
     "output_type": "stream",
     "text": [
      "100.1\n"
     ]
    }
   ],
   "source": [
    "num = 100.1\n",
    "print(num)"
   ]
  },
  {
   "cell_type": "code",
   "execution_count": 4,
   "id": "658a879b",
   "metadata": {},
   "outputs": [
    {
     "name": "stdout",
     "output_type": "stream",
     "text": [
      "True\n"
     ]
    }
   ],
   "source": [
    "num = True \n",
    "print(num)"
   ]
  },
  {
   "cell_type": "code",
   "execution_count": 5,
   "id": "646de307",
   "metadata": {},
   "outputs": [
    {
     "name": "stdout",
     "output_type": "stream",
     "text": [
      "120\n"
     ]
    }
   ],
   "source": [
    "a = 100\n",
    "b = 20\n",
    "print(a+b)"
   ]
  },
  {
   "cell_type": "code",
   "execution_count": 6,
   "id": "71c4c3d5",
   "metadata": {},
   "outputs": [
    {
     "name": "stdout",
     "output_type": "stream",
     "text": [
      "enter the num: 100\n",
      "Enter the num: 300\n",
      "400\n"
     ]
    }
   ],
   "source": [
    "a = int(input(\"enter the num: \"))\n",
    "b = int(input(\"Enter the num: \"))\n",
    "print(a+b)"
   ]
  },
  {
   "cell_type": "code",
   "execution_count": 7,
   "id": "7367a63e",
   "metadata": {},
   "outputs": [
    {
     "name": "stdout",
     "output_type": "stream",
     "text": [
      "Enter the num1: 400\n",
      "Enter the num2: 100\n",
      "300\n"
     ]
    }
   ],
   "source": [
    "a = int(input(\"Enter the num1: \"))\n",
    "b = int(input(\"Enter the num2: \"))\n",
    "print(a-b)"
   ]
  },
  {
   "cell_type": "code",
   "execution_count": 8,
   "id": "d69a66bf",
   "metadata": {},
   "outputs": [
    {
     "name": "stdout",
     "output_type": "stream",
     "text": [
      "\n",
      "Here is a list of the Python keywords.  Enter any keyword to get more help.\n",
      "\n",
      "False               class               from                or\n",
      "None                continue            global              pass\n",
      "True                def                 if                  raise\n",
      "and                 del                 import              return\n",
      "as                  elif                in                  try\n",
      "assert              else                is                  while\n",
      "async               except              lambda              with\n",
      "await               finally             nonlocal            yield\n",
      "break               for                 not                 \n",
      "\n"
     ]
    }
   ],
   "source": [
    "help(\"keywords\")"
   ]
  },
  {
   "cell_type": "code",
   "execution_count": 9,
   "id": "6c258d03",
   "metadata": {},
   "outputs": [
    {
     "name": "stdout",
     "output_type": "stream",
     "text": [
      "Enter the name: sita\n",
      "sita\n"
     ]
    }
   ],
   "source": [
    "name = input(\"Enter the name: \")\n",
    "print(name)"
   ]
  },
  {
   "cell_type": "code",
   "execution_count": 10,
   "id": "105bf8ea",
   "metadata": {},
   "outputs": [
    {
     "name": "stdout",
     "output_type": "stream",
     "text": [
      "Enter the name: ram\n",
      "<class 'str'>\n"
     ]
    }
   ],
   "source": [
    "name = input(\"Enter the name: \")\n",
    "print(type(name))"
   ]
  },
  {
   "cell_type": "code",
   "execution_count": 11,
   "id": "b9be3ec7",
   "metadata": {},
   "outputs": [
    {
     "name": "stdout",
     "output_type": "stream",
     "text": [
      "Enter the num: 10\n",
      "<class 'int'>\n"
     ]
    }
   ],
   "source": [
    "num = int(input(\"Enter the num: \"))\n",
    "print(type(num))"
   ]
  },
  {
   "cell_type": "code",
   "execution_count": 14,
   "id": "1eaa7f7b",
   "metadata": {},
   "outputs": [
    {
     "name": "stdout",
     "output_type": "stream",
     "text": [
      "Enter the value: 22\n",
      "<class 'int'>\n"
     ]
    }
   ],
   "source": [
    "num = int(input(\"Enter the value: \"))\n",
    "print(type(num))"
   ]
  },
  {
   "cell_type": "code",
   "execution_count": 15,
   "id": "f2c50ce3",
   "metadata": {},
   "outputs": [
    {
     "name": "stdout",
     "output_type": "stream",
     "text": [
      "<class 'float'>\n"
     ]
    }
   ],
   "source": [
    "num = 100.2\n",
    "print(type(num))"
   ]
  },
  {
   "cell_type": "code",
   "execution_count": 16,
   "id": "95776ca4",
   "metadata": {},
   "outputs": [
    {
     "name": "stdout",
     "output_type": "stream",
     "text": [
      "<class 'bool'>\n"
     ]
    }
   ],
   "source": [
    "num = True\n",
    "print(type(num))"
   ]
  },
  {
   "cell_type": "code",
   "execution_count": 17,
   "id": "b9890a7d",
   "metadata": {},
   "outputs": [
    {
     "name": "stdout",
     "output_type": "stream",
     "text": [
      "0\n"
     ]
    }
   ],
   "source": [
    "ram = 0\n",
    "pooja = ram \n",
    "print(pooja)"
   ]
  },
  {
   "cell_type": "code",
   "execution_count": 18,
   "id": "f4d9d970",
   "metadata": {},
   "outputs": [
    {
     "name": "stdout",
     "output_type": "stream",
     "text": [
      "100\n"
     ]
    }
   ],
   "source": [
    "lion = 100\n",
    "tiger = lion \n",
    "print(tiger)"
   ]
  },
  {
   "cell_type": "code",
   "execution_count": 19,
   "id": "e2639d43",
   "metadata": {},
   "outputs": [
    {
     "name": "stdout",
     "output_type": "stream",
     "text": [
      "122\n"
     ]
    }
   ],
   "source": [
    "i = 45\n",
    "o = 100\n",
    "p = 23\n",
    "res = i+o-p\n",
    "print(res)"
   ]
  },
  {
   "cell_type": "code",
   "execution_count": 20,
   "id": "53af947f",
   "metadata": {},
   "outputs": [
    {
     "name": "stdout",
     "output_type": "stream",
     "text": [
      "None\n"
     ]
    }
   ],
   "source": [
    "a = None\n",
    "print(a)"
   ]
  },
  {
   "cell_type": "code",
   "execution_count": 21,
   "id": "89a9baf6",
   "metadata": {},
   "outputs": [
    {
     "name": "stdout",
     "output_type": "stream",
     "text": [
      "<class 'NoneType'>\n"
     ]
    }
   ],
   "source": [
    "a = None \n",
    "print(type(a))"
   ]
  },
  {
   "cell_type": "code",
   "execution_count": 22,
   "id": "1bf47dfc",
   "metadata": {},
   "outputs": [
    {
     "name": "stdout",
     "output_type": "stream",
     "text": [
      "[1, 2, 3, 4, 5, 6]\n"
     ]
    }
   ],
   "source": [
    "#List:\n",
    "a = [1,2,3,4,5,6]\n",
    "print(a)"
   ]
  },
  {
   "cell_type": "code",
   "execution_count": 23,
   "id": "58f9aff4",
   "metadata": {},
   "outputs": [
    {
     "name": "stdout",
     "output_type": "stream",
     "text": [
      "[10, 20, 30, 40, 50, 60]\n"
     ]
    }
   ],
   "source": [
    "b=[10,20,30,40,50,60]\n",
    "print(b)"
   ]
  },
  {
   "cell_type": "code",
   "execution_count": 24,
   "id": "72f0755b",
   "metadata": {},
   "outputs": [
    {
     "name": "stdout",
     "output_type": "stream",
     "text": [
      "<class 'list'>\n"
     ]
    }
   ],
   "source": [
    "b = [10,20,30,40,50]\n",
    "print(type(b))"
   ]
  },
  {
   "cell_type": "code",
   "execution_count": null,
   "id": "93c36eab",
   "metadata": {},
   "outputs": [],
   "source": [
    "#Write the program to calculate the SI?"
   ]
  },
  {
   "cell_type": "code",
   "execution_count": 25,
   "id": "17d3fe14",
   "metadata": {},
   "outputs": [
    {
     "name": "stdout",
     "output_type": "stream",
     "text": [
      "300.0\n"
     ]
    }
   ],
   "source": [
    "P = 1000\n",
    "R = 10\n",
    "T = 3\n",
    "SI = P*R*T/100\n",
    "print(SI)"
   ]
  },
  {
   "cell_type": "code",
   "execution_count": 26,
   "id": "d43744a5",
   "metadata": {},
   "outputs": [
    {
     "name": "stdout",
     "output_type": "stream",
     "text": [
      "Value of the SI: 210.0\n",
      "Total Value:  1210.0\n"
     ]
    }
   ],
   "source": [
    "P = 1000\n",
    "R = 7\n",
    "T = 3\n",
    "SI = P*R*T/100\n",
    "print(\"Value of the SI:\",SI)\n",
    "print(\"Total Value: \",SI + P)"
   ]
  },
  {
   "cell_type": "code",
   "execution_count": null,
   "id": "d1bbd471",
   "metadata": {},
   "outputs": [],
   "source": [
    "# Write the program to calculate the Area of the rectangle:"
   ]
  },
  {
   "cell_type": "code",
   "execution_count": 27,
   "id": "1537d343",
   "metadata": {},
   "outputs": [
    {
     "name": "stdout",
     "output_type": "stream",
     "text": [
      "Area of the Rectangle:  20000\n"
     ]
    }
   ],
   "source": [
    "L = 1000\n",
    "B = 20\n",
    "A = L * B\n",
    "print(\"Area of the Rectangle: \",A)"
   ]
  },
  {
   "cell_type": "code",
   "execution_count": 29,
   "id": "a96e8dd4",
   "metadata": {},
   "outputs": [],
   "source": [
    "# Write the program to calculate the area of the square:"
   ]
  },
  {
   "cell_type": "code",
   "execution_count": 31,
   "id": "12d46da4",
   "metadata": {},
   "outputs": [
    {
     "name": "stdout",
     "output_type": "stream",
     "text": [
      "Area of the sqaure: 2000\n"
     ]
    }
   ],
   "source": [
    "S1 = 100\n",
    "S2 = 20\n",
    "print(\"Area of the sqaure:\",S1*S2)"
   ]
  },
  {
   "cell_type": "code",
   "execution_count": 32,
   "id": "cdec4a02",
   "metadata": {},
   "outputs": [
    {
     "name": "stdout",
     "output_type": "stream",
     "text": [
      "Enter the value: 1000\n",
      "Enter the value: 200\n",
      "1200\n"
     ]
    }
   ],
   "source": [
    "A = int(input(\"Enter the value: \"))\n",
    "B = int(input(\"Enter the value: \"))\n",
    "print(A+B)"
   ]
  },
  {
   "cell_type": "code",
   "execution_count": 33,
   "id": "22455c0a",
   "metadata": {},
   "outputs": [
    {
     "name": "stdout",
     "output_type": "stream",
     "text": [
      "Jitendra Singh\n"
     ]
    }
   ],
   "source": [
    "first = \"Jitendra\"\n",
    "last = \"Singh\"\n",
    "print(first+\" \"+last)"
   ]
  },
  {
   "cell_type": "code",
   "execution_count": 35,
   "id": "16ab2503",
   "metadata": {},
   "outputs": [
    {
     "name": "stdout",
     "output_type": "stream",
     "text": [
      "ram singh\n"
     ]
    }
   ],
   "source": [
    "f = \"ram\"\n",
    "l = \"singh\"\n",
    "print(f+\" \"+l)"
   ]
  },
  {
   "cell_type": "code",
   "execution_count": 36,
   "id": "0805d33a",
   "metadata": {},
   "outputs": [
    {
     "name": "stdout",
     "output_type": "stream",
     "text": [
      "this is the world\n"
     ]
    }
   ],
   "source": [
    "name = \"this is the world\"\n",
    "print(name)"
   ]
  },
  {
   "cell_type": "code",
   "execution_count": 39,
   "id": "2f44b200",
   "metadata": {},
   "outputs": [
    {
     "name": "stdout",
     "output_type": "stream",
     "text": [
      "17\n"
     ]
    }
   ],
   "source": [
    "# Len function:\n",
    "name = \"this is the world\"\n",
    "print(len(name))"
   ]
  },
  {
   "cell_type": "code",
   "execution_count": 42,
   "id": "e2a4f878",
   "metadata": {},
   "outputs": [
    {
     "name": "stdout",
     "output_type": "stream",
     "text": [
      "49\n"
     ]
    }
   ],
   "source": [
    "name = \"this is the most beautiful feeling in this world \"\n",
    "print(len(name))"
   ]
  },
  {
   "cell_type": "code",
   "execution_count": 41,
   "id": "3e09f9b5",
   "metadata": {},
   "outputs": [
    {
     "name": "stdout",
     "output_type": "stream",
     "text": [
      "i\n"
     ]
    }
   ],
   "source": [
    "# Indexing function: \n",
    "name = \"this is the most beautiful feeling in this world \"\n",
    "print(name[2])"
   ]
  },
  {
   "cell_type": "code",
   "execution_count": 43,
   "id": "2afe5e56",
   "metadata": {},
   "outputs": [
    {
     "name": "stdout",
     "output_type": "stream",
     "text": [
      "n\n"
     ]
    }
   ],
   "source": [
    "name = \"this is the most beautiful feeling in this world \"\n",
    "print(name[36])"
   ]
  },
  {
   "cell_type": "code",
   "execution_count": 44,
   "id": "0e24eb1a",
   "metadata": {},
   "outputs": [
    {
     "name": "stdout",
     "output_type": "stream",
     "text": [
      "<class 'str'>\n"
     ]
    }
   ],
   "source": [
    "name = 8000\n",
    "i = str(name)\n",
    "print(type(i))"
   ]
  },
  {
   "cell_type": "code",
   "execution_count": 45,
   "id": "bbcaa7a4",
   "metadata": {},
   "outputs": [
    {
     "name": "stdout",
     "output_type": "stream",
     "text": [
      "4000.0\n"
     ]
    }
   ],
   "source": [
    "name = 4000\n",
    "res = float(name)\n",
    "print(res)"
   ]
  },
  {
   "cell_type": "code",
   "execution_count": 46,
   "id": "d0ce6bab",
   "metadata": {},
   "outputs": [
    {
     "name": "stdout",
     "output_type": "stream",
     "text": [
      "True\n"
     ]
    }
   ],
   "source": [
    "name = 200\n",
    "res = bool(name)\n",
    "print(res)"
   ]
  },
  {
   "cell_type": "code",
   "execution_count": 47,
   "id": "580fa18f",
   "metadata": {},
   "outputs": [
    {
     "name": "stdout",
     "output_type": "stream",
     "text": [
      "<class 'int'>\n"
     ]
    }
   ],
   "source": [
    "name = 10000\n",
    "res = int(name)\n",
    "print(type(res))"
   ]
  },
  {
   "cell_type": "code",
   "execution_count": 48,
   "id": "0658815f",
   "metadata": {},
   "outputs": [
    {
     "name": "stdout",
     "output_type": "stream",
     "text": [
      "<class 'float'>\n"
     ]
    }
   ],
   "source": [
    "num = 10000\n",
    "res = float(num)\n",
    "print(type(res))"
   ]
  },
  {
   "cell_type": "code",
   "execution_count": 50,
   "id": "b36dc3a2",
   "metadata": {},
   "outputs": [
    {
     "name": "stdout",
     "output_type": "stream",
     "text": [
      "<class 'bool'>\n"
     ]
    }
   ],
   "source": [
    "num = 20000\n",
    "res = bool(num)\n",
    "print(type(res))"
   ]
  },
  {
   "cell_type": "code",
   "execution_count": 52,
   "id": "9b136885",
   "metadata": {},
   "outputs": [
    {
     "name": "stdout",
     "output_type": "stream",
     "text": [
      "jitendra\n"
     ]
    }
   ],
   "source": [
    "name = \"jitendra\"\n",
    "res = str(name)\n",
    "print(res)"
   ]
  },
  {
   "cell_type": "code",
   "execution_count": 53,
   "id": "e8aabd06",
   "metadata": {},
   "outputs": [
    {
     "name": "stdout",
     "output_type": "stream",
     "text": [
      "Enter the name: jitendar\n",
      "Enter the age: 89\n",
      "he is not a rider\n"
     ]
    }
   ],
   "source": [
    "name = input(\"Enter the name: \")\n",
    "age = int(input(\"Enter the age: \"))\n",
    "if name == \"pooja\" and age == 20:\n",
    "    print(\"he is the rider\")\n",
    "else:\n",
    "    print(\"he is not a rider\")"
   ]
  },
  {
   "cell_type": "code",
   "execution_count": 54,
   "id": "daffa673",
   "metadata": {},
   "outputs": [
    {
     "name": "stdout",
     "output_type": "stream",
     "text": [
      "Enter the name: kumar\n",
      "Enter the age: 89\n",
      "he loved orange!\n"
     ]
    }
   ],
   "source": [
    "name = input(\"Enter the name: \")\n",
    "age = int(input(\"Enter the age: \"))\n",
    "if name == \"Neha\" or age == 30:\n",
    "    print(\"he loved apple!\")\n",
    "else:\n",
    "    print(\"he loved orange!\")"
   ]
  },
  {
   "cell_type": "code",
   "execution_count": 58,
   "id": "39836ddc",
   "metadata": {},
   "outputs": [
    {
     "name": "stdout",
     "output_type": "stream",
     "text": [
      "Enter the name:jitendra\n",
      "hello jitendra how are you ?\n",
      "busy\n",
      "he is not hardworking!\n"
     ]
    }
   ],
   "source": [
    "name = input(\"Enter the name:\")\n",
    "print(\"hello\",name,\"how are you ?\")\n",
    "mood = input()\n",
    "if mood == \"Good\":\n",
    "    print(\"he is  hardworking!\")\n",
    "else:\n",
    "    print(\"he is not hardworking!\")"
   ]
  },
  {
   "cell_type": "code",
   "execution_count": 56,
   "id": "49d64dcc",
   "metadata": {},
   "outputs": [
    {
     "name": "stdout",
     "output_type": "stream",
     "text": [
      "False\n"
     ]
    }
   ],
   "source": [
    "name = \"ALex\"==\"Alex\"\n",
    "print(name)"
   ]
  },
  {
   "cell_type": "code",
   "execution_count": 57,
   "id": "1a6b382c",
   "metadata": {},
   "outputs": [
    {
     "name": "stdout",
     "output_type": "stream",
     "text": [
      "True\n"
     ]
    }
   ],
   "source": [
    "name = \"Kumar\"==\"Kumar\"\n",
    "print(name)"
   ]
  },
  {
   "cell_type": "code",
   "execution_count": 59,
   "id": "691f3020",
   "metadata": {},
   "outputs": [
    {
     "name": "stdout",
     "output_type": "stream",
     "text": [
      "True\n"
     ]
    }
   ],
   "source": [
    "name = \"Ram\" == \"Ram\"\n",
    "print(name)"
   ]
  },
  {
   "cell_type": "code",
   "execution_count": 60,
   "id": "60dacfbf",
   "metadata": {},
   "outputs": [
    {
     "name": "stdout",
     "output_type": "stream",
     "text": [
      "20.5\n"
     ]
    }
   ],
   "source": [
    "num = 20.5\n",
    "print(num)"
   ]
  },
  {
   "cell_type": "code",
   "execution_count": 61,
   "id": "ed5fd283",
   "metadata": {},
   "outputs": [
    {
     "name": "stdout",
     "output_type": "stream",
     "text": [
      "enter the value: 800\n",
      "enter the value: 900\n",
      "1700\n"
     ]
    }
   ],
   "source": [
    "num1 = int(input(\"enter the value: \"))\n",
    "num2 = int(input(\"enter the value: \"))\n",
    "print(num1 + num2)"
   ]
  },
  {
   "cell_type": "code",
   "execution_count": 62,
   "id": "573a80d7",
   "metadata": {},
   "outputs": [
    {
     "name": "stdout",
     "output_type": "stream",
     "text": [
      "enter the value: 100\n",
      "enter the value: 90\n",
      "9000\n"
     ]
    }
   ],
   "source": [
    "num1 = int(input(\"enter the value: \"))\n",
    "num2 = int(input(\"enter the value: \"))\n",
    "print(num1 * num2)"
   ]
  },
  {
   "cell_type": "code",
   "execution_count": 63,
   "id": "9f199454",
   "metadata": {},
   "outputs": [
    {
     "name": "stdout",
     "output_type": "stream",
     "text": [
      "enter the value: 100\n",
      "enter the value: 20\n",
      "80\n"
     ]
    }
   ],
   "source": [
    "num1 = int(input(\"enter the value: \"))\n",
    "num2 = int(input(\"enter the value: \"))\n",
    "print(num1 - num2)"
   ]
  },
  {
   "cell_type": "code",
   "execution_count": 64,
   "id": "600d46da",
   "metadata": {},
   "outputs": [
    {
     "name": "stdout",
     "output_type": "stream",
     "text": [
      "enter the value: 1000\n",
      "enter the value: 20\n",
      "50.0\n"
     ]
    }
   ],
   "source": [
    "num1 = int(input(\"enter the value: \"))\n",
    "num2 = int(input(\"enter the value: \"))\n",
    "print(num1 / num2)"
   ]
  },
  {
   "cell_type": "code",
   "execution_count": 65,
   "id": "6ec43df7",
   "metadata": {},
   "outputs": [
    {
     "name": "stdout",
     "output_type": "stream",
     "text": [
      "enter the value: 1000\n",
      "enter the value: 2\n",
      "500\n"
     ]
    }
   ],
   "source": [
    "num1 = int(input(\"enter the value: \"))\n",
    "num2 = int(input(\"enter the value: \"))\n",
    "print(num1 // num2)"
   ]
  },
  {
   "cell_type": "code",
   "execution_count": 66,
   "id": "35043d30",
   "metadata": {},
   "outputs": [
    {
     "name": "stdout",
     "output_type": "stream",
     "text": [
      "enter the value: 20\n",
      "enter the value: 2\n",
      "400\n"
     ]
    }
   ],
   "source": [
    "num1 = int(input(\"enter the value: \"))\n",
    "num2 = int(input(\"enter the value: \"))\n",
    "print(num1 ** num2)"
   ]
  },
  {
   "cell_type": "code",
   "execution_count": 67,
   "id": "0b7927b3",
   "metadata": {},
   "outputs": [
    {
     "name": "stdout",
     "output_type": "stream",
     "text": [
      "enter the value: 1000\n",
      "enter the value: 2\n",
      "0\n"
     ]
    }
   ],
   "source": [
    "num1 = int(input(\"enter the value: \"))\n",
    "num2 = int(input(\"enter the value: \"))\n",
    "print(num1 % num2)"
   ]
  },
  {
   "cell_type": "code",
   "execution_count": null,
   "id": "66057202",
   "metadata": {},
   "outputs": [],
   "source": [
    "# Logical Operators"
   ]
  },
  {
   "cell_type": "code",
   "execution_count": null,
   "id": "3f0dd0e5",
   "metadata": {},
   "outputs": [],
   "source": [
    "and \n",
    "or \n",
    "not"
   ]
  },
  {
   "cell_type": "code",
   "execution_count": 68,
   "id": "92996dd6",
   "metadata": {},
   "outputs": [
    {
     "name": "stdout",
     "output_type": "stream",
     "text": [
      "Enter the name: kumar\n",
      "Enter the Age: 78\n",
      "She is not a Topper! \n"
     ]
    }
   ],
   "source": [
    "name = input(\"Enter the name: \")\n",
    "Age = int(input(\"Enter the Age: \"))\n",
    "if name == \"pooja\" and Age == 20:\n",
    "    print(\"She is a Topper!\")\n",
    "else:\n",
    "    print(\"She is not a Topper! \")"
   ]
  },
  {
   "cell_type": "code",
   "execution_count": 69,
   "id": "2a942bf3",
   "metadata": {},
   "outputs": [
    {
     "name": "stdout",
     "output_type": "stream",
     "text": [
      "Enter the name:kumar\n",
      "Enter the Age: 90\n",
      "she is not a topper!\n"
     ]
    }
   ],
   "source": [
    "name = input(\"Enter the name:\")\n",
    "Age = int(input(\"Enter the Age: \"))\n",
    "if name == \"pooja\" or Age == 60:\n",
    "    print(\"She is a topper!\")\n",
    "else:\n",
    "    print(\"she is not a topper!\")"
   ]
  },
  {
   "cell_type": "code",
   "execution_count": 70,
   "id": "7733145e",
   "metadata": {},
   "outputs": [
    {
     "name": "stdout",
     "output_type": "stream",
     "text": [
      "False\n"
     ]
    }
   ],
   "source": [
    "name = True and False\n",
    "print(name)"
   ]
  },
  {
   "cell_type": "code",
   "execution_count": 71,
   "id": "87b50c3e",
   "metadata": {},
   "outputs": [
    {
     "name": "stdout",
     "output_type": "stream",
     "text": [
      "True\n"
     ]
    }
   ],
   "source": [
    "name = True and True \n",
    "print(name)"
   ]
  },
  {
   "cell_type": "code",
   "execution_count": 72,
   "id": "c62862c3",
   "metadata": {},
   "outputs": [
    {
     "name": "stdout",
     "output_type": "stream",
     "text": [
      "False\n"
     ]
    }
   ],
   "source": [
    "name = False and False \n",
    "print(name)"
   ]
  },
  {
   "cell_type": "code",
   "execution_count": 74,
   "id": "37fcc15c",
   "metadata": {},
   "outputs": [
    {
     "name": "stdout",
     "output_type": "stream",
     "text": [
      "False\n"
     ]
    }
   ],
   "source": [
    "name = False and True\n",
    "print(name)"
   ]
  },
  {
   "cell_type": "code",
   "execution_count": 75,
   "id": "28a6f3bb",
   "metadata": {},
   "outputs": [
    {
     "name": "stdout",
     "output_type": "stream",
     "text": [
      "True\n"
     ]
    }
   ],
   "source": [
    "name = False or True \n",
    "print(name)"
   ]
  },
  {
   "cell_type": "code",
   "execution_count": 76,
   "id": "f1aedccc",
   "metadata": {},
   "outputs": [
    {
     "name": "stdout",
     "output_type": "stream",
     "text": [
      "True\n"
     ]
    }
   ],
   "source": [
    "name = True or True\n",
    "print(name)"
   ]
  },
  {
   "cell_type": "code",
   "execution_count": 77,
   "id": "2166ecd7",
   "metadata": {},
   "outputs": [
    {
     "name": "stdout",
     "output_type": "stream",
     "text": [
      "False\n"
     ]
    }
   ],
   "source": [
    "name = False or False\n",
    "print(name)"
   ]
  },
  {
   "cell_type": "code",
   "execution_count": 78,
   "id": "3ef141c7",
   "metadata": {},
   "outputs": [
    {
     "name": "stdout",
     "output_type": "stream",
     "text": [
      "True\n"
     ]
    }
   ],
   "source": [
    "name = True or False\n",
    "print(name)"
   ]
  },
  {
   "cell_type": "code",
   "execution_count": 79,
   "id": "3f60e3ce",
   "metadata": {},
   "outputs": [
    {
     "name": "stdout",
     "output_type": "stream",
     "text": [
      "0\n"
     ]
    }
   ],
   "source": [
    "num = 0 and 0\n",
    "print(num)"
   ]
  },
  {
   "cell_type": "code",
   "execution_count": 80,
   "id": "c2ef79e4",
   "metadata": {},
   "outputs": [
    {
     "name": "stdout",
     "output_type": "stream",
     "text": [
      "0\n"
     ]
    }
   ],
   "source": [
    "num = 1 and 0\n",
    "print(num)"
   ]
  },
  {
   "cell_type": "code",
   "execution_count": 81,
   "id": "2a3dbec5",
   "metadata": {},
   "outputs": [
    {
     "name": "stdout",
     "output_type": "stream",
     "text": [
      "1\n"
     ]
    }
   ],
   "source": [
    "num = 0 or 1\n",
    "print(num)"
   ]
  },
  {
   "cell_type": "code",
   "execution_count": 82,
   "id": "384e5c71",
   "metadata": {},
   "outputs": [
    {
     "name": "stdout",
     "output_type": "stream",
     "text": [
      "True\n"
     ]
    }
   ],
   "source": [
    "num = 0\n",
    "print(not num)"
   ]
  },
  {
   "cell_type": "code",
   "execution_count": 83,
   "id": "260f94bc",
   "metadata": {},
   "outputs": [
    {
     "name": "stdout",
     "output_type": "stream",
     "text": [
      "True\n"
     ]
    }
   ],
   "source": [
    "name = \"pooja\"\n",
    "state = \"UP\"\n",
    "print(name==\"pooja\" and state==\"UP\")"
   ]
  },
  {
   "cell_type": "code",
   "execution_count": 84,
   "id": "259d4a79",
   "metadata": {},
   "outputs": [
    {
     "name": "stdout",
     "output_type": "stream",
     "text": [
      "True\n"
     ]
    }
   ],
   "source": [
    "name = \"Lion\"\n",
    "state = \"MP\"\n",
    "print(name ==\"Tiger\" or state == \"MP\")"
   ]
  },
  {
   "cell_type": "code",
   "execution_count": 85,
   "id": "c83c0cdd",
   "metadata": {},
   "outputs": [
    {
     "name": "stdout",
     "output_type": "stream",
     "text": [
      "Enter the name: lion \n",
      "Enter the state: keral\n",
      "False\n"
     ]
    }
   ],
   "source": [
    "name = input(\"Enter the name: \")\n",
    "state = input(\"Enter the state: \")\n",
    "print(name == \"pooja\" or state == \"JK\")"
   ]
  },
  {
   "cell_type": "code",
   "execution_count": 86,
   "id": "1b2d69d9",
   "metadata": {},
   "outputs": [
    {
     "name": "stdout",
     "output_type": "stream",
     "text": [
      "False\n"
     ]
    }
   ],
   "source": [
    "name = \"Kumar\"\n",
    "res = \"i\" in name \n",
    "print(res)"
   ]
  },
  {
   "cell_type": "code",
   "execution_count": 87,
   "id": "e4fd75da",
   "metadata": {},
   "outputs": [
    {
     "name": "stdout",
     "output_type": "stream",
     "text": [
      "False\n"
     ]
    }
   ],
   "source": [
    "name = \"KITE\"\n",
    "res = \"Y\" in name \n",
    "print(res)"
   ]
  },
  {
   "cell_type": "code",
   "execution_count": 88,
   "id": "018f1c90",
   "metadata": {},
   "outputs": [
    {
     "name": "stdout",
     "output_type": "stream",
     "text": [
      "True\n"
     ]
    }
   ],
   "source": [
    "name = \"Kite\"\n",
    "res = \"o\" not in name\n",
    "print(res)"
   ]
  },
  {
   "cell_type": "code",
   "execution_count": 92,
   "id": "d0abdc87",
   "metadata": {},
   "outputs": [
    {
     "name": "stdout",
     "output_type": "stream",
     "text": [
      "Enter the sen:GO GO BJP\n",
      "he is a bjp leader\n"
     ]
    }
   ],
   "source": [
    "sen = input(\"Enter the sen:\")\n",
    "if sen == \"GO GO BJP\":\n",
    "    print(\"he is a bjp leader\")\n",
    "else:\n",
    "    print(\"He is a congress leader\")\n",
    "    "
   ]
  },
  {
   "cell_type": "code",
   "execution_count": 93,
   "id": "11bfe2e7",
   "metadata": {},
   "outputs": [
    {
     "name": "stdout",
     "output_type": "stream",
     "text": [
      "True\n"
     ]
    }
   ],
   "source": [
    "name = \"ALex\" == \"ALex\"\n",
    "print(name)"
   ]
  },
  {
   "cell_type": "code",
   "execution_count": 94,
   "id": "8e203182",
   "metadata": {},
   "outputs": [
    {
     "name": "stdout",
     "output_type": "stream",
     "text": [
      "False\n"
     ]
    }
   ],
   "source": [
    "name = \"alex\" != \"alex\"\n",
    "print(name)"
   ]
  },
  {
   "cell_type": "code",
   "execution_count": 95,
   "id": "364b8b70",
   "metadata": {},
   "outputs": [
    {
     "name": "stdout",
     "output_type": "stream",
     "text": [
      "Enter the name: lion \n",
      "Enter the Age78\n",
      "he is a great ZM\n"
     ]
    }
   ],
   "source": [
    "name = input(\"Enter the name: \")\n",
    "age = int(input(\"Enter the Age\"))\n",
    "if name == \"pooja\" and age != 30:\n",
    "    print(\"he is a great TM\")\n",
    "else:\n",
    "    print(\"he is a great ZM\")"
   ]
  },
  {
   "cell_type": "code",
   "execution_count": 96,
   "id": "5be06c25",
   "metadata": {},
   "outputs": [
    {
     "name": "stdout",
     "output_type": "stream",
     "text": [
      "Enter the name: jitendra\n",
      "Enter the Age90\n",
      "he is a great TM\n"
     ]
    }
   ],
   "source": [
    "name = input(\"Enter the name: \")\n",
    "age = int(input(\"Enter the Age\"))\n",
    "if name == \"pooja\" or age != 30:\n",
    "    print(\"he is a great TM\")\n",
    "else:\n",
    "    print(\"he is a great ZM\")"
   ]
  },
  {
   "cell_type": "code",
   "execution_count": 97,
   "id": "0a945e9d",
   "metadata": {},
   "outputs": [
    {
     "name": "stdout",
     "output_type": "stream",
     "text": [
      "Enter the num1: 60\n",
      "Enter the num2: 90\n",
      "False\n"
     ]
    }
   ],
   "source": [
    "num1 = int(input(\"Enter the num1: \"))\n",
    "num2 = int(input(\"Enter the num2: \"))\n",
    "print(num1>num2)"
   ]
  },
  {
   "cell_type": "code",
   "execution_count": 99,
   "id": "062de566",
   "metadata": {},
   "outputs": [
    {
     "name": "stdout",
     "output_type": "stream",
     "text": [
      "True\n"
     ]
    }
   ],
   "source": [
    "num1 = 2000\n",
    "num2 = 200\n",
    "print(num1>=num2)"
   ]
  },
  {
   "cell_type": "code",
   "execution_count": 100,
   "id": "322f6271",
   "metadata": {},
   "outputs": [
    {
     "name": "stdout",
     "output_type": "stream",
     "text": [
      "True\n"
     ]
    }
   ],
   "source": [
    "num1 = 20000\n",
    "num2 = 100\n",
    "print(num1>=num2)"
   ]
  },
  {
   "cell_type": "code",
   "execution_count": 101,
   "id": "84a5bd29",
   "metadata": {},
   "outputs": [
    {
     "name": "stdout",
     "output_type": "stream",
     "text": [
      "Enter the weather: HOT\n",
      "summer season\n"
     ]
    }
   ],
   "source": [
    "weather = input(\"Enter the weather: \")\n",
    "if weather == \"HOT\":\n",
    "    print(\"summer season\")\n",
    "elif weather == \"COLD\":\n",
    "    print(\"Winter season\")\n",
    "elif weather == \"Normal\":\n",
    "    print(\"so it's a normal day!\")\n",
    "else:\n",
    "    print(\"something wents wrong!\")"
   ]
  },
  {
   "cell_type": "code",
   "execution_count": 103,
   "id": "00ddd72c",
   "metadata": {},
   "outputs": [
    {
     "name": "stdout",
     "output_type": "stream",
     "text": [
      "Enter the weekday!3\n",
      "Tuesday!\n"
     ]
    }
   ],
   "source": [
    "weekday = int(input(\"Enter the weekday!\"))\n",
    "if weekday == 1:\n",
    "    print(\"sunday!\")\n",
    "elif weekday == 2:\n",
    "    print(\"Monday!\")\n",
    "elif weekday == 3:\n",
    "    print(\"Tuesday!\")\n",
    "elif weekday == 4:\n",
    "    print(\"Wednesday!\")\n",
    "elif weekday == 5:\n",
    "    print(\"Thrusday!\")\n",
    "elif weekday == 6:\n",
    "    print(\"friday!\")\n",
    "elif weekday == 7:\n",
    "    print(\"saturday!\")"
   ]
  },
  {
   "cell_type": "code",
   "execution_count": 105,
   "id": "d44c4695",
   "metadata": {},
   "outputs": [
    {
     "name": "stdout",
     "output_type": "stream",
     "text": [
      "1\n",
      "2\n",
      "3\n",
      "4\n",
      "5\n",
      "6\n",
      "7\n",
      "8\n",
      "9\n",
      "10\n",
      "11\n",
      "12\n",
      "13\n",
      "14\n",
      "15\n",
      "16\n",
      "17\n",
      "18\n",
      "19\n"
     ]
    }
   ],
   "source": [
    "# looping:\n",
    "for i in range(1,20):\n",
    "    print(i)"
   ]
  },
  {
   "cell_type": "code",
   "execution_count": 106,
   "id": "82982b62",
   "metadata": {},
   "outputs": [
    {
     "name": "stdout",
     "output_type": "stream",
     "text": [
      "1\n",
      "2\n",
      "3\n",
      "4\n",
      "5\n",
      "6\n",
      "7\n",
      "8\n",
      "9\n",
      "10\n",
      "11\n",
      "12\n",
      "13\n",
      "14\n",
      "15\n",
      "16\n",
      "17\n",
      "18\n",
      "19\n",
      "20\n",
      "21\n",
      "22\n",
      "23\n",
      "24\n",
      "25\n",
      "26\n",
      "27\n",
      "28\n",
      "29\n"
     ]
    }
   ],
   "source": [
    "for i in range(1,30):\n",
    "    print(i)"
   ]
  },
  {
   "cell_type": "code",
   "execution_count": 110,
   "id": "49baf7f7",
   "metadata": {},
   "outputs": [
    {
     "name": "stdout",
     "output_type": "stream",
     "text": [
      "9\n",
      "8\n",
      "7\n",
      "6\n",
      "5\n",
      "4\n",
      "3\n",
      "2\n",
      "1\n"
     ]
    }
   ],
   "source": [
    "for i in reversed(range(1,10)):\n",
    "    print(i)"
   ]
  },
  {
   "cell_type": "code",
   "execution_count": 111,
   "id": "e9571701",
   "metadata": {},
   "outputs": [
    {
     "name": "stdout",
     "output_type": "stream",
     "text": [
      "1 hello\n",
      "2 hello\n",
      "3 hello\n",
      "4 hello\n",
      "5 hello\n",
      "6 hello\n",
      "7 hello\n",
      "8 hello\n",
      "9 hello\n"
     ]
    }
   ],
   "source": [
    "for i in range(1,10):\n",
    "    print(i,\"hello\")"
   ]
  },
  {
   "cell_type": "code",
   "execution_count": 113,
   "id": "e0ee9095",
   "metadata": {},
   "outputs": [
    {
     "name": "stdout",
     "output_type": "stream",
     "text": [
      "1 odd num!\n",
      "2 Even num!\n",
      "3 odd num!\n",
      "4 Even num!\n",
      "5 odd num!\n",
      "6 Even num!\n",
      "7 odd num!\n",
      "8 Even num!\n",
      "9 odd num!\n",
      "10 Even num!\n",
      "11 odd num!\n",
      "12 Even num!\n",
      "13 odd num!\n",
      "14 Even num!\n",
      "15 odd num!\n",
      "16 Even num!\n",
      "17 odd num!\n",
      "18 Even num!\n",
      "19 odd num!\n"
     ]
    }
   ],
   "source": [
    "for i in range(1,20):\n",
    "    if i%2==0:\n",
    "        print(i,\"Even num!\")\n",
    "    else:\n",
    "        print(i,\"odd num!\")"
   ]
  },
  {
   "cell_type": "code",
   "execution_count": 114,
   "id": "e3c4c3ab",
   "metadata": {},
   "outputs": [
    {
     "name": "stdout",
     "output_type": "stream",
     "text": [
      "M\n",
      "Y\n",
      " \n",
      "n\n",
      "a\n",
      "m\n",
      "e\n",
      " \n",
      "i\n",
      "s\n",
      " \n",
      "j\n",
      "i\n",
      "t\n",
      "e\n",
      "n\n",
      "d\n",
      "r\n",
      "a\n"
     ]
    }
   ],
   "source": [
    "for i in \"MY name is jitendra\":\n",
    "    print(i)"
   ]
  },
  {
   "cell_type": "code",
   "execution_count": 117,
   "id": "dcdf2d6b",
   "metadata": {},
   "outputs": [
    {
     "name": "stdout",
     "output_type": "stream",
     "text": [
      "10\n",
      "7\n",
      "4\n"
     ]
    }
   ],
   "source": [
    "for  i in range(10,1,-3):\n",
    "    print(i)"
   ]
  },
  {
   "cell_type": "code",
   "execution_count": 118,
   "id": "0e719c21",
   "metadata": {},
   "outputs": [
    {
     "name": "stdout",
     "output_type": "stream",
     "text": [
      "20\n",
      "18\n",
      "16\n",
      "14\n",
      "12\n",
      "10\n",
      "8\n",
      "6\n",
      "4\n",
      "2\n"
     ]
    }
   ],
   "source": [
    "for i in range(20,1,-2):\n",
    "    print(i)"
   ]
  },
  {
   "cell_type": "code",
   "execution_count": 119,
   "id": "127fd6d6",
   "metadata": {},
   "outputs": [
    {
     "name": "stdout",
     "output_type": "stream",
     "text": [
      "1\n",
      "2\n",
      "3\n",
      "4\n",
      "5\n",
      "6\n",
      "7\n",
      "8\n",
      "9\n",
      "10\n",
      "11\n",
      "12\n"
     ]
    }
   ],
   "source": [
    "# While Looping:\n",
    "num = 1\n",
    "while num <=12:\n",
    "    print(num)\n",
    "    num = num+1"
   ]
  },
  {
   "cell_type": "code",
   "execution_count": 120,
   "id": "6c045c56",
   "metadata": {},
   "outputs": [
    {
     "name": "stdout",
     "output_type": "stream",
     "text": [
      "10\n"
     ]
    }
   ],
   "source": [
    "num = 10\n",
    "while num<=10:\n",
    "    print(num)\n",
    "    num = num+1"
   ]
  },
  {
   "cell_type": "code",
   "execution_count": 123,
   "id": "c23bd65c",
   "metadata": {},
   "outputs": [
    {
     "name": "stdout",
     "output_type": "stream",
     "text": [
      "2\n"
     ]
    }
   ],
   "source": [
    "num = 2\n",
    "while num<=20:\n",
    "    print(num)\n",
    "    num = num+20"
   ]
  },
  {
   "cell_type": "code",
   "execution_count": 124,
   "id": "a4051ce4",
   "metadata": {},
   "outputs": [
    {
     "name": "stdout",
     "output_type": "stream",
     "text": [
      "1\n",
      "2\n",
      "3\n",
      "4\n",
      "5\n",
      "6\n",
      "7\n",
      "8\n",
      "9\n"
     ]
    }
   ],
   "source": [
    "for i in range(1,20):\n",
    "    if i == 10:\n",
    "        break\n",
    "    print(i)"
   ]
  },
  {
   "cell_type": "code",
   "execution_count": 127,
   "id": "1b9afb61",
   "metadata": {},
   "outputs": [
    {
     "name": "stdout",
     "output_type": "stream",
     "text": [
      "1\n",
      "2\n",
      "3\n",
      "4\n",
      "5\n",
      "6\n",
      "7\n",
      "8\n",
      "9\n",
      "End the loop\n"
     ]
    }
   ],
   "source": [
    "for i in range(1,20):\n",
    "    if i == 10:\n",
    "        break\n",
    "        continue\n",
    "    print(i)\n",
    "print(\"End the loop\")"
   ]
  },
  {
   "cell_type": "code",
   "execution_count": 128,
   "id": "1c886188",
   "metadata": {},
   "outputs": [
    {
     "name": "stdout",
     "output_type": "stream",
     "text": [
      "1\n",
      "3\n",
      "4\n",
      "5\n",
      "6\n",
      "7\n",
      "8\n",
      "9\n",
      "10\n",
      "11\n",
      "12\n",
      "13\n",
      "14\n",
      "15\n",
      "16\n",
      "17\n",
      "18\n",
      "19\n",
      "End the LOOP\n"
     ]
    }
   ],
   "source": [
    "for i in range(1,20):\n",
    "    if i == 2:\n",
    "        continue\n",
    "    print(i)\n",
    "print(\"End the LOOP\")"
   ]
  },
  {
   "cell_type": "code",
   "execution_count": 129,
   "id": "e374d805",
   "metadata": {},
   "outputs": [
    {
     "name": "stdout",
     "output_type": "stream",
     "text": [
      "[1, 2, 3, 4, 5, 6, 7]\n"
     ]
    }
   ],
   "source": [
    "# Data Structure:\n",
    "# List:\n",
    "num = [1,2,3,4,5,6,7]\n",
    "print(num)"
   ]
  },
  {
   "cell_type": "code",
   "execution_count": 130,
   "id": "9a8e364d",
   "metadata": {},
   "outputs": [
    {
     "name": "stdout",
     "output_type": "stream",
     "text": [
      "45\n"
     ]
    }
   ],
   "source": [
    "num = [1,2,3,45,6,7,89,9]\n",
    "print(num[3])"
   ]
  },
  {
   "cell_type": "code",
   "execution_count": 131,
   "id": "7b30ecdc",
   "metadata": {},
   "outputs": [
    {
     "name": "stdout",
     "output_type": "stream",
     "text": [
      "['A', 'B', 'C', 'D', 'E']\n"
     ]
    }
   ],
   "source": [
    "name = [\"A\",\"B\",\"C\",\"D\",\"E\",\"F\"]\n",
    "print(name[0:5])"
   ]
  },
  {
   "cell_type": "code",
   "execution_count": 132,
   "id": "5ce9c020",
   "metadata": {},
   "outputs": [
    {
     "name": "stdout",
     "output_type": "stream",
     "text": [
      "['B', 'C', 'D', 'E', 'F']\n"
     ]
    }
   ],
   "source": [
    "name = [\"A\",\"B\",\"C\",\"D\",\"E\",\"F\"]\n",
    "print(name[1:6])"
   ]
  },
  {
   "cell_type": "code",
   "execution_count": 133,
   "id": "279e48ae",
   "metadata": {},
   "outputs": [
    {
     "name": "stdout",
     "output_type": "stream",
     "text": [
      "['A', 'C', 'E']\n"
     ]
    }
   ],
   "source": [
    "name = [\"A\",\"B\",\"C\",\"D\",\"E\",\"F\"]\n",
    "print(name[0:5:2])"
   ]
  },
  {
   "cell_type": "code",
   "execution_count": 134,
   "id": "565a1581",
   "metadata": {},
   "outputs": [
    {
     "name": "stdout",
     "output_type": "stream",
     "text": [
      "['A', 'C', 'E']\n"
     ]
    }
   ],
   "source": [
    "name = [\"A\",\"B\",\"C\",\"D\",\"E\",\"F\"]\n",
    "print(name[0:6:2])"
   ]
  },
  {
   "cell_type": "code",
   "execution_count": 135,
   "id": "92dbd1e6",
   "metadata": {},
   "outputs": [
    {
     "name": "stdout",
     "output_type": "stream",
     "text": [
      "['A', 'D']\n"
     ]
    }
   ],
   "source": [
    "name = [\"A\",\"B\",\"C\",\"D\",\"E\",\"F\"]\n",
    "print(name[0: :3])"
   ]
  },
  {
   "cell_type": "code",
   "execution_count": 136,
   "id": "6a17eb77",
   "metadata": {},
   "outputs": [
    {
     "name": "stdout",
     "output_type": "stream",
     "text": [
      "['A', 'D']\n"
     ]
    }
   ],
   "source": [
    "name = [\"A\",\"B\",\"C\",\"D\",\"E\",\"F\"]\n",
    "print(name[ :7:3])"
   ]
  },
  {
   "cell_type": "code",
   "execution_count": 137,
   "id": "84f9162c",
   "metadata": {},
   "outputs": [
    {
     "name": "stdout",
     "output_type": "stream",
     "text": [
      "['A', 'D']\n"
     ]
    }
   ],
   "source": [
    "name = [\"A\",\"B\",\"C\",\"D\",\"E\",\"F\"]\n",
    "print(name[ : :3])"
   ]
  },
  {
   "cell_type": "code",
   "execution_count": 138,
   "id": "bc5b1908",
   "metadata": {},
   "outputs": [
    {
     "name": "stdout",
     "output_type": "stream",
     "text": [
      "A\n"
     ]
    }
   ],
   "source": [
    "name = [\"A\",\"B\",\"C\",\"D\",\"E\",\"F\"]\n",
    "print(name[-6])"
   ]
  },
  {
   "cell_type": "code",
   "execution_count": 139,
   "id": "90ac9a7b",
   "metadata": {},
   "outputs": [
    {
     "name": "stdout",
     "output_type": "stream",
     "text": [
      "A\n"
     ]
    }
   ],
   "source": [
    "name = [\"A\",\"B\",\"C\",\"D\",\"E\",\"F\"]\n",
    "print(name[-0])"
   ]
  },
  {
   "cell_type": "code",
   "execution_count": 140,
   "id": "f699b733",
   "metadata": {},
   "outputs": [
    {
     "name": "stdout",
     "output_type": "stream",
     "text": [
      "F\n"
     ]
    }
   ],
   "source": [
    "name = [\"A\",\"B\",\"C\",\"D\",\"E\",\"F\"]\n",
    "print(name[-1])"
   ]
  },
  {
   "cell_type": "code",
   "execution_count": 141,
   "id": "4709a35c",
   "metadata": {},
   "outputs": [
    {
     "name": "stdout",
     "output_type": "stream",
     "text": [
      "D\n"
     ]
    }
   ],
   "source": [
    "name = [\"A\",\"B\",\"C\",\"D\",\"E\",\"F\"]\n",
    "print(name[-3])"
   ]
  },
  {
   "cell_type": "code",
   "execution_count": 142,
   "id": "f94daa4d",
   "metadata": {},
   "outputs": [
    {
     "name": "stdout",
     "output_type": "stream",
     "text": [
      "<class 'list'>\n"
     ]
    }
   ],
   "source": [
    "name = [\"A\",\"B\",\"C\",\"D\",\"E\",\"F\"]\n",
    "print(type(name))"
   ]
  },
  {
   "cell_type": "code",
   "execution_count": 144,
   "id": "0f937874",
   "metadata": {},
   "outputs": [
    {
     "name": "stdout",
     "output_type": "stream",
     "text": [
      "['A', 'B', 'C', 'D', 'E', 'F']\n",
      "['A', 'DOG', 'C', 'D', 'E', 'F']\n"
     ]
    }
   ],
   "source": [
    "name = [\"A\",\"B\",\"C\",\"D\",\"E\",\"F\"]\n",
    "print(name)\n",
    "name[1]=\"DOG\"\n",
    "print(name)"
   ]
  },
  {
   "cell_type": "code",
   "execution_count": 145,
   "id": "1d06e1a7",
   "metadata": {},
   "outputs": [
    {
     "name": "stdout",
     "output_type": "stream",
     "text": [
      "['A', 'B', 'C', 'D', 'E', 'F']\n",
      "['A', 'B', 'Doll', 'D', 'E', 'F']\n"
     ]
    }
   ],
   "source": [
    "name = [\"A\",\"B\",\"C\",\"D\",\"E\",\"F\"]\n",
    "print(name)\n",
    "name[2]=\"Doll\"\n",
    "print(name)"
   ]
  },
  {
   "cell_type": "code",
   "execution_count": 146,
   "id": "e160f59c",
   "metadata": {},
   "outputs": [
    {
     "name": "stdout",
     "output_type": "stream",
     "text": [
      "['A', 'B', 'C', 'D', 'E', 'F']\n",
      "Enter the name:lion\n",
      "['A', 'B', 'C', 'D', 'E', 'F', 'lion']\n"
     ]
    }
   ],
   "source": [
    "name = [\"A\",\"B\",\"C\",\"D\",\"E\",\"F\"]\n",
    "print(name)\n",
    "name.append(input(\"Enter the name:\"))\n",
    "print(name)"
   ]
  },
  {
   "cell_type": "code",
   "execution_count": 147,
   "id": "3c71a25e",
   "metadata": {},
   "outputs": [
    {
     "name": "stdout",
     "output_type": "stream",
     "text": [
      "['A', 'B', 'C', 'D', 'E', 'F']\n",
      "['A', 'B', 'C', 'D', 'E', 'F', 'sita']\n"
     ]
    }
   ],
   "source": [
    "name = [\"A\",\"B\",\"C\",\"D\",\"E\",\"F\"]\n",
    "print(name)\n",
    "name.append(\"sita\")\n",
    "print(name)"
   ]
  },
  {
   "cell_type": "code",
   "execution_count": 148,
   "id": "ba2eea02",
   "metadata": {},
   "outputs": [
    {
     "name": "stdout",
     "output_type": "stream",
     "text": [
      "['A', 'B', 'C', 'D', 'E', 'F']\n",
      "Enter the res:jitendra\n",
      "['A', 'B', 'C', 'D', 'E', 'F', 'jitendra']\n"
     ]
    }
   ],
   "source": [
    "name = [\"A\",\"B\",\"C\",\"D\",\"E\",\"F\"]\n",
    "print(name)\n",
    "res = input(\"Enter the res:\")\n",
    "name.append(res)\n",
    "print(name)"
   ]
  },
  {
   "cell_type": "code",
   "execution_count": 150,
   "id": "2a43744d",
   "metadata": {},
   "outputs": [
    {
     "name": "stdout",
     "output_type": "stream",
     "text": [
      "['A', 'B', 'C', 'D', 'E', 'F']\n",
      "['A', 'B', 'C', 'D', 'E', 'F', 'ram', 'sita']\n"
     ]
    }
   ],
   "source": [
    "name = [\"A\",\"B\",\"C\",\"D\",\"E\",\"F\"]\n",
    "print(name)\n",
    "name.append(\"ram\")\n",
    "name.append(\"sita\")\n",
    "print(name)"
   ]
  },
  {
   "cell_type": "code",
   "execution_count": 151,
   "id": "60dd1c29",
   "metadata": {},
   "outputs": [
    {
     "name": "stdout",
     "output_type": "stream",
     "text": [
      "Enter the 1 name:\n",
      "jitendra\n",
      "Enter the 2 name:\n",
      "sita\n",
      "Enter the 3 name:\n",
      "pooja \n",
      "['jitendra', 'sita', 'pooja ']\n"
     ]
    }
   ],
   "source": [
    "my_list = []\n",
    "for i in range (1,4):\n",
    "    print(\"Enter the\",i,\"name:\")\n",
    "    res = input()\n",
    "    my_list.append(res)\n",
    "print(my_list)"
   ]
  },
  {
   "cell_type": "code",
   "execution_count": 152,
   "id": "62259942",
   "metadata": {},
   "outputs": [
    {
     "name": "stdout",
     "output_type": "stream",
     "text": [
      "10\n"
     ]
    }
   ],
   "source": [
    "list1 = [10,20,30,40,50,60,70,80,90,100]\n",
    "print(min(list1))"
   ]
  },
  {
   "cell_type": "code",
   "execution_count": 153,
   "id": "a2bf87d2",
   "metadata": {},
   "outputs": [
    {
     "name": "stdout",
     "output_type": "stream",
     "text": [
      "100\n"
     ]
    }
   ],
   "source": [
    "list1 = [10,20,30,40,50,60,70,80,90,100]\n",
    "print(max(list1))"
   ]
  },
  {
   "cell_type": "code",
   "execution_count": 156,
   "id": "ac961de5",
   "metadata": {},
   "outputs": [
    {
     "name": "stdout",
     "output_type": "stream",
     "text": [
      "3\n"
     ]
    }
   ],
   "source": [
    "list1 = [10,20,30,40,50,60,70,80,90,10,10]\n",
    "res = list1.count(10)\n",
    "print(res)"
   ]
  },
  {
   "cell_type": "code",
   "execution_count": 158,
   "id": "468b9c56",
   "metadata": {},
   "outputs": [
    {
     "name": "stdout",
     "output_type": "stream",
     "text": [
      "[]\n"
     ]
    }
   ],
   "source": [
    "list1 = [10,20,30,40,50,60,70,80,90,10,10]\n",
    "list1.clear()\n",
    "print(list1)"
   ]
  },
  {
   "cell_type": "code",
   "execution_count": 164,
   "id": "7ab26d61",
   "metadata": {},
   "outputs": [
    {
     "name": "stdout",
     "output_type": "stream",
     "text": [
      "[10, 20, 30, 40, 50, 60, 70, 80, 90, 10, 10, 10, 20, 30]\n"
     ]
    }
   ],
   "source": [
    "list1 = [10,20,30,40,50,60,70,80,90,10,10]\n",
    "list2 = [10,20,30]\n",
    "res = list1\n",
    "res.extend(list2)\n",
    "print(res)"
   ]
  },
  {
   "cell_type": "code",
   "execution_count": 165,
   "id": "7c4e2df4",
   "metadata": {},
   "outputs": [
    {
     "name": "stdout",
     "output_type": "stream",
     "text": [
      "[10, 20, 30, 40, 50, 60, 70, 80, 90, 10, 10, 'Rahul', 'Sital', 'Neha']\n"
     ]
    }
   ],
   "source": [
    "list1 = [10,20,30,40,50,60,70,80,90,10,10]\n",
    "list2 = [\"Rahul\",\"Sital\",\"Neha\"]\n",
    "res = list1\n",
    "res.extend(list2)\n",
    "print(res)"
   ]
  },
  {
   "cell_type": "code",
   "execution_count": 166,
   "id": "1f542dd6",
   "metadata": {},
   "outputs": [
    {
     "name": "stdout",
     "output_type": "stream",
     "text": [
      "[10, 20, 500, 40, 50, 60, 70, 80, 90, 10, 10]\n",
      "[10, 20, 500, 40, 50, 60, 70, 80, 90, 10, 10]\n"
     ]
    }
   ],
   "source": [
    "list1 = [10,20,30,40,50,60,70,80,90,10,10]\n",
    "list2 = list1\n",
    "list2[2]=500\n",
    "print(list1)\n",
    "print(list2)"
   ]
  },
  {
   "cell_type": "code",
   "execution_count": 167,
   "id": "84db6e17",
   "metadata": {},
   "outputs": [
    {
     "name": "stdout",
     "output_type": "stream",
     "text": [
      "[10, 20, 30, 40, 50, 60, 70, 80, 90, 10, 10]\n",
      "[10, 20, 500, 40, 50, 60, 70, 80, 90, 10, 10]\n"
     ]
    }
   ],
   "source": [
    "list1 = [10,20,30,40,50,60,70,80,90,10,10]\n",
    "list2 = list1.copy()\n",
    "list2[2]=500\n",
    "print(list1)\n",
    "print(list2)"
   ]
  },
  {
   "cell_type": "code",
   "execution_count": 168,
   "id": "c3f60e17",
   "metadata": {},
   "outputs": [
    {
     "name": "stdout",
     "output_type": "stream",
     "text": [
      "[10, 20, 30, 40, 50, 60, 70, 80, 90, 10, 10]\n",
      "[200, 300, 400]\n",
      "[10, 20, 30, 40, 50, 60, 70, 80, 90, 10, 10, 200, 300, 400]\n"
     ]
    }
   ],
   "source": [
    "list1 = [10,20,30,40,50,60,70,80,90,10,10]\n",
    "list2 = [200,300,400]\n",
    "res = list1.copy()\n",
    "res.extend(list2)\n",
    "print(list1)\n",
    "print(list2)\n",
    "print(res)"
   ]
  },
  {
   "cell_type": "code",
   "execution_count": 169,
   "id": "6cb50370",
   "metadata": {},
   "outputs": [
    {
     "name": "stdout",
     "output_type": "stream",
     "text": [
      "[10, 20, 30, 40, 50, 60, 70, 80, 90, 10, 10, 200, 300, 400]\n",
      "[200, 300, 400]\n",
      "[10, 20, 30, 40, 50, 60, 70, 80, 90, 10, 10, 200, 300, 400]\n"
     ]
    }
   ],
   "source": [
    "list1 = [10,20,30,40,50,60,70,80,90,10,10]\n",
    "list2 = [200,300,400]\n",
    "res = list1\n",
    "res.extend(list2)\n",
    "print(list1)\n",
    "print(list2)\n",
    "print(res)"
   ]
  },
  {
   "cell_type": "code",
   "execution_count": 171,
   "id": "3cae717d",
   "metadata": {},
   "outputs": [
    {
     "name": "stdout",
     "output_type": "stream",
     "text": [
      "1\n"
     ]
    }
   ],
   "source": [
    "list1 = [10,20,30,40,50,60,70,80,90,10,10]\n",
    "res = list1.index(20)\n",
    "print(res)"
   ]
  },
  {
   "cell_type": "code",
   "execution_count": 172,
   "id": "8b2196be",
   "metadata": {},
   "outputs": [
    {
     "name": "stdout",
     "output_type": "stream",
     "text": [
      "0\n"
     ]
    }
   ],
   "source": [
    "list1 = [\"Rahul\",\"pooja\",\"sital\",\"neha\",\"neetu\"]\n",
    "res = list1.index(\"Rahul\")\n",
    "print(res)"
   ]
  },
  {
   "cell_type": "code",
   "execution_count": 173,
   "id": "90dcaada",
   "metadata": {},
   "outputs": [
    {
     "name": "stdout",
     "output_type": "stream",
     "text": [
      "1\n"
     ]
    }
   ],
   "source": [
    "list1 = [\"Rahul\",\"pooja\",\"sital\",\"neha\",\"neetu\"]\n",
    "res = list1.index(\"pooja\")\n",
    "print(res)"
   ]
  },
  {
   "cell_type": "code",
   "execution_count": 174,
   "id": "b2b6977c",
   "metadata": {},
   "outputs": [
    {
     "name": "stdout",
     "output_type": "stream",
     "text": [
      "2\n"
     ]
    }
   ],
   "source": [
    "list1 = [\"Rahul\",\"pooja\",\"sital\",\"neha\",\"neetu\"]\n",
    "res = list1.index(\"sital\")\n",
    "print(res)"
   ]
  },
  {
   "cell_type": "code",
   "execution_count": 176,
   "id": "ed7f4dca",
   "metadata": {},
   "outputs": [
    {
     "name": "stdout",
     "output_type": "stream",
     "text": [
      "['rekha', 'Rahul', 'pooja', 'sital', 'neha', 'neetu']\n"
     ]
    }
   ],
   "source": [
    "list1 = [\"Rahul\",\"pooja\",\"sital\",\"neha\",\"neetu\"]\n",
    "list1.insert(0,\"rekha\")\n",
    "print(list1)"
   ]
  },
  {
   "cell_type": "code",
   "execution_count": 178,
   "id": "838b2eea",
   "metadata": {},
   "outputs": [
    {
     "name": "stdout",
     "output_type": "stream",
     "text": [
      "['Rahul', 'pooja', 'Raaju', 'sital', 'neha', 'neetu']\n"
     ]
    }
   ],
   "source": [
    "list1 = [\"Rahul\",\"pooja\",\"sital\",\"neha\",\"neetu\"]\n",
    "list1.insert(2,\"Raaju\")\n",
    "print(list1)"
   ]
  },
  {
   "cell_type": "code",
   "execution_count": 179,
   "id": "44cd66be",
   "metadata": {},
   "outputs": [
    {
     "name": "stdout",
     "output_type": "stream",
     "text": [
      "['Rahul', 'pooja', 'neha', 'neetu']\n"
     ]
    }
   ],
   "source": [
    "list1 = [\"Rahul\",\"pooja\",\"sital\",\"neha\",\"neetu\"]\n",
    "list1.pop(2)\n",
    "print(list1)"
   ]
  },
  {
   "cell_type": "code",
   "execution_count": 181,
   "id": "9e8c8b47",
   "metadata": {},
   "outputs": [
    {
     "name": "stdout",
     "output_type": "stream",
     "text": [
      "['pooja', 'sital', 'neha', 'neetu']\n"
     ]
    }
   ],
   "source": [
    "list1 = [\"Rahul\",\"pooja\",\"sital\",\"neha\",\"neetu\"]\n",
    "list1.remove(\"Rahul\")\n",
    "print(list1)"
   ]
  },
  {
   "cell_type": "code",
   "execution_count": 183,
   "id": "d15d6207",
   "metadata": {},
   "outputs": [
    {
     "name": "stdout",
     "output_type": "stream",
     "text": [
      "[10, 10, 10, 20, 30, 40, 50, 60, 70, 80, 90]\n"
     ]
    }
   ],
   "source": [
    "list1 = [10,20,30,40,50,60,70,80,90,10,10]\n",
    "list1.sort()\n",
    "print(list1)"
   ]
  },
  {
   "cell_type": "code",
   "execution_count": 185,
   "id": "87114e74",
   "metadata": {},
   "outputs": [
    {
     "name": "stdout",
     "output_type": "stream",
     "text": [
      "[20, 60, 100, 130, 170, 280, 420, 490, 540]\n"
     ]
    }
   ],
   "source": [
    "num = [100,20,130,420,540,60,170,280,490]\n",
    "num.sort()\n",
    "print(num)"
   ]
  },
  {
   "cell_type": "code",
   "execution_count": 187,
   "id": "c2ddfff2",
   "metadata": {},
   "outputs": [
    {
     "name": "stdout",
     "output_type": "stream",
     "text": [
      "[540, 490, 420, 280, 170, 130, 100, 60, 20]\n"
     ]
    }
   ],
   "source": [
    "num = [100,20,130,420,540,60,170,280,490]\n",
    "num.sort(reverse=True)\n",
    "print(num)"
   ]
  },
  {
   "cell_type": "code",
   "execution_count": 188,
   "id": "17a18d64",
   "metadata": {},
   "outputs": [
    {
     "name": "stdout",
     "output_type": "stream",
     "text": [
      "[20, 60, 100, 130, 170, 280, 420, 490, 540]\n"
     ]
    }
   ],
   "source": [
    "num = [100,20,130,420,540,60,170,280,490]\n",
    "num.sort(reverse=False)\n",
    "print(num)"
   ]
  },
  {
   "cell_type": "code",
   "execution_count": 189,
   "id": "7d61302a",
   "metadata": {},
   "outputs": [
    {
     "name": "stdout",
     "output_type": "stream",
     "text": [
      "<class 'tuple'>\n"
     ]
    }
   ],
   "source": [
    "# Tuple:\n",
    "a = (1,2,3,4,5)\n",
    "print(type(a))"
   ]
  },
  {
   "cell_type": "code",
   "execution_count": 190,
   "id": "a09e48e4",
   "metadata": {},
   "outputs": [
    {
     "name": "stdout",
     "output_type": "stream",
     "text": [
      "(1, 2, 3, 4, 5, 8, 9, 0, 6, 4)\n"
     ]
    }
   ],
   "source": [
    "a = (1,2,3,4,5)\n",
    "b = (8,9,0,6,4)\n",
    "print(a+b)"
   ]
  },
  {
   "cell_type": "code",
   "execution_count": 191,
   "id": "3ef9d8fb",
   "metadata": {},
   "outputs": [
    {
     "name": "stdout",
     "output_type": "stream",
     "text": [
      "{}\n"
     ]
    }
   ],
   "source": [
    "a = {}\n",
    "print(a)"
   ]
  },
  {
   "cell_type": "code",
   "execution_count": 192,
   "id": "a3a7c65c",
   "metadata": {},
   "outputs": [
    {
     "name": "stdout",
     "output_type": "stream",
     "text": [
      "<class 'dict'>\n"
     ]
    }
   ],
   "source": [
    "a = {}\n",
    "print(type(a))"
   ]
  },
  {
   "cell_type": "code",
   "execution_count": 193,
   "id": "bda933a6",
   "metadata": {},
   "outputs": [
    {
     "name": "stdout",
     "output_type": "stream",
     "text": [
      "{101: 'Jitendra', 102: 'Rahul', 103: 'Sita'}\n"
     ]
    }
   ],
   "source": [
    "a = {101:\"Jitendra\",102:\"Rahul\",103:\"Sita\"}\n",
    "print(a)"
   ]
  },
  {
   "cell_type": "code",
   "execution_count": 194,
   "id": "64d03129",
   "metadata": {},
   "outputs": [
    {
     "name": "stdout",
     "output_type": "stream",
     "text": [
      "Rahul\n"
     ]
    }
   ],
   "source": [
    "a = {101:\"Jitendra\",102:\"Rahul\",103:\"Sita\"}\n",
    "print(a[102])"
   ]
  },
  {
   "cell_type": "code",
   "execution_count": 195,
   "id": "735f3521",
   "metadata": {},
   "outputs": [
    {
     "name": "stdout",
     "output_type": "stream",
     "text": [
      "dict_keys([101, 102, 103])\n"
     ]
    }
   ],
   "source": [
    "a = {101:\"Jitendra\",102:\"Rahul\",103:\"Sita\"}\n",
    "print(a.keys())"
   ]
  },
  {
   "cell_type": "code",
   "execution_count": 196,
   "id": "c2554322",
   "metadata": {},
   "outputs": [
    {
     "name": "stdout",
     "output_type": "stream",
     "text": [
      "dict_values(['Jitendra', 'Rahul', 'Sita'])\n"
     ]
    }
   ],
   "source": [
    "a = {101:\"Jitendra\",102:\"Rahul\",103:\"Sita\"}\n",
    "print(a.values())"
   ]
  },
  {
   "cell_type": "code",
   "execution_count": 198,
   "id": "9e2ce241",
   "metadata": {},
   "outputs": [
    {
     "name": "stdout",
     "output_type": "stream",
     "text": [
      "Enter the key:104\n",
      "Enter the value: lion\n",
      "{101: 'Jitendra', 102: 'Rahul', 103: 'Sita', 104: 'lion'}\n"
     ]
    }
   ],
   "source": [
    "a = {101:\"Jitendra\",102:\"Rahul\",103:\"Sita\"}\n",
    "key = int(input(\"Enter the key:\"))\n",
    "value = input(\"Enter the value: \")\n",
    "a[key]=value\n",
    "print(a)"
   ]
  },
  {
   "cell_type": "code",
   "execution_count": 199,
   "id": "781766cb",
   "metadata": {},
   "outputs": [
    {
     "name": "stdout",
     "output_type": "stream",
     "text": [
      "Enter the Key: 104\n",
      "Enter the value: tiger\n",
      "{101: 'Jitendra', 102: 'Rahul', 103: 'Sita', 104: 'tiger'}\n"
     ]
    }
   ],
   "source": [
    "a = {101:\"Jitendra\",102:\"Rahul\",103:\"Sita\"}\n",
    "key = int(input(\"Enter the Key: \"))\n",
    "value = input(\"Enter the value: \")\n",
    "a[key] = value \n",
    "print(a)"
   ]
  },
  {
   "cell_type": "code",
   "execution_count": 200,
   "id": "5a16de78",
   "metadata": {},
   "outputs": [
    {
     "name": "stdout",
     "output_type": "stream",
     "text": [
      "{103: 'Sita'}\n"
     ]
    }
   ],
   "source": [
    "a = {101:\"Jitendra\",102:\"Rahul\",103:\"Sita\"}\n",
    "del a[101]\n",
    "del a[102]\n",
    "print(a)"
   ]
  },
  {
   "cell_type": "code",
   "execution_count": 201,
   "id": "ac6addb4",
   "metadata": {},
   "outputs": [
    {
     "name": "stdout",
     "output_type": "stream",
     "text": [
      "{101: 'Jitendra', 102: 'Rahul', 103: 'Sita', 106: 'king'}\n"
     ]
    }
   ],
   "source": [
    "a = {101:\"Jitendra\",102:\"Rahul\",103:\"Sita\"}\n",
    "a.update({106:\"king\"})\n",
    "print(a)"
   ]
  },
  {
   "cell_type": "code",
   "execution_count": 202,
   "id": "a96fb40b",
   "metadata": {},
   "outputs": [
    {
     "name": "stdout",
     "output_type": "stream",
     "text": [
      "{101: 'lion', 102: 'Tiger', 103: 'Reeta'}\n"
     ]
    }
   ],
   "source": [
    "a = {101:\"lion\"}\n",
    "b = {102:\"Tiger\"}\n",
    "c = {103:\"Reeta\"}\n",
    "d = {}\n",
    "d.update(a)\n",
    "d.update(b)\n",
    "d.update(c)\n",
    "d.update(d)\n",
    "print(d)"
   ]
  },
  {
   "cell_type": "code",
   "execution_count": null,
   "id": "e4475d2a",
   "metadata": {},
   "outputs": [],
   "source": []
  }
 ],
 "metadata": {
  "kernelspec": {
   "display_name": "Python 3 (ipykernel)",
   "language": "python",
   "name": "python3"
  },
  "language_info": {
   "codemirror_mode": {
    "name": "ipython",
    "version": 3
   },
   "file_extension": ".py",
   "mimetype": "text/x-python",
   "name": "python",
   "nbconvert_exporter": "python",
   "pygments_lexer": "ipython3",
   "version": "3.11.3"
  }
 },
 "nbformat": 4,
 "nbformat_minor": 5
}
