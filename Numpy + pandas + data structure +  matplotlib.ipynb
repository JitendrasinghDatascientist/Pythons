{
 "cells": [
  {
   "cell_type": "code",
   "execution_count": 1,
   "id": "63337231",
   "metadata": {},
   "outputs": [
    {
     "name": "stdout",
     "output_type": "stream",
     "text": [
      "{1, 2, 3, 4, 5, 6, 7}\n"
     ]
    }
   ],
   "source": [
    "#Set:\n",
    "a = {1,2,3,4,5,6,7}\n",
    "print(a)"
   ]
  },
  {
   "cell_type": "code",
   "execution_count": 2,
   "id": "7d4cb88d",
   "metadata": {},
   "outputs": [
    {
     "name": "stdout",
     "output_type": "stream",
     "text": [
      "<class 'set'>\n"
     ]
    }
   ],
   "source": [
    "a = {1,2,3,4,5,6,7,8}\n",
    "print(type(a))"
   ]
  },
  {
   "cell_type": "code",
   "execution_count": 3,
   "id": "c333a947",
   "metadata": {},
   "outputs": [
    {
     "name": "stdout",
     "output_type": "stream",
     "text": [
      "set()\n"
     ]
    }
   ],
   "source": [
    "a = {1,2,3,4,5,6,7}\n",
    "a.clear()\n",
    "print(a)"
   ]
  },
  {
   "cell_type": "code",
   "execution_count": 4,
   "id": "7b2474f6",
   "metadata": {},
   "outputs": [
    {
     "name": "stdout",
     "output_type": "stream",
     "text": [
      "{'Taniya', 'Radha', 'Pihu', 'neha', 'pooja', 'sita', 'Jitendra'}\n"
     ]
    }
   ],
   "source": [
    "a = {\"Jitendra\",\"pooja\",\"sita\",\"neha\",\"Radha\"}\n",
    "a.add(\"Taniya\")\n",
    "a.add(\"Pihu\")\n",
    "print(a)"
   ]
  },
  {
   "cell_type": "code",
   "execution_count": 5,
   "id": "d6277654",
   "metadata": {},
   "outputs": [
    {
     "name": "stdout",
     "output_type": "stream",
     "text": [
      "{'Neha', 'Rita', 'Shivam', 'jitendra', 'Priya', 'Anubhav', 'Kumar'}\n"
     ]
    }
   ],
   "source": [
    "a = {\"jitendra\",\"Kumar\",\"Shivam\",\"Neha\",\"Rita\"}\n",
    "a.add(\"Anubhav\")\n",
    "a.add(\"Priya\")\n",
    "print(a)"
   ]
  },
  {
   "cell_type": "code",
   "execution_count": 7,
   "id": "4711d99e",
   "metadata": {},
   "outputs": [
    {
     "name": "stdout",
     "output_type": "stream",
     "text": [
      "{'Neha', 'Rita', 'Shivam', 'jitendra', 'Priya', 'Kumar'}\n"
     ]
    }
   ],
   "source": [
    "a = {\"jitendra\",\"Kumar\",\"Shivam\",\"Neha\",\"Rita\"}\n",
    "a.add(\"Priya\")\n",
    "print(a)"
   ]
  },
  {
   "cell_type": "code",
   "execution_count": 9,
   "id": "66adb5aa",
   "metadata": {},
   "outputs": [
    {
     "name": "stdout",
     "output_type": "stream",
     "text": [
      "{4000, 5000, 1000, 6000, 2000, 3000, 7000}\n"
     ]
    }
   ],
   "source": [
    "a = {1000,2000,3000,4000,5000,6000,7000}\n",
    "b = {2000,3000,4000}\n",
    "a.update(b)\n",
    "print(a)"
   ]
  },
  {
   "cell_type": "code",
   "execution_count": 10,
   "id": "c273fd30",
   "metadata": {},
   "outputs": [
    {
     "name": "stdout",
     "output_type": "stream",
     "text": [
      "{'lion', 'neha', 'cat', 'dog', 'pooja', 'tiger', 'sita'}\n"
     ]
    }
   ],
   "source": [
    "a = {\"lion\",\"tiger\",\"cat\",\"dog\"}\n",
    "b = {\"sita\",\"neha\",\"pooja\"}\n",
    "a.update(b)\n",
    "print(a)"
   ]
  },
  {
   "cell_type": "code",
   "execution_count": 12,
   "id": "814cc4bd",
   "metadata": {},
   "outputs": [
    {
     "name": "stdout",
     "output_type": "stream",
     "text": [
      "{'pihu', 'pooja', 'lion'}\n"
     ]
    }
   ],
   "source": [
    "name = {\"lion\",\"pooja\",\"pihu\",\"kumar\"}\n",
    "name.pop()\n",
    "print(name)"
   ]
  },
  {
   "cell_type": "code",
   "execution_count": 13,
   "id": "3789cb09",
   "metadata": {},
   "outputs": [
    {
     "name": "stdout",
     "output_type": "stream",
     "text": [
      "{'kumar', 'pihu', 'pooja'}\n"
     ]
    }
   ],
   "source": [
    "name = {\"lion\",\"pooja\",\"pihu\",\"kumar\"}\n",
    "name.remove(\"lion\")\n",
    "print(name)"
   ]
  },
  {
   "cell_type": "code",
   "execution_count": 14,
   "id": "c5dc1e92",
   "metadata": {},
   "outputs": [
    {
     "name": "stdout",
     "output_type": "stream",
     "text": [
      "{'babita', 'orange', 'sita'}\n"
     ]
    }
   ],
   "source": [
    "name = {\"rita\",\"sita\",\"babita\",\"orange\"}\n",
    "name.remove(\"rita\")\n",
    "print(name)"
   ]
  },
  {
   "cell_type": "code",
   "execution_count": 15,
   "id": "a6b672ec",
   "metadata": {},
   "outputs": [
    {
     "name": "stdout",
     "output_type": "stream",
     "text": [
      "{'kumar', 'komal', 'orange', 'kitoo', 'Pihu'}\n"
     ]
    }
   ],
   "source": [
    "A = {\"kumar\",\"kitoo\",\"komal\"}\n",
    "B = {\"orange\",\"Pihu\",\"komal\"}\n",
    "res = A.union(B)\n",
    "print(res)"
   ]
  },
  {
   "cell_type": "code",
   "execution_count": 16,
   "id": "4b51fb7a",
   "metadata": {},
   "outputs": [
    {
     "name": "stdout",
     "output_type": "stream",
     "text": [
      "{'komal'}\n"
     ]
    }
   ],
   "source": [
    "A = {\"kumar\",\"kitoo\",\"komal\"}\n",
    "B = {\"orange\",\"Pihu\",\"komal\"}\n",
    "res = A.intersection(B)\n",
    "print(res)"
   ]
  },
  {
   "cell_type": "code",
   "execution_count": 17,
   "id": "55e3cf43",
   "metadata": {},
   "outputs": [
    {
     "name": "stdout",
     "output_type": "stream",
     "text": [
      "False\n"
     ]
    }
   ],
   "source": [
    "A = {\"kumar\",\"kitoo\",\"komal\"}\n",
    "B = {\"orange\",\"Pihu\",\"komal\"}\n",
    "res = A.isdisjoint(B)\n",
    "print(res)"
   ]
  },
  {
   "cell_type": "code",
   "execution_count": 18,
   "id": "a158cf76",
   "metadata": {},
   "outputs": [
    {
     "name": "stdout",
     "output_type": "stream",
     "text": [
      "{'kumar', 'kitoo'}\n"
     ]
    }
   ],
   "source": [
    "A = {\"kumar\",\"kitoo\",\"komal\"}\n",
    "B = {\"orange\",\"Pihu\",\"komal\"}\n",
    "res = A.difference(B)\n",
    "print(res)"
   ]
  },
  {
   "cell_type": "code",
   "execution_count": 19,
   "id": "8063b017",
   "metadata": {},
   "outputs": [
    {
     "name": "stdout",
     "output_type": "stream",
     "text": [
      "{1, 2, 4, 5, 6, 7}\n"
     ]
    }
   ],
   "source": [
    "a = {1,2,3,4,5,6,7}\n",
    "a.discard(3)\n",
    "print(a)"
   ]
  },
  {
   "cell_type": "code",
   "execution_count": 20,
   "id": "0e1cb50d",
   "metadata": {},
   "outputs": [
    {
     "name": "stdout",
     "output_type": "stream",
     "text": [
      "{1, 2, 3, 4, 5, 6, 7}\n"
     ]
    }
   ],
   "source": [
    "a = {1,2,3,4,5,6,7}\n",
    "a.discard(30)\n",
    "print(a)"
   ]
  },
  {
   "cell_type": "code",
   "execution_count": 21,
   "id": "abbce41f",
   "metadata": {},
   "outputs": [
    {
     "ename": "KeyError",
     "evalue": "30",
     "output_type": "error",
     "traceback": [
      "\u001b[1;31m---------------------------------------------------------------------------\u001b[0m",
      "\u001b[1;31mKeyError\u001b[0m                                  Traceback (most recent call last)",
      "Cell \u001b[1;32mIn[21], line 2\u001b[0m\n\u001b[0;32m      1\u001b[0m a \u001b[38;5;241m=\u001b[39m {\u001b[38;5;241m1\u001b[39m,\u001b[38;5;241m2\u001b[39m,\u001b[38;5;241m3\u001b[39m,\u001b[38;5;241m4\u001b[39m,\u001b[38;5;241m5\u001b[39m,\u001b[38;5;241m6\u001b[39m,\u001b[38;5;241m7\u001b[39m}\n\u001b[1;32m----> 2\u001b[0m a\u001b[38;5;241m.\u001b[39mremove(\u001b[38;5;241m30\u001b[39m)\n\u001b[0;32m      3\u001b[0m \u001b[38;5;28mprint\u001b[39m(a)\n",
      "\u001b[1;31mKeyError\u001b[0m: 30"
     ]
    }
   ],
   "source": [
    "a = {1,2,3,4,5,6,7}\n",
    "a.remove(30)\n",
    "print(a)"
   ]
  },
  {
   "cell_type": "code",
   "execution_count": 22,
   "id": "d7af4d22",
   "metadata": {},
   "outputs": [
    {
     "name": "stdout",
     "output_type": "stream",
     "text": [
      "{1, 2, 3, 4, 5, 6, 7}\n",
      "Hello world\n"
     ]
    }
   ],
   "source": [
    "a = {1,2,3,4,5,6,7}\n",
    "a.discard(30)\n",
    "print(a)\n",
    "print(\"Hello world\")"
   ]
  },
  {
   "cell_type": "code",
   "execution_count": 24,
   "id": "af42afca",
   "metadata": {},
   "outputs": [
    {
     "ename": "KeyError",
     "evalue": "30",
     "output_type": "error",
     "traceback": [
      "\u001b[1;31m---------------------------------------------------------------------------\u001b[0m",
      "\u001b[1;31mKeyError\u001b[0m                                  Traceback (most recent call last)",
      "Cell \u001b[1;32mIn[24], line 2\u001b[0m\n\u001b[0;32m      1\u001b[0m a \u001b[38;5;241m=\u001b[39m {\u001b[38;5;241m1\u001b[39m,\u001b[38;5;241m2\u001b[39m,\u001b[38;5;241m3\u001b[39m,\u001b[38;5;241m4\u001b[39m,\u001b[38;5;241m5\u001b[39m,\u001b[38;5;241m6\u001b[39m,\u001b[38;5;241m7\u001b[39m}\n\u001b[1;32m----> 2\u001b[0m a\u001b[38;5;241m.\u001b[39mremove(\u001b[38;5;241m30\u001b[39m)\n\u001b[0;32m      3\u001b[0m \u001b[38;5;28mprint\u001b[39m(a)\n\u001b[0;32m      4\u001b[0m \u001b[38;5;28mprint\u001b[39m(\u001b[38;5;124m\"\u001b[39m\u001b[38;5;124mHello World\u001b[39m\u001b[38;5;124m\"\u001b[39m)\n",
      "\u001b[1;31mKeyError\u001b[0m: 30"
     ]
    }
   ],
   "source": [
    "a = {1,2,3,4,5,6,7}\n",
    "a.remove(30)\n",
    "print(a)\n",
    "print(\"Hello World\")"
   ]
  },
  {
   "cell_type": "code",
   "execution_count": 25,
   "id": "e199f662",
   "metadata": {},
   "outputs": [
    {
     "ename": "TypeError",
     "evalue": "'set' object does not support item assignment",
     "output_type": "error",
     "traceback": [
      "\u001b[1;31m---------------------------------------------------------------------------\u001b[0m",
      "\u001b[1;31mTypeError\u001b[0m                                 Traceback (most recent call last)",
      "Cell \u001b[1;32mIn[25], line 2\u001b[0m\n\u001b[0;32m      1\u001b[0m num \u001b[38;5;241m=\u001b[39m {\u001b[38;5;241m1\u001b[39m,\u001b[38;5;241m2\u001b[39m,\u001b[38;5;241m3\u001b[39m,\u001b[38;5;241m4\u001b[39m,\u001b[38;5;241m5\u001b[39m,\u001b[38;5;241m6\u001b[39m}\n\u001b[1;32m----> 2\u001b[0m num[\u001b[38;5;241m2\u001b[39m]\u001b[38;5;241m=\u001b[39m\u001b[38;5;124m\"\u001b[39m\u001b[38;5;124mJitendra\u001b[39m\u001b[38;5;124m\"\u001b[39m\n\u001b[0;32m      3\u001b[0m \u001b[38;5;28mprint\u001b[39m(num)\n",
      "\u001b[1;31mTypeError\u001b[0m: 'set' object does not support item assignment"
     ]
    }
   ],
   "source": [
    "num = {1,2,3,4,5,6}\n",
    "num[2]=\"Jitendra\"\n",
    "print(num)"
   ]
  },
  {
   "cell_type": "code",
   "execution_count": 26,
   "id": "d39e2549",
   "metadata": {},
   "outputs": [
    {
     "name": "stdout",
     "output_type": "stream",
     "text": [
      "1\n",
      "2\n",
      "3\n",
      "4\n",
      "5\n",
      "6\n"
     ]
    }
   ],
   "source": [
    "a = {1,2,3,4,5,6}\n",
    "for i in a:\n",
    "    print(i)"
   ]
  },
  {
   "cell_type": "code",
   "execution_count": 27,
   "id": "6acadd79",
   "metadata": {},
   "outputs": [
    {
     "name": "stdout",
     "output_type": "stream",
     "text": [
      "1\n",
      "2\n",
      "3\n",
      "4\n",
      "5\n",
      "6\n"
     ]
    }
   ],
   "source": [
    "a = [1,2,3,4,5,6]\n",
    "for i in a:\n",
    "    print(i)"
   ]
  },
  {
   "cell_type": "code",
   "execution_count": 29,
   "id": "d2fe0111",
   "metadata": {},
   "outputs": [
    {
     "name": "stdout",
     "output_type": "stream",
     "text": [
      "1 ODD NUM\n",
      "2 Evne Num\n",
      "3 ODD NUM\n",
      "4 Evne Num\n",
      "5 ODD NUM\n",
      "6 Evne Num\n",
      "7 ODD NUM\n"
     ]
    }
   ],
   "source": [
    "a = {1,2,3,4,5,6,7}\n",
    "for i in a:\n",
    "    if i%2==0:\n",
    "        print(i,\"Evne Num\")\n",
    "    else:\n",
    "        print(i,\"ODD NUM\")"
   ]
  },
  {
   "cell_type": "code",
   "execution_count": 30,
   "id": "77778367",
   "metadata": {},
   "outputs": [
    {
     "name": "stdout",
     "output_type": "stream",
     "text": [
      "100\n",
      "40\n",
      "140\n",
      "80\n",
      "20\n",
      "120\n",
      "60\n"
     ]
    }
   ],
   "source": [
    "num = {10,20,30,40,50,60,70}\n",
    "for i in num:\n",
    "    if i%2==0:\n",
    "        print(i*2)\n",
    "    else:\n",
    "        print(i**2)"
   ]
  },
  {
   "cell_type": "code",
   "execution_count": 31,
   "id": "31b72a57",
   "metadata": {},
   "outputs": [
    {
     "name": "stdout",
     "output_type": "stream",
     "text": [
      "[2, 4, 6]\n"
     ]
    }
   ],
   "source": [
    "a = [1,2,3,4,5,6]\n",
    "s = []\n",
    "for i in a:\n",
    "    if i%2==0:\n",
    "        s.append(i)\n",
    "print(s)"
   ]
  },
  {
   "cell_type": "code",
   "execution_count": 32,
   "id": "bc79c2ac",
   "metadata": {},
   "outputs": [
    {
     "ename": "AttributeError",
     "evalue": "'dict' object has no attribute 'append'",
     "output_type": "error",
     "traceback": [
      "\u001b[1;31m---------------------------------------------------------------------------\u001b[0m",
      "\u001b[1;31mAttributeError\u001b[0m                            Traceback (most recent call last)",
      "Cell \u001b[1;32mIn[32], line 5\u001b[0m\n\u001b[0;32m      3\u001b[0m \u001b[38;5;28;01mfor\u001b[39;00m i \u001b[38;5;129;01min\u001b[39;00m a:\n\u001b[0;32m      4\u001b[0m     \u001b[38;5;28;01mif\u001b[39;00m i\u001b[38;5;241m%\u001b[39m\u001b[38;5;241m2\u001b[39m\u001b[38;5;241m==\u001b[39m\u001b[38;5;241m0\u001b[39m:\n\u001b[1;32m----> 5\u001b[0m         s\u001b[38;5;241m.\u001b[39mappend(i)\n\u001b[0;32m      6\u001b[0m \u001b[38;5;28mprint\u001b[39m(s)\n",
      "\u001b[1;31mAttributeError\u001b[0m: 'dict' object has no attribute 'append'"
     ]
    }
   ],
   "source": [
    "a = {10,20,30,40,50}\n",
    "s = {}\n",
    "for i in a:\n",
    "    if i%2==0:\n",
    "        s.append(i)\n",
    "print(s)"
   ]
  },
  {
   "cell_type": "code",
   "execution_count": 35,
   "id": "8407bce3",
   "metadata": {},
   "outputs": [
    {
     "name": "stdout",
     "output_type": "stream",
     "text": [
      "[10, 20, 30, 40, 50, 60]\n"
     ]
    }
   ],
   "source": [
    "a = [10,20,30,40,50,60]\n",
    "s = []\n",
    "for i in a:\n",
    "    if i%2==0:\n",
    "        s.append(i)\n",
    "print(s)"
   ]
  },
  {
   "cell_type": "code",
   "execution_count": 37,
   "id": "e9aa32c1",
   "metadata": {},
   "outputs": [
    {
     "name": "stdout",
     "output_type": "stream",
     "text": [
      "[202, 304]\n"
     ]
    }
   ],
   "source": [
    "a = [101,202,304,405,501,603]\n",
    "s = [i for i in a if i%2==0]\n",
    "print(s)"
   ]
  },
  {
   "cell_type": "code",
   "execution_count": 39,
   "id": "daccab52",
   "metadata": {},
   "outputs": [
    {
     "name": "stdout",
     "output_type": "stream",
     "text": [
      "[60]\n"
     ]
    }
   ],
   "source": [
    "a = [1,2,3,4,5,56,6]\n",
    "o = []\n",
    "o = []\n",
    "if i%2==0:\n",
    "    o.append(i)\n",
    "print(o)"
   ]
  },
  {
   "cell_type": "code",
   "execution_count": 43,
   "id": "f2d9eaa5",
   "metadata": {},
   "outputs": [
    {
     "name": "stdout",
     "output_type": "stream",
     "text": [
      "[2, 4, 6, 8, 8, 10, 12, 12]\n"
     ]
    }
   ],
   "source": [
    "a = [1,2,3,4,4,5,6,6]\n",
    "s = []\n",
    "for i in a:\n",
    "    s.append(i*2)\n",
    "print(s)"
   ]
  },
  {
   "cell_type": "code",
   "execution_count": 44,
   "id": "60040156",
   "metadata": {},
   "outputs": [
    {
     "name": "stdout",
     "output_type": "stream",
     "text": [
      "[2, 4, 6, 8, 10, 12, 14]\n"
     ]
    }
   ],
   "source": [
    "a = [1,2,3,4,5,6,7]\n",
    "s = [i*2 for i in a]\n",
    "print(s)"
   ]
  },
  {
   "cell_type": "code",
   "execution_count": 45,
   "id": "3159dbb4",
   "metadata": {},
   "outputs": [
    {
     "name": "stdout",
     "output_type": "stream",
     "text": [
      "[3, 4, 5, 6, 7, 8, 9]\n"
     ]
    }
   ],
   "source": [
    "a = [1,2,3,4,5,6,7]\n",
    "s = [i+2 for i in a]\n",
    "print(s)"
   ]
  },
  {
   "cell_type": "code",
   "execution_count": 46,
   "id": "f7274283",
   "metadata": {},
   "outputs": [
    {
     "name": "stdout",
     "output_type": "stream",
     "text": [
      "[-1, 0, 1, 2, 3, 4, 5]\n"
     ]
    }
   ],
   "source": [
    "a = [1,2,3,4,5,6,7]\n",
    "s = [i-2 for i in a]\n",
    "print(s)"
   ]
  },
  {
   "cell_type": "code",
   "execution_count": 47,
   "id": "3e365ac5",
   "metadata": {},
   "outputs": [
    {
     "name": "stdout",
     "output_type": "stream",
     "text": [
      "[1, 4, 9, 16, 25, 36, 49]\n"
     ]
    }
   ],
   "source": [
    "a = [1,2,3,4,5,6,7]\n",
    "s = [i**2 for i in a]\n",
    "print(s)"
   ]
  },
  {
   "cell_type": "code",
   "execution_count": 48,
   "id": "0e3e38d5",
   "metadata": {},
   "outputs": [
    {
     "name": "stdout",
     "output_type": "stream",
     "text": [
      "[1, 0, 1, 0, 1, 0, 1]\n"
     ]
    }
   ],
   "source": [
    "a = [1,2,3,4,5,6,7]\n",
    "s = [i%2 for i in a]\n",
    "print(s)"
   ]
  },
  {
   "cell_type": "code",
   "execution_count": 49,
   "id": "9f38f3fe",
   "metadata": {},
   "outputs": [
    {
     "name": "stdout",
     "output_type": "stream",
     "text": [
      "JITENDRA\n",
      "SITA\n",
      "RITA\n"
     ]
    }
   ],
   "source": [
    "name = [\"jitendra\",\"sita\",\"rita\"]\n",
    "for i in name:\n",
    "    res = i.upper()\n",
    "    print(res)"
   ]
  },
  {
   "cell_type": "code",
   "execution_count": 50,
   "id": "b35e3fde",
   "metadata": {},
   "outputs": [
    {
     "name": "stdout",
     "output_type": "stream",
     "text": [
      "JITENDRA\n",
      "RITA\n",
      "NEHA\n",
      "REKHA\n"
     ]
    }
   ],
   "source": [
    "name = [\"jitendra\",\"rita\",\"neha\",\"rekha\"]\n",
    "for i in name:\n",
    "    res = i.upper()\n",
    "    print(res)"
   ]
  },
  {
   "cell_type": "code",
   "execution_count": 51,
   "id": "3a13faa0",
   "metadata": {},
   "outputs": [
    {
     "name": "stdout",
     "output_type": "stream",
     "text": [
      "jitendra\n",
      "rita\n",
      "neha\n",
      "pooja\n",
      "pappu\n"
     ]
    }
   ],
   "source": [
    "name = [\"JITENDRA\",\"RITA\",\"NEHA\",\"POOJA\",\"PAPPU\"]\n",
    "for i in name:\n",
    "    res = i.lower()\n",
    "    print(res)"
   ]
  },
  {
   "cell_type": "code",
   "execution_count": 52,
   "id": "e41f6503",
   "metadata": {},
   "outputs": [
    {
     "name": "stdout",
     "output_type": "stream",
     "text": [
      "['jitendra', 'rita', 'neha', 'pooja', 'pappu']\n"
     ]
    }
   ],
   "source": [
    "name = [\"JITENDRA\",\"RITA\",\"NEHA\",\"POOJA\",\"PAPPU\"]\n",
    "res = [i.lower() for i in name ]\n",
    "print(res)"
   ]
  },
  {
   "cell_type": "code",
   "execution_count": 55,
   "id": "9ee1fce5",
   "metadata": {},
   "outputs": [
    {
     "name": "stdout",
     "output_type": "stream",
     "text": [
      "['JITENDRA', 'RITA', 'NEHA', 'POOJA', 'PAPPU']\n"
     ]
    }
   ],
   "source": [
    "name = ['jitendra', 'rita', 'neha', 'pooja', 'pappu']\n",
    "res = [i.upper() for i in name]\n",
    "print(res)"
   ]
  },
  {
   "cell_type": "code",
   "execution_count": 56,
   "id": "17b793a3",
   "metadata": {},
   "outputs": [
    {
     "name": "stdout",
     "output_type": "stream",
     "text": [
      "[6]\n"
     ]
    }
   ],
   "source": [
    "a = [1,2,3,4,5,6]\n",
    "b = [6,7,8,9,10]\n",
    "common = [i for i in a if i in b]\n",
    "print(common)"
   ]
  },
  {
   "cell_type": "code",
   "execution_count": 57,
   "id": "9fd36004",
   "metadata": {},
   "outputs": [
    {
     "name": "stdout",
     "output_type": "stream",
     "text": [
      "['rita']\n"
     ]
    }
   ],
   "source": [
    "a = [\"jitendra\",\"rita\",\"pihu\",\"neha\",\"rekha\"]\n",
    "b = [\"rita\",\"sita\",\"pooja\",\"kumar\"]\n",
    "common = [i for i in a if i in b]\n",
    "print(common)"
   ]
  },
  {
   "cell_type": "code",
   "execution_count": 58,
   "id": "8bdd6912",
   "metadata": {},
   "outputs": [
    {
     "name": "stdout",
     "output_type": "stream",
     "text": [
      "['rita']\n"
     ]
    }
   ],
   "source": [
    "a = [\"jitendra\",\"rita\",\"pihu\",\"neha\",\"rekha\"]\n",
    "b = [\"rita\",\"sita\",\"pooja\",\"kumar\"]\n",
    "c = []\n",
    "for i in a:\n",
    "    if i in b:\n",
    "        c.append(i)\n",
    "print(c)"
   ]
  },
  {
   "cell_type": "code",
   "execution_count": 59,
   "id": "3972910b",
   "metadata": {},
   "outputs": [
    {
     "name": "stdout",
     "output_type": "stream",
     "text": [
      "[8, 4, 4, 4, 5]\n"
     ]
    }
   ],
   "source": [
    "a = [\"jitendra\",\"rita\",\"pihu\",\"neha\",\"rekha\"]\n",
    "b = [len(i) for i in a]\n",
    "print(b)"
   ]
  },
  {
   "cell_type": "code",
   "execution_count": 60,
   "id": "cb111119",
   "metadata": {},
   "outputs": [
    {
     "name": "stdout",
     "output_type": "stream",
     "text": [
      "[8, 4, 4, 4, 5]\n"
     ]
    }
   ],
   "source": [
    "a = [\"jitendra\",\"rita\",\"pihu\",\"neha\",\"rekha\"]\n",
    "b = [len(i) for i in a]\n",
    "print(b)"
   ]
  },
  {
   "cell_type": "code",
   "execution_count": 62,
   "id": "f0cf0cdb",
   "metadata": {},
   "outputs": [
    {
     "name": "stdout",
     "output_type": "stream",
     "text": [
      "60000\n"
     ]
    }
   ],
   "source": [
    "sal = [10000,20000,30000]\n",
    "res = sum(sal)\n",
    "print(res)"
   ]
  },
  {
   "cell_type": "code",
   "execution_count": 65,
   "id": "94463b22",
   "metadata": {},
   "outputs": [
    {
     "name": "stdout",
     "output_type": "stream",
     "text": [
      "total salary: 1000000\n"
     ]
    }
   ],
   "source": [
    "sal = [100000,200000,300000,400000]\n",
    "res = sum(sal)\n",
    "print(\"total salary:\",res)"
   ]
  },
  {
   "cell_type": "code",
   "execution_count": 66,
   "id": "16486412",
   "metadata": {},
   "outputs": [
    {
     "name": "stdout",
     "output_type": "stream",
     "text": [
      "['total salary:', 5]\n"
     ]
    }
   ],
   "source": [
    "name = [\"jitendar\",\"neha\",\"pooja\",\"rekha\",\"rita\"]\n",
    "res = [\"total salary:\",len(name)]\n",
    "print(res)"
   ]
  },
  {
   "cell_type": "code",
   "execution_count": 70,
   "id": "ba935eb3",
   "metadata": {},
   "outputs": [
    {
     "ename": "TypeError",
     "evalue": "float() argument must be a string or a real number, not 'list'",
     "output_type": "error",
     "traceback": [
      "\u001b[1;31m---------------------------------------------------------------------------\u001b[0m",
      "\u001b[1;31mTypeError\u001b[0m                                 Traceback (most recent call last)",
      "Cell \u001b[1;32mIn[70], line 3\u001b[0m\n\u001b[0;32m      1\u001b[0m salary \u001b[38;5;241m=\u001b[39m [\u001b[38;5;241m100000\u001b[39m,\u001b[38;5;241m200000\u001b[39m,\u001b[38;5;241m300000\u001b[39m,\u001b[38;5;241m40000\u001b[39m,\u001b[38;5;241m500000\u001b[39m]\n\u001b[0;32m      2\u001b[0m res \u001b[38;5;241m=\u001b[39m [\u001b[38;5;28msum\u001b[39m(salary)\u001b[38;5;241m/\u001b[39m\u001b[38;5;28mlen\u001b[39m(salary)]\n\u001b[1;32m----> 3\u001b[0m a \u001b[38;5;241m=\u001b[39m \u001b[38;5;28mfloat\u001b[39m(res)\n\u001b[0;32m      4\u001b[0m \u001b[38;5;28mprint\u001b[39m(\u001b[38;5;124m\"\u001b[39m\u001b[38;5;124mtotal salary:\u001b[39m\u001b[38;5;124m\"\u001b[39m,a)\n",
      "\u001b[1;31mTypeError\u001b[0m: float() argument must be a string or a real number, not 'list'"
     ]
    }
   ],
   "source": [
    "salary = [100000,200000,300000,40000,500000]\n",
    "res = [sum(salary)/len(salary)]\n",
    "a = float(res)\n",
    "print(\"total salary:\",a)"
   ]
  },
  {
   "cell_type": "code",
   "execution_count": 72,
   "id": "6fe95f88",
   "metadata": {},
   "outputs": [
    {
     "name": "stdout",
     "output_type": "stream",
     "text": [
      "enter the num: 2\n",
      "Enter the name: jitendra\n",
      "Enter the name: sita\n",
      "Enter the name: pooja \n",
      "['jitendra', 'sita', 'pooja ']\n"
     ]
    }
   ],
   "source": [
    "empname = []\n",
    "num = int(input(\"enter the num: \"))\n",
    "for i in range(0,num+1) :\n",
    "    int_name = input(\"Enter the name: \")\n",
    "    empname.append(int_name)\n",
    "print(empname)"
   ]
  },
  {
   "cell_type": "code",
   "execution_count": 74,
   "id": "b9d2ae76",
   "metadata": {},
   "outputs": [
    {
     "name": "stdout",
     "output_type": "stream",
     "text": [
      "Enter the num:2\n",
      "Enter the name: jitendra\n",
      "Enter the name: sita\n",
      "Enter the name: kumar\n",
      "kumar\n"
     ]
    }
   ],
   "source": [
    "empname = []\n",
    "num = int(input(\"Enter the num:\" ))\n",
    "for i in range(0,num+1):\n",
    "    ip = input(\"Enter the name: \")\n",
    "    empname.append(ip)\n",
    "print(ip)"
   ]
  },
  {
   "cell_type": "code",
   "execution_count": 75,
   "id": "4e5b2491",
   "metadata": {},
   "outputs": [
    {
     "name": "stdout",
     "output_type": "stream",
     "text": [
      "Enter the num: 2\n",
      "Enter the name: jitendar\n",
      "Enter the sal: 100000\n",
      "Enter the name: kumar\n",
      "Enter the sal: 20000\n",
      "Enter the name: lion \n",
      "Enter the sal: 80000\n",
      "['jitendar', 'kumar', 'lion ']\n",
      "[100000, 20000, 80000]\n"
     ]
    }
   ],
   "source": [
    "football = []\n",
    "salary = []\n",
    "num = int(input(\"Enter the num: \"))\n",
    "for i in range(0,num+1):\n",
    "    res = input(\"Enter the name: \")\n",
    "    sal = int(input(\"Enter the sal: \"))\n",
    "    football.append(res)\n",
    "    salary.append(sal)\n",
    "print(football)\n",
    "print(salary)"
   ]
  },
  {
   "cell_type": "code",
   "execution_count": 76,
   "id": "36cc0b79",
   "metadata": {},
   "outputs": [
    {
     "name": "stdout",
     "output_type": "stream",
     "text": [
      "5\n"
     ]
    }
   ],
   "source": [
    "def hello():\n",
    "    print(2+3)\n",
    "hello()"
   ]
  },
  {
   "cell_type": "code",
   "execution_count": 79,
   "id": "6988dc62",
   "metadata": {},
   "outputs": [
    {
     "name": "stdout",
     "output_type": "stream",
     "text": [
      "50\n"
     ]
    }
   ],
   "source": [
    "def hello():\n",
    "    print(a+b)\n",
    "a = 20\n",
    "b = 30\n",
    "hello()"
   ]
  },
  {
   "cell_type": "code",
   "execution_count": 80,
   "id": "af9badc0",
   "metadata": {},
   "outputs": [
    {
     "name": "stdout",
     "output_type": "stream",
     "text": [
      "5\n"
     ]
    }
   ],
   "source": [
    "def add(a,b):\n",
    "    a = 2\n",
    "    b = 3\n",
    "    print(a+b)\n",
    "add(a,b)"
   ]
  },
  {
   "cell_type": "code",
   "execution_count": 81,
   "id": "2f687ba6",
   "metadata": {},
   "outputs": [
    {
     "name": "stdout",
     "output_type": "stream",
     "text": [
      "50\n"
     ]
    }
   ],
   "source": [
    "def add(a,b):\n",
    "    print(a+b)\n",
    "a= 20\n",
    "b = 30\n",
    "add(a,b)"
   ]
  },
  {
   "cell_type": "code",
   "execution_count": 82,
   "id": "76050ad7",
   "metadata": {},
   "outputs": [
    {
     "name": "stdout",
     "output_type": "stream",
     "text": [
      "5\n"
     ]
    }
   ],
   "source": [
    "def add(a=2,b=3):\n",
    "    print(a+b)\n",
    "add(a=2,b=3)"
   ]
  },
  {
   "cell_type": "code",
   "execution_count": 84,
   "id": "73ee8d61",
   "metadata": {},
   "outputs": [
    {
     "name": "stdout",
     "output_type": "stream",
     "text": [
      "50\n"
     ]
    }
   ],
   "source": [
    "def add(a=20,b=30):\n",
    "    print(a+b)\n",
    "add(a,b)"
   ]
  },
  {
   "cell_type": "code",
   "execution_count": 85,
   "id": "b63db08a",
   "metadata": {},
   "outputs": [
    {
     "name": "stdout",
     "output_type": "stream",
     "text": [
      "50\n"
     ]
    }
   ],
   "source": [
    "def add(a,b):\n",
    "    print(a+b)\n",
    "add(a=20,b=30)"
   ]
  },
  {
   "cell_type": "code",
   "execution_count": 86,
   "id": "2f74284e",
   "metadata": {},
   "outputs": [
    {
     "name": "stdout",
     "output_type": "stream",
     "text": [
      "50\n"
     ]
    }
   ],
   "source": [
    "def add(a,b):\n",
    "    print(a+b)\n",
    "add(20,30)"
   ]
  },
  {
   "cell_type": "code",
   "execution_count": 88,
   "id": "0c151ce7",
   "metadata": {},
   "outputs": [
    {
     "name": "stdout",
     "output_type": "stream",
     "text": [
      "50\n"
     ]
    }
   ],
   "source": [
    "def add(a=20,b=30):\n",
    "    print(a+b)\n",
    "add(a,b)"
   ]
  },
  {
   "cell_type": "code",
   "execution_count": 89,
   "id": "c5c3f224",
   "metadata": {},
   "outputs": [
    {
     "name": "stdout",
     "output_type": "stream",
     "text": [
      "60\n"
     ]
    }
   ],
   "source": [
    "def add(a,b,c):\n",
    "    print(a+b+c)\n",
    "x=20\n",
    "y=30\n",
    "z=10\n",
    "add(x,y,z)"
   ]
  },
  {
   "cell_type": "code",
   "execution_count": 90,
   "id": "846a3417",
   "metadata": {},
   "outputs": [
    {
     "name": "stdout",
     "output_type": "stream",
     "text": [
      "a: 10\n",
      "b: 20\n",
      "c: 30\n"
     ]
    }
   ],
   "source": [
    "def add(a,b,c):\n",
    "    print(\"a:\",a)\n",
    "    print(\"b:\",b)\n",
    "    print(\"c:\",c)\n",
    "x=10\n",
    "y=20\n",
    "z=30\n",
    "add(x,y,z)"
   ]
  },
  {
   "cell_type": "code",
   "execution_count": 94,
   "id": "36542068",
   "metadata": {},
   "outputs": [
    {
     "name": "stdout",
     "output_type": "stream",
     "text": [
      "a: 10 b: 20 c: 30\n"
     ]
    }
   ],
   "source": [
    "def add(a,b,c):\n",
    "    print(\"a:\",a,\"b:\",b,\"c:\",c)\n",
    "   \n",
    "x=10\n",
    "y=20\n",
    "z=30\n",
    "add(x,y,z)"
   ]
  },
  {
   "cell_type": "code",
   "execution_count": 96,
   "id": "044f1c7c",
   "metadata": {},
   "outputs": [
    {
     "name": "stdout",
     "output_type": "stream",
     "text": [
      "newyork\n"
     ]
    }
   ],
   "source": [
    "def add(a,b):\n",
    "    print(a+b)\n",
    "a=\"new\"\n",
    "b=\"york\"\n",
    "add(a,b)"
   ]
  },
  {
   "cell_type": "code",
   "execution_count": 97,
   "id": "f3ff706a",
   "metadata": {},
   "outputs": [
    {
     "name": "stdout",
     "output_type": "stream",
     "text": [
      "Yorknew\n"
     ]
    }
   ],
   "source": [
    "def add(a,b):\n",
    "    print(a+b)\n",
    "a = \"new\"\n",
    "b = \"York\"\n",
    "add(b,a)"
   ]
  },
  {
   "cell_type": "code",
   "execution_count": 98,
   "id": "15808dcc",
   "metadata": {},
   "outputs": [
    {
     "name": "stdout",
     "output_type": "stream",
     "text": [
      "newYork\n"
     ]
    }
   ],
   "source": [
    "def add(a,b):\n",
    "    print(a+b)\n",
    "\n",
    "add(a = \"new\",b = \"York\")"
   ]
  },
  {
   "cell_type": "code",
   "execution_count": 99,
   "id": "a0ff5365",
   "metadata": {},
   "outputs": [
    {
     "name": "stdout",
     "output_type": "stream",
     "text": [
      "newyork\n"
     ]
    }
   ],
   "source": [
    "def add(a,b):\n",
    "    print(a+b)\n",
    "\n",
    "add(b = \"york\", a = \"new\")"
   ]
  },
  {
   "cell_type": "code",
   "execution_count": 102,
   "id": "6210eee7",
   "metadata": {},
   "outputs": [
    {
     "name": "stdout",
     "output_type": "stream",
     "text": [
      "jitendra India\n"
     ]
    }
   ],
   "source": [
    "def flipkart(user=\"jitendra\",country=\"India\"):\n",
    "    print(user+\" \"+country)\n",
    "flipkart()"
   ]
  },
  {
   "cell_type": "code",
   "execution_count": 104,
   "id": "4ae15471",
   "metadata": {},
   "outputs": [
    {
     "name": "stdout",
     "output_type": "stream",
     "text": [
      "lionindia\n"
     ]
    }
   ],
   "source": [
    "def flipkart(user,country=\"india\"):\n",
    "    print(user+country)\n",
    "flipkart(user=\"lion\")"
   ]
  },
  {
   "cell_type": "code",
   "execution_count": 105,
   "id": "172dc0c1",
   "metadata": {},
   "outputs": [
    {
     "name": "stdout",
     "output_type": "stream",
     "text": [
      "LIONIndia\n"
     ]
    }
   ],
   "source": [
    "def flipkart(user,country):\n",
    "    print(user+country)\n",
    "flipkart(user=\"LION\",country=\"India\")"
   ]
  },
  {
   "cell_type": "code",
   "execution_count": 106,
   "id": "9bdf4565",
   "metadata": {},
   "outputs": [
    {
     "name": "stdout",
     "output_type": "stream",
     "text": [
      "1 Odd num\n",
      "3 Odd num\n",
      "2 Even num\n",
      "4 Even num\n",
      "5 Odd num\n",
      "6 Even num\n",
      "7 Odd num\n",
      "8 Even num\n"
     ]
    }
   ],
   "source": [
    "num = [1,3,2,4,5,6,7,8]\n",
    "def even(num):\n",
    "    for i in num:\n",
    "        if i%2==0:\n",
    "            print(i,\"Even num\")\n",
    "        else:\n",
    "            print(i,\"Odd num\")\n",
    "even(num)"
   ]
  },
  {
   "cell_type": "code",
   "execution_count": 107,
   "id": "7a19ab31",
   "metadata": {},
   "outputs": [
    {
     "name": "stdout",
     "output_type": "stream",
     "text": [
      "13\n"
     ]
    }
   ],
   "source": [
    "res=lambda a:a+10\n",
    "print(res(3))"
   ]
  },
  {
   "cell_type": "code",
   "execution_count": 108,
   "id": "25a57bf3",
   "metadata": {},
   "outputs": [
    {
     "name": "stdout",
     "output_type": "stream",
     "text": [
      "5\n"
     ]
    }
   ],
   "source": [
    "res = lambda a,b:a+b\n",
    "print(res(2,3))"
   ]
  },
  {
   "cell_type": "code",
   "execution_count": 109,
   "id": "aa64ea49",
   "metadata": {},
   "outputs": [
    {
     "name": "stdout",
     "output_type": "stream",
     "text": [
      "5\n"
     ]
    }
   ],
   "source": [
    "def res(a,b):\n",
    "    print(a+b)\n",
    "a=2\n",
    "b=3\n",
    "res(a,b)"
   ]
  },
  {
   "cell_type": "code",
   "execution_count": 111,
   "id": "84df1cb5",
   "metadata": {},
   "outputs": [
    {
     "name": "stdout",
     "output_type": "stream",
     "text": [
      "14\n"
     ]
    }
   ],
   "source": [
    "def res(a):\n",
    "    print(a+10)\n",
    "res(4)"
   ]
  },
  {
   "cell_type": "code",
   "execution_count": 112,
   "id": "3916457f",
   "metadata": {},
   "outputs": [
    {
     "name": "stdout",
     "output_type": "stream",
     "text": [
      "6\n"
     ]
    }
   ],
   "source": [
    "def mul(a,b):\n",
    "    return(a*b)\n",
    "res = mul(2,3)\n",
    "print(res)"
   ]
  },
  {
   "cell_type": "code",
   "execution_count": 113,
   "id": "9cd575a4",
   "metadata": {},
   "outputs": [
    {
     "data": {
      "text/plain": [
       "20"
      ]
     },
     "execution_count": 113,
     "metadata": {},
     "output_type": "execute_result"
    }
   ],
   "source": [
    "def mul(a,b):\n",
    "    return 10 + 10\n",
    "mul(a,b)"
   ]
  },
  {
   "cell_type": "code",
   "execution_count": 114,
   "id": "d23015a2",
   "metadata": {},
   "outputs": [
    {
     "name": "stdout",
     "output_type": "stream",
     "text": [
      "17\n"
     ]
    }
   ],
   "source": [
    "def sub(a,b):\n",
    "    return(a-b)\n",
    "res = sub(20,3)\n",
    "print(res)"
   ]
  },
  {
   "cell_type": "code",
   "execution_count": 116,
   "id": "1a2e105d",
   "metadata": {},
   "outputs": [
    {
     "name": "stdout",
     "output_type": "stream",
     "text": [
      "10\n"
     ]
    }
   ],
   "source": [
    "def num(a):\n",
    "    return 10\n",
    "res = num(a)\n",
    "print(res)"
   ]
  },
  {
   "cell_type": "code",
   "execution_count": 117,
   "id": "b339c24d",
   "metadata": {},
   "outputs": [
    {
     "name": "stdout",
     "output_type": "stream",
     "text": [
      "(10, 20, 30, 40, 50, 60)\n"
     ]
    }
   ],
   "source": [
    "def num(a):\n",
    "    return 10,20,30,40,50,60\n",
    "res = num(a)\n",
    "print(res)"
   ]
  },
  {
   "cell_type": "code",
   "execution_count": 118,
   "id": "816c77e7",
   "metadata": {},
   "outputs": [
    {
     "name": "stdout",
     "output_type": "stream",
     "text": [
      "9\n"
     ]
    }
   ],
   "source": [
    "res = lambda a,b,c:a+b+c\n",
    "print(res(2,3,4))"
   ]
  },
  {
   "cell_type": "code",
   "execution_count": 121,
   "id": "3c4ff8fa",
   "metadata": {},
   "outputs": [
    {
     "name": "stdout",
     "output_type": "stream",
     "text": [
      "odd num\n"
     ]
    }
   ],
   "source": [
    "res = lambda a:a%2==0\n",
    "r=res(11)\n",
    "if r==True:\n",
    "    print(\"even num\")\n",
    "else:\n",
    "    print(\"odd num\")"
   ]
  },
  {
   "cell_type": "code",
   "execution_count": 122,
   "id": "62a66ca9",
   "metadata": {},
   "outputs": [
    {
     "name": "stdout",
     "output_type": "stream",
     "text": [
      "Even num\n"
     ]
    }
   ],
   "source": [
    "res = lambda a:a%2==0\n",
    "r = res(190)\n",
    "if r==True:\n",
    "    print(\"Even num\")\n",
    "else:\n",
    "    print(\"odd num\")"
   ]
  },
  {
   "cell_type": "code",
   "execution_count": 124,
   "id": "a967b6e3",
   "metadata": {},
   "outputs": [
    {
     "name": "stdout",
     "output_type": "stream",
     "text": [
      "1.4142135623730951\n"
     ]
    }
   ],
   "source": [
    "import math\n",
    "print(math.sqrt(2))"
   ]
  },
  {
   "cell_type": "code",
   "execution_count": 125,
   "id": "00d268c0",
   "metadata": {},
   "outputs": [
    {
     "name": "stdout",
     "output_type": "stream",
     "text": [
      "4.0\n"
     ]
    }
   ],
   "source": [
    "import math \n",
    "print(math.sqrt(16))"
   ]
  },
  {
   "cell_type": "code",
   "execution_count": 126,
   "id": "419db3eb",
   "metadata": {},
   "outputs": [
    {
     "name": "stdout",
     "output_type": "stream",
     "text": [
      "3.141592653589793\n"
     ]
    }
   ],
   "source": [
    "import math\n",
    "print(math.pi)"
   ]
  },
  {
   "cell_type": "code",
   "execution_count": 127,
   "id": "de139761",
   "metadata": {},
   "outputs": [
    {
     "name": "stdout",
     "output_type": "stream",
     "text": [
      "2.718281828459045\n"
     ]
    }
   ],
   "source": [
    "import math \n",
    "print(math.e)"
   ]
  },
  {
   "cell_type": "code",
   "execution_count": 128,
   "id": "772562d2",
   "metadata": {},
   "outputs": [
    {
     "name": "stdout",
     "output_type": "stream",
     "text": [
      "2\n"
     ]
    }
   ],
   "source": [
    "import math \n",
    "print(round(2,3))"
   ]
  },
  {
   "cell_type": "code",
   "execution_count": 129,
   "id": "e29a4b57",
   "metadata": {},
   "outputs": [
    {
     "name": "stdout",
     "output_type": "stream",
     "text": [
      "8.0\n"
     ]
    }
   ],
   "source": [
    "import math \n",
    "print(math.pow(2,3))"
   ]
  },
  {
   "cell_type": "code",
   "execution_count": 130,
   "id": "8d61dfcd",
   "metadata": {},
   "outputs": [
    {
     "name": "stdout",
     "output_type": "stream",
     "text": [
      "2187.0\n"
     ]
    }
   ],
   "source": [
    "import math \n",
    "print(math.pow(3,7))"
   ]
  },
  {
   "cell_type": "code",
   "execution_count": 131,
   "id": "069d239f",
   "metadata": {},
   "outputs": [
    {
     "name": "stdout",
     "output_type": "stream",
     "text": [
      "2\n"
     ]
    }
   ],
   "source": [
    "import math\n",
    "print(round(2.3))"
   ]
  },
  {
   "cell_type": "code",
   "execution_count": 132,
   "id": "ed7cbd4d",
   "metadata": {},
   "outputs": [
    {
     "name": "stdout",
     "output_type": "stream",
     "text": [
      "guess the number game: \n",
      "Enter the num: 2\n",
      "YOU LOSS\n"
     ]
    }
   ],
   "source": [
    "import random as rd\n",
    "print(\"guess the number game: \")\n",
    "r = int(input(\"Enter the num: \"))\n",
    "res = rd.randint(1,200)\n",
    "if r==res:\n",
    "    print(\"YOU WON\")\n",
    "else:\n",
    "    print(\"YOU LOSS\")\n"
   ]
  },
  {
   "cell_type": "code",
   "execution_count": 1,
   "id": "a120de91",
   "metadata": {},
   "outputs": [
    {
     "name": "stdout",
     "output_type": "stream",
     "text": [
      "Guessing number game\n",
      "Enter the num:20\n",
      "YOU LOSS\n"
     ]
    }
   ],
   "source": [
    "import random as rd\n",
    "print(\"Guessing number game\")\n",
    "r = int(input(\"Enter the num:\"))\n",
    "res = rd.randint(1,200)\n",
    "if r==res:\n",
    "    print(\"YOU WON\")\n",
    "else:\n",
    "    print(\"YOU LOSS\")"
   ]
  },
  {
   "cell_type": "code",
   "execution_count": 2,
   "id": "8882a4b2",
   "metadata": {},
   "outputs": [
    {
     "name": "stdout",
     "output_type": "stream",
     "text": [
      "Here it will occur zerodivisionerror\n"
     ]
    }
   ],
   "source": [
    "try:\n",
    "    print(200/0)\n",
    "except:\n",
    "    print(\"Here it will occur zerodivisionerror\")"
   ]
  },
  {
   "cell_type": "code",
   "execution_count": 3,
   "id": "d793f3b1",
   "metadata": {},
   "outputs": [
    {
     "name": "stdout",
     "output_type": "stream",
     "text": [
      "Here you will not add the int and str\n"
     ]
    }
   ],
   "source": [
    "try:\n",
    "    2 + \"2\"\n",
    "except:\n",
    "    print(\"Here you will not add the int and str\")"
   ]
  },
  {
   "cell_type": "code",
   "execution_count": 6,
   "id": "c9f887e7",
   "metadata": {},
   "outputs": [
    {
     "name": "stdout",
     "output_type": "stream",
     "text": [
      "Here u will occur TypeError\n"
     ]
    }
   ],
   "source": [
    "try:\n",
    "    2 + \"2\"\n",
    "except IndexError as e:\n",
    "    print(\"Here u will occur indexError\")\n",
    "except TypeError as e:\n",
    "    print(\"Here u will occur TypeError\")"
   ]
  },
  {
   "cell_type": "code",
   "execution_count": 7,
   "id": "76901855",
   "metadata": {},
   "outputs": [
    {
     "name": "stdout",
     "output_type": "stream",
     "text": [
      "0.0\n"
     ]
    }
   ],
   "source": [
    "try:\n",
    "    print(0/100)\n",
    "except:\n",
    "    print(\"here u will not divide zero by 100\")"
   ]
  },
  {
   "cell_type": "code",
   "execution_count": 8,
   "id": "f043deff",
   "metadata": {},
   "outputs": [
    {
     "name": "stdout",
     "output_type": "stream",
     "text": [
      "Here u will occur zerodivisionerror\n",
      "file close!\n"
     ]
    }
   ],
   "source": [
    "try:\n",
    "    100/0\n",
    "except:\n",
    "    print(\"Here u will occur zerodivisionerror\")\n",
    "else:\n",
    "    print(\"something went wrong!\")\n",
    "finally:\n",
    "    print(\"file close!\")"
   ]
  },
  {
   "cell_type": "code",
   "execution_count": 9,
   "id": "38b9128d",
   "metadata": {},
   "outputs": [
    {
     "name": "stdout",
     "output_type": "stream",
     "text": [
      "Defaulting to user installation because normal site-packages is not writeable\n",
      "Requirement already satisfied: numpy in c:\\programdata\\anaconda3\\lib\\site-packages (1.24.3)\n"
     ]
    }
   ],
   "source": [
    "!pip install numpy "
   ]
  },
  {
   "cell_type": "code",
   "execution_count": 10,
   "id": "d1bd4405",
   "metadata": {},
   "outputs": [
    {
     "name": "stdout",
     "output_type": "stream",
     "text": [
      "[1 2 3 4]\n"
     ]
    }
   ],
   "source": [
    "import numpy as np\n",
    "res = np.array([1,2,3,4])\n",
    "print(res)"
   ]
  },
  {
   "cell_type": "code",
   "execution_count": 11,
   "id": "a75eb387",
   "metadata": {},
   "outputs": [
    {
     "name": "stdout",
     "output_type": "stream",
     "text": [
      "[[[10 20 30 40]\n",
      "  [60 70 80 90]]\n",
      "\n",
      " [[11 22 33 44]\n",
      "  [55 66 77 88]]]\n"
     ]
    }
   ],
   "source": [
    "import numpy as np\n",
    "res = np.array([[[10,20,30,40],\n",
    "               [60,70,80,90]],\n",
    "              [[11,22,33,44],\n",
    "              [55,66,77,88]]])\n",
    "print(res)"
   ]
  },
  {
   "cell_type": "code",
   "execution_count": 12,
   "id": "2440d89c",
   "metadata": {},
   "outputs": [
    {
     "name": "stdout",
     "output_type": "stream",
     "text": [
      "[[[ 1  2  3  4]\n",
      "  [11 22 33 44]]\n",
      "\n",
      " [[23 24 25 26]\n",
      "  [22 33 44 55]]]\n"
     ]
    }
   ],
   "source": [
    "import numpy as np\n",
    "res = np.array([[[1,2,3,4],\n",
    "                [11,22,33,44]],\n",
    "               [[23,24,25,26],\n",
    "               [22,33,44,55]]])\n",
    "print(res)"
   ]
  },
  {
   "cell_type": "code",
   "execution_count": 14,
   "id": "6366498e",
   "metadata": {},
   "outputs": [
    {
     "name": "stdout",
     "output_type": "stream",
     "text": [
      "[[[1.         1.41421356 1.73205081 2.        ]\n",
      "  [3.31662479 4.69041576 5.74456265 6.63324958]]\n",
      "\n",
      " [[4.79583152 4.89897949 5.         5.09901951]\n",
      "  [4.69041576 5.74456265 6.63324958 7.41619849]]]\n"
     ]
    }
   ],
   "source": [
    "import numpy as np\n",
    "res = np.array([[[1,2,3,4],\n",
    "                [11,22,33,44]],\n",
    "               [[23,24,25,26],\n",
    "               [22,33,44,55]]])\n",
    "r = np.sqrt((res))\n",
    "print(r)"
   ]
  },
  {
   "cell_type": "code",
   "execution_count": 16,
   "id": "bf12b5ee",
   "metadata": {},
   "outputs": [
    {
     "name": "stdout",
     "output_type": "stream",
     "text": [
      "3\n"
     ]
    }
   ],
   "source": [
    "import numpy as np\n",
    "res = np.array([[[10,20,30,40],\n",
    "                [23,24,25,26]],\n",
    "                [[11,22,33,44],\n",
    "                [12,13,14,15]],\n",
    "               [[10,11,13,15],\n",
    "               [19,18,92,93]]])\n",
    "print(res.ndim)"
   ]
  },
  {
   "cell_type": "code",
   "execution_count": 17,
   "id": "3f1c89d4",
   "metadata": {},
   "outputs": [
    {
     "name": "stdout",
     "output_type": "stream",
     "text": [
      "[[10 20 30 40]\n",
      " [20 30 40 50]\n",
      " [11 22 33 44]\n",
      " [55 66 77 88]\n",
      " [19 18 71 91]\n",
      " [23 34 45 45]]\n"
     ]
    }
   ],
   "source": [
    "import numpy as np\n",
    "res1 = np.array([[10,20,30,40],\n",
    "                [20,30,40,50]])\n",
    "res2 = np.array([[11,22,33,44],\n",
    "                [55,66,77,88]])\n",
    "res3 = np.array([[19,18,71,91],\n",
    "                [23,34,45,45]])\n",
    "r = np.concatenate(((res1,res2,res3)))\n",
    "print(r)"
   ]
  },
  {
   "cell_type": "code",
   "execution_count": 18,
   "id": "3e95e3de",
   "metadata": {},
   "outputs": [
    {
     "name": "stdout",
     "output_type": "stream",
     "text": [
      "2\n"
     ]
    }
   ],
   "source": [
    "import numpy as np\n",
    "res1 = np.array([[10,20,30,40],\n",
    "                [20,30,40,50]])\n",
    "res2 = np.array([[11,22,33,44],\n",
    "                [55,66,77,88]])\n",
    "res3 = np.array([[19,18,71,91],\n",
    "                [23,34,45,45]])\n",
    "r = np.concatenate(((res1,res2,res3)))\n",
    "print(r.ndim)"
   ]
  },
  {
   "cell_type": "code",
   "execution_count": 22,
   "id": "860563a5",
   "metadata": {},
   "outputs": [
    {
     "name": "stdout",
     "output_type": "stream",
     "text": [
      "[1 2 3]\n"
     ]
    }
   ],
   "source": [
    "import numpy as np\n",
    "res = np.array([[[1,2,3,4],\n",
    "                [11,22,33,44]],\n",
    "               [[23,24,25,26],\n",
    "               [22,33,44,55]]])\n",
    "\n",
    "print(res[0,0,0:3])"
   ]
  },
  {
   "cell_type": "code",
   "execution_count": 23,
   "id": "30f36b16",
   "metadata": {},
   "outputs": [
    {
     "name": "stdout",
     "output_type": "stream",
     "text": [
      "4\n"
     ]
    }
   ],
   "source": [
    "import numpy as np\n",
    "res = np.array([[[1,2,3,4],\n",
    "                [11,22,33,44]],\n",
    "               [[23,24,25,26],\n",
    "               [22,33,44,55]]])\n",
    "\n",
    "print(res[0,0,-1])"
   ]
  },
  {
   "cell_type": "code",
   "execution_count": 24,
   "id": "ed328a71",
   "metadata": {},
   "outputs": [
    {
     "name": "stdout",
     "output_type": "stream",
     "text": [
      "1\n"
     ]
    }
   ],
   "source": [
    "import numpy as np\n",
    "res = np.array([[[1,2,3,4],\n",
    "                [11,22,33,44]],\n",
    "               [[23,24,25,26],\n",
    "               [22,33,44,55]]])\n",
    "\n",
    "print(res[0,0,-0])"
   ]
  },
  {
   "cell_type": "code",
   "execution_count": 26,
   "id": "6a69a4c3",
   "metadata": {},
   "outputs": [
    {
     "name": "stdout",
     "output_type": "stream",
     "text": [
      "11\n"
     ]
    }
   ],
   "source": [
    "import numpy as np\n",
    "res = np.array([[[10,20,30,40],\n",
    "                [23,24,25,26]],\n",
    "                [[11,22,33,44],\n",
    "                [12,13,14,15]],\n",
    "               [[10,11,13,15],\n",
    "               [19,18,92,93]]])\n",
    "print(res[2,0,1])"
   ]
  },
  {
   "cell_type": "code",
   "execution_count": 27,
   "id": "314d1a75",
   "metadata": {},
   "outputs": [
    {
     "name": "stdout",
     "output_type": "stream",
     "text": [
      "18\n"
     ]
    }
   ],
   "source": [
    "import numpy as np\n",
    "res = np.array([[[10,20,30,40],\n",
    "                [23,24,25,26]],\n",
    "                [[11,22,33,44],\n",
    "                [12,13,14,15]],\n",
    "               [[10,11,13,15],\n",
    "               [19,18,92,93]]])\n",
    "print(res[2,1,1])"
   ]
  },
  {
   "cell_type": "code",
   "execution_count": 28,
   "id": "d4e10d69",
   "metadata": {},
   "outputs": [
    {
     "name": "stdout",
     "output_type": "stream",
     "text": [
      "[92 93]\n"
     ]
    }
   ],
   "source": [
    "import numpy as np\n",
    "res = np.array([[[10,20,30,40],\n",
    "                [23,24,25,26]],\n",
    "                [[11,22,33,44],\n",
    "                [12,13,14,15]],\n",
    "               [[10,11,13,15],\n",
    "               [19,18,92,93]]])\n",
    "print(res[2,1,2:4])"
   ]
  },
  {
   "cell_type": "code",
   "execution_count": 29,
   "id": "82042342",
   "metadata": {},
   "outputs": [
    {
     "name": "stdout",
     "output_type": "stream",
     "text": [
      "[[[12 22 32 42]\n",
      "  [25 26 27 28]]\n",
      "\n",
      " [[13 24 35 46]\n",
      "  [14 15 16 17]]\n",
      "\n",
      " [[12 13 15 17]\n",
      "  [21 20 94 95]]]\n"
     ]
    }
   ],
   "source": [
    "import numpy as np\n",
    "res = np.array([[[10,20,30,40],\n",
    "                [23,24,25,26]],\n",
    "                [[11,22,33,44],\n",
    "                [12,13,14,15]],\n",
    "               [[10,11,13,15],\n",
    "               [19,18,92,93]]])\n",
    "print(res+2)"
   ]
  },
  {
   "cell_type": "code",
   "execution_count": 30,
   "id": "e49b66c6",
   "metadata": {},
   "outputs": [
    {
     "name": "stdout",
     "output_type": "stream",
     "text": [
      "[[[ 8 18 28 38]\n",
      "  [21 22 23 24]]\n",
      "\n",
      " [[ 9 20 31 42]\n",
      "  [10 11 12 13]]\n",
      "\n",
      " [[ 8  9 11 13]\n",
      "  [17 16 90 91]]]\n"
     ]
    }
   ],
   "source": [
    "import numpy as np\n",
    "res = np.array([[[10,20,30,40],\n",
    "                [23,24,25,26]],\n",
    "                [[11,22,33,44],\n",
    "                [12,13,14,15]],\n",
    "               [[10,11,13,15],\n",
    "               [19,18,92,93]]])\n",
    "print(res-2)"
   ]
  },
  {
   "cell_type": "code",
   "execution_count": 31,
   "id": "1580c263",
   "metadata": {},
   "outputs": [
    {
     "name": "stdout",
     "output_type": "stream",
     "text": [
      "[[[ 20  40  60  80]\n",
      "  [ 46  48  50  52]]\n",
      "\n",
      " [[ 22  44  66  88]\n",
      "  [ 24  26  28  30]]\n",
      "\n",
      " [[ 20  22  26  30]\n",
      "  [ 38  36 184 186]]]\n"
     ]
    }
   ],
   "source": [
    "import numpy as np\n",
    "res = np.array([[[10,20,30,40],\n",
    "                [23,24,25,26]],\n",
    "                [[11,22,33,44],\n",
    "                [12,13,14,15]],\n",
    "               [[10,11,13,15],\n",
    "               [19,18,92,93]]])\n",
    "print(res*2)"
   ]
  },
  {
   "cell_type": "code",
   "execution_count": 32,
   "id": "e33ae14a",
   "metadata": {},
   "outputs": [
    {
     "name": "stdout",
     "output_type": "stream",
     "text": [
      "[[[ 5.  10.  15.  20. ]\n",
      "  [11.5 12.  12.5 13. ]]\n",
      "\n",
      " [[ 5.5 11.  16.5 22. ]\n",
      "  [ 6.   6.5  7.   7.5]]\n",
      "\n",
      " [[ 5.   5.5  6.5  7.5]\n",
      "  [ 9.5  9.  46.  46.5]]]\n"
     ]
    }
   ],
   "source": [
    "import numpy as np\n",
    "res = np.array([[[10,20,30,40],\n",
    "                [23,24,25,26]],\n",
    "                [[11,22,33,44],\n",
    "                [12,13,14,15]],\n",
    "               [[10,11,13,15],\n",
    "               [19,18,92,93]]])\n",
    "print(res/2)"
   ]
  },
  {
   "cell_type": "code",
   "execution_count": 33,
   "id": "db58e90c",
   "metadata": {},
   "outputs": [
    {
     "name": "stdout",
     "output_type": "stream",
     "text": [
      "633\n"
     ]
    }
   ],
   "source": [
    "import numpy as np\n",
    "res = np.array([[[10,20,30,40],\n",
    "                [23,24,25,26]],\n",
    "                [[11,22,33,44],\n",
    "                [12,13,14,15]],\n",
    "               [[10,11,13,15],\n",
    "               [19,18,92,93]]])\n",
    "r = np.sum(res)\n",
    "print(r)"
   ]
  },
  {
   "cell_type": "code",
   "execution_count": 34,
   "id": "0f2e5e00",
   "metadata": {},
   "outputs": [
    {
     "name": "stdout",
     "output_type": "stream",
     "text": [
      "10\n"
     ]
    }
   ],
   "source": [
    "import numpy as np\n",
    "res = np.array([[[10,20,30,40],\n",
    "                [23,24,25,26]],\n",
    "                [[11,22,33,44],\n",
    "                [12,13,14,15]],\n",
    "               [[10,11,13,15],\n",
    "               [19,18,92,93]]])\n",
    "r = np.min(res)\n",
    "print(r)"
   ]
  },
  {
   "cell_type": "code",
   "execution_count": 36,
   "id": "17ca6b20",
   "metadata": {},
   "outputs": [
    {
     "name": "stdout",
     "output_type": "stream",
     "text": [
      "93\n"
     ]
    }
   ],
   "source": [
    "import numpy as np\n",
    "res = np.array([[[10,20,30,40],\n",
    "                [23,24,25,26]],\n",
    "                [[11,22,33,44],\n",
    "                [12,13,14,15]],\n",
    "               [[10,11,13,15],\n",
    "               [19,18,92,93]]])\n",
    "r = np.max(res)\n",
    "print(r)"
   ]
  },
  {
   "cell_type": "code",
   "execution_count": 41,
   "id": "a2908f56",
   "metadata": {},
   "outputs": [
    {
     "name": "stdout",
     "output_type": "stream",
     "text": [
      "2\n"
     ]
    }
   ],
   "source": [
    "import numpy as np\n",
    "res = np.array([[[10,20,30,40],\n",
    "                [23,24,25,26]],\n",
    "                [[11,22,33,44],\n",
    "                [12,13,14,15]],\n",
    "               [[10,11,13,15],\n",
    "               [19,18,92,93]]])\n",
    "r = np.count_nonzero(res==10)\n",
    "print(r)"
   ]
  },
  {
   "cell_type": "code",
   "execution_count": 42,
   "id": "7ca80d1a",
   "metadata": {},
   "outputs": [
    {
     "name": "stdout",
     "output_type": "stream",
     "text": [
      "1\n"
     ]
    }
   ],
   "source": [
    "import numpy as np\n",
    "res = np.array([[[10,20,30,40],\n",
    "                [23,24,25,26]],\n",
    "                [[11,22,33,44],\n",
    "                [12,13,14,15]],\n",
    "               [[10,11,13,15],\n",
    "               [19,18,92,93]]])\n",
    "r = np.count_nonzero(res==30)\n",
    "print(r)"
   ]
  },
  {
   "cell_type": "code",
   "execution_count": 43,
   "id": "170f2bb7",
   "metadata": {},
   "outputs": [
    {
     "name": "stdout",
     "output_type": "stream",
     "text": [
      "[40 33 44 92 93]\n"
     ]
    }
   ],
   "source": [
    "import numpy as np\n",
    "res = np.array([[[10,20,30,40],\n",
    "                [23,24,25,26]],\n",
    "                [[11,22,33,44],\n",
    "                [12,13,14,15]],\n",
    "               [[10,11,13,15],\n",
    "               [19,18,92,93]]])\n",
    "r = res[res>30]\n",
    "print(r)"
   ]
  },
  {
   "cell_type": "code",
   "execution_count": 44,
   "id": "88602fbe",
   "metadata": {},
   "outputs": [
    {
     "name": "stdout",
     "output_type": "stream",
     "text": [
      "[30 40 23 24 25 26 22 33 44 92 93]\n"
     ]
    }
   ],
   "source": [
    "import numpy as np\n",
    "res = np.array([[[10,20,30,40],\n",
    "                [23,24,25,26]],\n",
    "                [[11,22,33,44],\n",
    "                [12,13,14,15]],\n",
    "               [[10,11,13,15],\n",
    "               [19,18,92,93]]])\n",
    "\n",
    "print(res[res>20])"
   ]
  },
  {
   "cell_type": "code",
   "execution_count": 45,
   "id": "110c437d",
   "metadata": {},
   "outputs": [
    {
     "name": "stdout",
     "output_type": "stream",
     "text": [
      "[[[False False  True  True]\n",
      "  [ True  True  True  True]]\n",
      "\n",
      " [[False  True  True  True]\n",
      "  [False False False False]]\n",
      "\n",
      " [[False False False False]\n",
      "  [False False  True  True]]]\n"
     ]
    }
   ],
   "source": [
    "import numpy as np\n",
    "res = np.array([[[10,20,30,40],\n",
    "                [23,24,25,26]],\n",
    "                [[11,22,33,44],\n",
    "                [12,13,14,15]],\n",
    "               [[10,11,13,15],\n",
    "               [19,18,92,93]]])\n",
    "\n",
    "print(res>20)"
   ]
  },
  {
   "cell_type": "code",
   "execution_count": 47,
   "id": "df0434de",
   "metadata": {},
   "outputs": [
    {
     "name": "stdout",
     "output_type": "stream",
     "text": [
      "[[[  20   30   40  101]\n",
      "  [  23   24   25  206]]\n",
      "\n",
      " [[  11   44  222  373]\n",
      "  [  12   13   14  155]]\n",
      "\n",
      " [[  10   15  121 2413]\n",
      "  [  18   19   92  393]]]\n"
     ]
    }
   ],
   "source": [
    "import numpy as np\n",
    "res = np.array([[[101,20,30,40],\n",
    "                [23,24,25,206]],\n",
    "                [[11,222,373,44],\n",
    "                [12,13,14,155]],\n",
    "               [[10,121,2413,15],\n",
    "               [19,18,92,393]]])\n",
    "r = np.sort(res)\n",
    "print(r)"
   ]
  },
  {
   "cell_type": "code",
   "execution_count": 50,
   "id": "a7f93751",
   "metadata": {},
   "outputs": [
    {
     "name": "stdout",
     "output_type": "stream",
     "text": [
      "(3, 2, 4)\n"
     ]
    }
   ],
   "source": [
    "import numpy as np\n",
    "res = np.array([[[101,20,30,40],\n",
    "                [23,24,25,206]],\n",
    "                [[11,222,373,44],\n",
    "                [12,13,14,155]],\n",
    "               [[10,121,2413,15],\n",
    "               [19,18,92,393]]])\n",
    "r = np.shape(res)\n",
    "print(r)"
   ]
  },
  {
   "cell_type": "code",
   "execution_count": 51,
   "id": "bd2feae1",
   "metadata": {},
   "outputs": [
    {
     "name": "stdout",
     "output_type": "stream",
     "text": [
      "[[ 101   20   30   40]\n",
      " [  23   24   25  206]\n",
      " [  11  222  373   44]\n",
      " [  12   13   14  155]\n",
      " [  10  121 2413   15]\n",
      " [  19   18   92  393]]\n"
     ]
    }
   ],
   "source": [
    "import numpy as np\n",
    "res = np.array([[[101,20,30,40],\n",
    "                [23,24,25,206]],\n",
    "                [[11,222,373,44],\n",
    "                [12,13,14,155]],\n",
    "               [[10,121,2413,15],\n",
    "               [19,18,92,393]]])\n",
    "r = np.reshape(res,(6,4))\n",
    "print(r)"
   ]
  },
  {
   "cell_type": "code",
   "execution_count": 52,
   "id": "65db7d99",
   "metadata": {},
   "outputs": [
    {
     "name": "stdout",
     "output_type": "stream",
     "text": [
      "[[ 101   20   30]\n",
      " [  40   23   24]\n",
      " [  25  206   11]\n",
      " [ 222  373   44]\n",
      " [  12   13   14]\n",
      " [ 155   10  121]\n",
      " [2413   15   19]\n",
      " [  18   92  393]]\n"
     ]
    }
   ],
   "source": [
    "import numpy as np\n",
    "res = np.array([[[101,20,30,40],\n",
    "                [23,24,25,206]],\n",
    "                [[11,222,373,44],\n",
    "                [12,13,14,155]],\n",
    "               [[10,121,2413,15],\n",
    "               [19,18,92,393]]])\n",
    "r = np.reshape(res,(8,3))\n",
    "print(r)"
   ]
  },
  {
   "cell_type": "code",
   "execution_count": 53,
   "id": "40ec2e5d",
   "metadata": {},
   "outputs": [
    {
     "name": "stdout",
     "output_type": "stream",
     "text": [
      "(2, 4) (2, 4) (2, 4)\n"
     ]
    }
   ],
   "source": [
    "import numpy as np\n",
    "res1 = np.array([[10,20,30,40],\n",
    "                [20,30,40,50]])\n",
    "res2 = np.array([[11,22,33,44],\n",
    "                [55,66,77,88]])\n",
    "res3 = np.array([[19,18,71,91],\n",
    "                [23,34,45,45]])\n",
    "\n",
    "print(res1.shape,res2.shape,res3.shape)"
   ]
  },
  {
   "cell_type": "code",
   "execution_count": 54,
   "id": "f62985cf",
   "metadata": {},
   "outputs": [
    {
     "name": "stdout",
     "output_type": "stream",
     "text": [
      "(3, 2, 4)\n"
     ]
    }
   ],
   "source": [
    "import numpy as np\n",
    "res1 = np.array([[10,20,30,40],\n",
    "                [20,30,40,50]])\n",
    "res2 = np.array([[11,22,33,44],\n",
    "                [55,66,77,88]])\n",
    "res3 = np.array([[19,18,71,91],\n",
    "                [23,34,45,45]])\n",
    "r = np.shape(((res1,res2,res3)))\n",
    "print(r)"
   ]
  },
  {
   "cell_type": "code",
   "execution_count": 59,
   "id": "278d7af1",
   "metadata": {},
   "outputs": [
    {
     "data": {
      "image/png": "[encoded data removed]",
      "text/plain": [
       "<Figure size 640x480 with 1 Axes>"
      ]
     },
     "metadata": {},
     "output_type": "display_data"
    }
   ],
   "source": [
    "import matplotlib.pyplot as plt\n",
    "import numpy as np\n",
    "expenses = np.array([100,200,300,400,500])\n",
    "labels = [\"samosa\",\"colddrink\",\"milk\",\"lemon juice\",\"kaduj\"]\n",
    "plt.pie(expenses,labels=labels)\n",
    "plt.show()"
   ]
  },
  {
   "cell_type": "code",
   "execution_count": 60,
   "id": "fd42aace",
   "metadata": {},
   "outputs": [
    {
     "data": {
      "image/png": "[encoded data removed]",
      "text/plain": [
       "<Figure size 640x480 with 1 Axes>"
      ]
     },
     "metadata": {},
     "output_type": "display_data"
    }
   ],
   "source": [
    "import numpy as np\n",
    "import matplotlib.pyplot as plt\n",
    "expenses = np.array([100,200,300,400,500])\n",
    "labels = [\"samosa\",\"cold drink\",\"kajuu\",\"coal\",\"petrol\"]\n",
    "plt.pie(expenses,labels=labels)\n",
    "plt.show()"
   ]
  },
  {
   "cell_type": "code",
   "execution_count": 65,
   "id": "886005f0",
   "metadata": {},
   "outputs": [
    {
     "data": {
      "image/png": "[encoded data removed]",
      "text/plain": [
       "<Figure size 640x480 with 1 Axes>"
      ]
     },
     "metadata": {},
     "output_type": "display_data"
    }
   ],
   "source": [
    "import matplotlib.pyplot as plt\n",
    "import numpy as np\n",
    "expenses = np.array([100,200,300,400,500])\n",
    "labels = [\"samosa\",\"pertol\",\"coal\",\"cold drink\",\"hot bread\"]\n",
    "color = [\"lightpink\",\"lightgreen\",\"lightgrey\",\"brown\",\"red\"]\n",
    "plt.pie(expenses,labels=labels,colors=color)\n",
    "plt.show()"
   ]
  },
  {
   "cell_type": "code",
   "execution_count": 66,
   "id": "e0a8efb9",
   "metadata": {},
   "outputs": [
    {
     "name": "stdout",
     "output_type": "stream",
     "text": [
      "3\n"
     ]
    }
   ],
   "source": [
    "import numpy as np\n",
    "res = np.array([[[101,20,30,40],\n",
    "                [23,24,25,206]],\n",
    "                [[11,222,373,44],\n",
    "                [12,13,14,155]],\n",
    "               [[10,121,2413,15],\n",
    "               [19,18,92,393]]])\n",
    "\n",
    "print(len(res))"
   ]
  },
  {
   "cell_type": "code",
   "execution_count": 68,
   "id": "142214b5",
   "metadata": {},
   "outputs": [
    {
     "name": "stdout",
     "output_type": "stream",
     "text": [
      "2\n"
     ]
    }
   ],
   "source": [
    "import numpy as np\n",
    "res = np.array([[[101,20,30,40],\n",
    "                [23,24,25,206]],\n",
    "                [[11,222,373,44],\n",
    "                [12,13,14,155]]])\n",
    "               \n",
    "\n",
    "print(len(res))"
   ]
  },
  {
   "cell_type": "code",
   "execution_count": 69,
   "id": "2bf57306",
   "metadata": {},
   "outputs": [
    {
     "name": "stdout",
     "output_type": "stream",
     "text": [
      "[]\n"
     ]
    }
   ],
   "source": [
    "import numpy as np\n",
    "res = np.arange(0)\n",
    "print(res)"
   ]
  },
  {
   "cell_type": "code",
   "execution_count": 70,
   "id": "ba947699",
   "metadata": {},
   "outputs": [
    {
     "name": "stdout",
     "output_type": "stream",
     "text": [
      "[  0   1   2   3   4   5   6   7   8   9  10  11  12  13  14  15  16  17\n",
      "  18  19  20  21  22  23  24  25  26  27  28  29  30  31  32  33  34  35\n",
      "  36  37  38  39  40  41  42  43  44  45  46  47  48  49  50  51  52  53\n",
      "  54  55  56  57  58  59  60  61  62  63  64  65  66  67  68  69  70  71\n",
      "  72  73  74  75  76  77  78  79  80  81  82  83  84  85  86  87  88  89\n",
      "  90  91  92  93  94  95  96  97  98  99 100]\n"
     ]
    }
   ],
   "source": [
    "import numpy as np\n",
    "res = np.arange(0,101)\n",
    "print(res)"
   ]
  },
  {
   "cell_type": "code",
   "execution_count": 71,
   "id": "aea23192",
   "metadata": {},
   "outputs": [
    {
     "name": "stdout",
     "output_type": "stream",
     "text": [
      "[  2   4   6   8  10  12  14  16  18  20  22  24  26  28  30  32  34  36\n",
      "  38  40  42  44  46  48  50  52  54  56  58  60  62  64  66  68  70  72\n",
      "  74  76  78  80  82  84  86  88  90  92  94  96  98 100]\n"
     ]
    }
   ],
   "source": [
    "import numpy as np\n",
    "res = np.arange(1,51)\n",
    "print(res*2)"
   ]
  },
  {
   "cell_type": "code",
   "execution_count": 72,
   "id": "57c7032a",
   "metadata": {},
   "outputs": [
    {
     "name": "stdout",
     "output_type": "stream",
     "text": [
      "[ 2  6 10 14 18 22 26 30 34 38 42 46 50 54 58 62 66 70 74 78 82 86 90 94\n",
      " 98]\n"
     ]
    }
   ],
   "source": [
    "import numpy as np\n",
    "res = np.arange(1,51,2)\n",
    "print(res*2)"
   ]
  },
  {
   "cell_type": "code",
   "execution_count": 74,
   "id": "d7eee564",
   "metadata": {},
   "outputs": [
    {
     "name": "stdout",
     "output_type": "stream",
     "text": [
      "['2023-11-02' '2023-11-03' '2023-11-04' '2023-11-05' '2023-11-06'\n",
      " '2023-11-07' '2023-11-08' '2023-11-09' '2023-11-10' '2023-11-11'\n",
      " '2023-11-12' '2023-11-13' '2023-11-14' '2023-11-15' '2023-11-16'\n",
      " '2023-11-17' '2023-11-18' '2023-11-19' '2023-11-20' '2023-11-21'\n",
      " '2023-11-22' '2023-11-23' '2023-11-24' '2023-11-25' '2023-11-26'\n",
      " '2023-11-27' '2023-11-28' '2023-11-29' '2023-11-30' '2023-12-01'\n",
      " '2023-12-02' '2023-12-03' '2023-12-04' '2023-12-05' '2023-12-06'\n",
      " '2023-12-07' '2023-12-08' '2023-12-09' '2023-12-10' '2023-12-11'\n",
      " '2023-12-12' '2023-12-13' '2023-12-14' '2023-12-15' '2023-12-16'\n",
      " '2023-12-17' '2023-12-18' '2023-12-19' '2023-12-20' '2023-12-21'\n",
      " '2023-12-22' '2023-12-23' '2023-12-24' '2023-12-25' '2023-12-26'\n",
      " '2023-12-27' '2023-12-28' '2023-12-29' '2023-12-30' '2023-12-31'\n",
      " '2024-01-01' '2024-01-02' '2024-01-03' '2024-01-04' '2024-01-05'\n",
      " '2024-01-06' '2024-01-07' '2024-01-08' '2024-01-09' '2024-01-10'\n",
      " '2024-01-11' '2024-01-12' '2024-01-13' '2024-01-14' '2024-01-15'\n",
      " '2024-01-16' '2024-01-17' '2024-01-18' '2024-01-19' '2024-01-20'\n",
      " '2024-01-21' '2024-01-22' '2024-01-23' '2024-01-24' '2024-01-25'\n",
      " '2024-01-26' '2024-01-27' '2024-01-28' '2024-01-29' '2024-01-30'\n",
      " '2024-01-31' '2024-02-01' '2024-02-02']\n"
     ]
    }
   ],
   "source": [
    "import datetime \n",
    "start = datetime.date(2023,11,2)\n",
    "end  =datetime.date(2024,2,3)\n",
    "res = np.arange(start,end)\n",
    "print(res)"
   ]
  },
  {
   "cell_type": "code",
   "execution_count": 75,
   "id": "e84cc252",
   "metadata": {},
   "outputs": [
    {
     "name": "stdout",
     "output_type": "stream",
     "text": [
      "['2023-04-05' '2023-04-06' '2023-04-07' '2023-04-08' '2023-04-09'\n",
      " '2023-04-10' '2023-04-11' '2023-04-12' '2023-04-13' '2023-04-14'\n",
      " '2023-04-15' '2023-04-16' '2023-04-17' '2023-04-18' '2023-04-19'\n",
      " '2023-04-20' '2023-04-21' '2023-04-22' '2023-04-23' '2023-04-24'\n",
      " '2023-04-25' '2023-04-26' '2023-04-27' '2023-04-28' '2023-04-29'\n",
      " '2023-04-30' '2023-05-01' '2023-05-02' '2023-05-03' '2023-05-04'\n",
      " '2023-05-05' '2023-05-06' '2023-05-07' '2023-05-08' '2023-05-09'\n",
      " '2023-05-10' '2023-05-11' '2023-05-12' '2023-05-13' '2023-05-14'\n",
      " '2023-05-15' '2023-05-16' '2023-05-17' '2023-05-18' '2023-05-19'\n",
      " '2023-05-20' '2023-05-21' '2023-05-22' '2023-05-23' '2023-05-24'\n",
      " '2023-05-25' '2023-05-26' '2023-05-27' '2023-05-28' '2023-05-29'\n",
      " '2023-05-30' '2023-05-31' '2023-06-01']\n"
     ]
    }
   ],
   "source": [
    "import datetime as dt\n",
    "start = dt.date(2023,4,5)\n",
    "end = dt.date(2023,6,2)\n",
    "res = np.arange(start,end)\n",
    "print(res)"
   ]
  },
  {
   "cell_type": "code",
   "execution_count": 76,
   "id": "7f050ae5",
   "metadata": {},
   "outputs": [
    {
     "name": "stdout",
     "output_type": "stream",
     "text": [
      "[[[ 10  20  30  40]\n",
      "  [ 20  30  40  50]]\n",
      "\n",
      " [[ 12  13  14 154]\n",
      "  [ 22  33  44  55]]]\n"
     ]
    }
   ],
   "source": [
    "import numpy as np\n",
    "arr = [[[10,20,30,40],\n",
    "      [20,30,40,50]],\n",
    "      [[12,13,14,154],\n",
    "      [22,33,44,55]]]\n",
    "res = np.array(arr)\n",
    "print(res)\n",
    "      "
   ]
  },
  {
   "cell_type": "code",
   "execution_count": 77,
   "id": "50539d1a",
   "metadata": {},
   "outputs": [
    {
     "name": "stdout",
     "output_type": "stream",
     "text": [
      "[ 10  20  30  40  20  30  40  50  12  13  14 154  22  33  44  55]\n"
     ]
    }
   ],
   "source": [
    "import numpy as np\n",
    "arr = [[[10,20,30,40],\n",
    "      [20,30,40,50]],\n",
    "      [[12,13,14,154],\n",
    "      [22,33,44,55]]]\n",
    "res = np.array(arr)\n",
    "r = res.flatten()\n",
    "print(r)\n",
    "      "
   ]
  },
  {
   "cell_type": "code",
   "execution_count": 78,
   "id": "c8067d98",
   "metadata": {},
   "outputs": [
    {
     "name": "stdout",
     "output_type": "stream",
     "text": [
      "[ 10  20  30  40  20  30  40  50  12  13  14 154  22  33  44  55]\n"
     ]
    }
   ],
   "source": [
    "import numpy as np\n",
    "arr = [[[10,20,30,40],\n",
    "      [20,30,40,50]],\n",
    "      [[12,13,14,154],\n",
    "      [22,33,44,55]]]\n",
    "res = np.array(arr)\n",
    "r = res.flatten()\n",
    "print(r)"
   ]
  },
  {
   "cell_type": "code",
   "execution_count": 87,
   "id": "3585e132",
   "metadata": {},
   "outputs": [
    {
     "name": "stdout",
     "output_type": "stream",
     "text": [
      "{10, 11, 18, 19, 20, 22, 23, 30, 33, 34, 40, 44, 45, 50, 55, 66, 71, 77, 88, 91}\n",
      "{10, 11, 18, 19, 20, 22, 23, 30, 33, 34, 40, 44, 45, 50, 55, 66, 71, 77, 88, 91}\n"
     ]
    }
   ],
   "source": [
    "import numpy as np\n",
    "res1 = np.array([[10,20,30,40],\n",
    "                [20,30,40,50]])\n",
    "res2 = np.array([[11,22,33,44],\n",
    "                [55,66,77,88]])\n",
    "res3 = np.array([[19,18,71,91],\n",
    "                [23,34,45,45]])\n",
    "res = np.concatenate((res1,res2,res3))\n",
    "re = res.flatten()\n",
    "r = (set(re))\n",
    "print(r)\n",
    "df = np.array(r)\n",
    "print(df)"
   ]
  },
  {
   "cell_type": "code",
   "execution_count": 88,
   "id": "cb26ba5c",
   "metadata": {},
   "outputs": [
    {
     "name": "stdout",
     "output_type": "stream",
     "text": [
      "<class 'set'>\n",
      "<class 'numpy.ndarray'>\n"
     ]
    }
   ],
   "source": [
    "import numpy as np\n",
    "res1 = np.array([[10,20,30,40],\n",
    "                [20,30,40,50]])\n",
    "res2 = np.array([[11,22,33,44],\n",
    "                [55,66,77,88]])\n",
    "res3 = np.array([[19,18,71,91],\n",
    "                [23,34,45,45]])\n",
    "res = np.concatenate((res1,res2,res3))\n",
    "re = res.flatten()\n",
    "r = (set(re))\n",
    "print(type(r))\n",
    "df = np.array(r)\n",
    "print(type(df))"
   ]
  },
  {
   "cell_type": "code",
   "execution_count": 89,
   "id": "f750eb75",
   "metadata": {},
   "outputs": [
    {
     "name": "stdout",
     "output_type": "stream",
     "text": [
      "[[10 20 30 40]\n",
      " [20 30 40 50]\n",
      " [11 22 33 44]\n",
      " [55 66 77 88]\n",
      " [19 18 71 91]\n",
      " [23 34 45 45]]\n"
     ]
    }
   ],
   "source": [
    "import numpy as np\n",
    "res1 = np.array([[10,20,30,40],\n",
    "                [20,30,40,50]])\n",
    "res2 = np.array([[11,22,33,44],\n",
    "                [55,66,77,88]])\n",
    "res3 = np.array([[19,18,71,91],\n",
    "                [23,34,45,45]])\n",
    "res = np.concatenate((res1,res2,res3),axis=0)\n",
    "print(res)"
   ]
  },
  {
   "cell_type": "code",
   "execution_count": 90,
   "id": "0a4254c5",
   "metadata": {},
   "outputs": [
    {
     "name": "stdout",
     "output_type": "stream",
     "text": [
      "[[10 20 30 40 11 22 33 44 19 18 71 91]\n",
      " [20 30 40 50 55 66 77 88 23 34 45 45]]\n"
     ]
    }
   ],
   "source": [
    "import numpy as np\n",
    "res1 = np.array([[10,20,30,40],\n",
    "                [20,30,40,50]])\n",
    "res2 = np.array([[11,22,33,44],\n",
    "                [55,66,77,88]])\n",
    "res3 = np.array([[19,18,71,91],\n",
    "                [23,34,45,45]])\n",
    "res = np.concatenate((res1,res2,res3),axis=1)\n",
    "print(res)\n"
   ]
  },
  {
   "cell_type": "code",
   "execution_count": 92,
   "id": "a03bc745",
   "metadata": {},
   "outputs": [
    {
     "name": "stdout",
     "output_type": "stream",
     "text": [
      "['10' '20' '30' '40' 'jitendra' 'sonu' 'neha' 'neetu']\n"
     ]
    }
   ],
   "source": [
    "import numpy as np\n",
    "res1 = np.array([10,20,30,40])\n",
    "res2 = np.array([\"jitendra\",\"sonu\",\"neha\",\"neetu\"])\n",
    "res = np.concatenate((res1,res2))\n",
    "print(res)"
   ]
  },
  {
   "cell_type": "code",
   "execution_count": 93,
   "id": "c69c6423",
   "metadata": {},
   "outputs": [
    {
     "name": "stdout",
     "output_type": "stream",
     "text": [
      "<class 'numpy.str_'>\n"
     ]
    }
   ],
   "source": [
    "import numpy as np\n",
    "res1 = np.array([10,20,30,40])\n",
    "res2 = np.array([\"jitendra\",\"sonu\",\"neha\",\"neetu\"])\n",
    "res = np.concatenate((res1,res2))\n",
    "print(type(res[0]))"
   ]
  },
  {
   "cell_type": "code",
   "execution_count": 94,
   "id": "b7701540",
   "metadata": {},
   "outputs": [
    {
     "name": "stdout",
     "output_type": "stream",
     "text": [
      "10\n"
     ]
    }
   ],
   "source": [
    "import numpy as np\n",
    "res1 = np.array([10,20,30,40])\n",
    "res2 = np.array([\"jitendra\",\"sonu\",\"neha\",\"neetu\"])\n",
    "res = np.concatenate((res1,res2))\n",
    "print((res[0]))"
   ]
  },
  {
   "cell_type": "code",
   "execution_count": 96,
   "id": "bc40dc67",
   "metadata": {},
   "outputs": [
    {
     "name": "stdout",
     "output_type": "stream",
     "text": [
      "<class 'numpy.ndarray'>\n"
     ]
    }
   ],
   "source": [
    "import numpy as np\n",
    "res1 = np.array([10,20,30,40])\n",
    "res2 = np.array([\"jitendra\",\"sonu\",\"neha\",\"neetu\"])\n",
    "res = np.concatenate((res1,res2))\n",
    "print(type(res[0:3]))"
   ]
  },
  {
   "cell_type": "code",
   "execution_count": 98,
   "id": "b0632e72",
   "metadata": {},
   "outputs": [
    {
     "name": "stdout",
     "output_type": "stream",
     "text": [
      "10.0\n"
     ]
    }
   ],
   "source": [
    "import numpy as np\n",
    "res1 = np.array([10,20,30,40])\n",
    "res2 = np.array([1.1,1.2,10,20])\n",
    "res = np.concatenate((res1,res2))\n",
    "print((res[6]))"
   ]
  },
  {
   "cell_type": "code",
   "execution_count": 99,
   "id": "4d27adf9",
   "metadata": {},
   "outputs": [
    {
     "name": "stdout",
     "output_type": "stream",
     "text": [
      "10\n"
     ]
    }
   ],
   "source": [
    "import numpy as np\n",
    "res1 = np.array([10,20,30,40])\n",
    "res2 = np.array([\"ram\",1.2,10,20])\n",
    "res = np.concatenate((res1,res2))\n",
    "print((res[6]))"
   ]
  },
  {
   "cell_type": "code",
   "execution_count": 100,
   "id": "cf9ef6cd",
   "metadata": {},
   "outputs": [
    {
     "name": "stdout",
     "output_type": "stream",
     "text": [
      "<class 'numpy.str_'>\n"
     ]
    }
   ],
   "source": [
    "import numpy as np\n",
    "res1 = np.array([10,20,30,40])\n",
    "res2 = np.array([\"ram\",1.2,10,20])\n",
    "res = np.concatenate((res1,res2))\n",
    "print(type(res[6]))"
   ]
  },
  {
   "cell_type": "code",
   "execution_count": 101,
   "id": "01f83163",
   "metadata": {},
   "outputs": [
    {
     "name": "stdout",
     "output_type": "stream",
     "text": [
      "[[False  True  True  True]\n",
      " [ True  True  True  True]\n",
      " [False  True  True  True]\n",
      " [ True  True  True  True]\n",
      " [False False  True  True]\n",
      " [ True  True  True  True]]\n"
     ]
    }
   ],
   "source": [
    "import numpy as np\n",
    "res1 = np.array([[10,20,30,40],\n",
    "                [20,30,40,50]])\n",
    "res2 = np.array([[11,22,33,44],\n",
    "                [55,66,77,88]])\n",
    "res3 = np.array([[19,18,71,91],\n",
    "                [23,34,45,45]])\n",
    "res = np.concatenate((res1>10,res2>20,res3>22))\n",
    "print(res)"
   ]
  },
  {
   "cell_type": "code",
   "execution_count": 104,
   "id": "22e7752d",
   "metadata": {},
   "outputs": [
    {
     "name": "stdout",
     "output_type": "stream",
     "text": [
      "[[ 21  42  63  84]\n",
      " [ 75  96 117 138]]\n"
     ]
    }
   ],
   "source": [
    "import numpy as np\n",
    "res1 = np.array([[10,20,30,40],\n",
    "                [20,30,40,50]])\n",
    "res2 = np.array([[11,22,33,44],\n",
    "                [55,66,77,88]])\n",
    "res3 = np.array([[19,18,71,91],\n",
    "                [23,34,45,45]])\n",
    "res = np.add(res1,res2,res3)\n",
    "print(res)"
   ]
  },
  {
   "cell_type": "code",
   "execution_count": 105,
   "id": "801888c1",
   "metadata": {},
   "outputs": [
    {
     "name": "stdout",
     "output_type": "stream",
     "text": [
      "[[ 42  84 126 168]\n",
      " [150 192 234 276]]\n"
     ]
    }
   ],
   "source": [
    "import numpy as np\n",
    "res1 = np.array([[10,20,30,40],\n",
    "                [20,30,40,50]])\n",
    "res2 = np.array([[11,22,33,44],\n",
    "                [55,66,77,88]])\n",
    "res3 = np.array([[19,18,71,91],\n",
    "                [23,34,45,45]])\n",
    "res = np.add(res1,res2,res3)\n",
    "result = np.add(res3,res)\n",
    "print(result)"
   ]
  },
  {
   "cell_type": "code",
   "execution_count": 106,
   "id": "c70211ad",
   "metadata": {},
   "outputs": [
    {
     "name": "stdout",
     "output_type": "stream",
     "text": [
      "[['alex' '20' '20000' 'data analyst']\n",
      " ['pooja' '23' '34000' 'data artist']\n",
      " ['lion' '24' '50000' 'data scientist']\n",
      " ['cat' '35' '56000' 'data engineer']]\n"
     ]
    }
   ],
   "source": [
    "import numpy as np\n",
    "res = np.array([(\"alex\",20,20000,\"data analyst\"),\n",
    "               (\"pooja\",23,34000,\"data artist\"),\n",
    "               (\"lion\",24,50000,\"data scientist\"),\n",
    "               (\"cat\",35,56000,\"data engineer\")])\n",
    "print(res)"
   ]
  },
  {
   "cell_type": "code",
   "execution_count": 109,
   "id": "64df478c",
   "metadata": {},
   "outputs": [
    {
     "name": "stdout",
     "output_type": "stream",
     "text": [
      "['alex2020000data analyst' 'pooja2334000data artist'\n",
      " 'lion2450000data scientist' 'cat3556000data engineer']\n"
     ]
    }
   ],
   "source": [
    "import numpy as np\n",
    "res = np.array([('alex' '20' '20000' 'data analyst'),\n",
    "                ('pooja' '23' '34000' 'data artist'),\n",
    "                ('lion' '24' '50000' 'data scientist'),\n",
    "                ('cat' '35' '56000' 'data engineer')])\n",
    "print(res)"
   ]
  },
  {
   "cell_type": "code",
   "execution_count": 110,
   "id": "141b65fd",
   "metadata": {},
   "outputs": [
    {
     "name": "stdout",
     "output_type": "stream",
     "text": [
      "['alex' '20' '20000' 'data analyst']\n"
     ]
    }
   ],
   "source": [
    "import numpy as np\n",
    "res = np.array([(\"alex\",20,20000,\"data analyst\"),\n",
    "               (\"pooja\",23,34000,\"data artist\"),\n",
    "               (\"lion\",24,50000,\"data scientist\"),\n",
    "               (\"cat\",35,56000,\"data engineer\")])\n",
    "print(res[0])"
   ]
  },
  {
   "cell_type": "code",
   "execution_count": 111,
   "id": "d5dd6736",
   "metadata": {},
   "outputs": [
    {
     "name": "stdout",
     "output_type": "stream",
     "text": [
      "['alex' '20' '20000']\n"
     ]
    }
   ],
   "source": [
    "import numpy as np\n",
    "res = np.array([(\"alex\",20,20000,\"data analyst\"),\n",
    "               (\"pooja\",23,34000,\"data artist\"),\n",
    "               (\"lion\",24,50000,\"data scientist\"),\n",
    "               (\"cat\",35,56000,\"data engineer\")])\n",
    "print(res[0,0:3])"
   ]
  },
  {
   "cell_type": "code",
   "execution_count": 112,
   "id": "fbf0b7da",
   "metadata": {},
   "outputs": [
    {
     "name": "stdout",
     "output_type": "stream",
     "text": [
      "['alex' 'pooja' 'lion' 'cat']\n"
     ]
    }
   ],
   "source": [
    "import numpy as np\n",
    "res = np.array([(\"alex\",20,20000,\"data analyst\"),\n",
    "               (\"pooja\",23,34000,\"data artist\"),\n",
    "               (\"lion\",24,50000,\"data scientist\"),\n",
    "               (\"cat\",35,56000,\"data engineer\")],\n",
    "              dtype=[(\"name\",\"U10\",),(\"Age\",int),(\"Salary\",float),(\"department\",\"U10\")])\n",
    "print(res[\"name\"])"
   ]
  },
  {
   "cell_type": "code",
   "execution_count": 113,
   "id": "9ef9038d",
   "metadata": {},
   "outputs": [
    {
     "name": "stdout",
     "output_type": "stream",
     "text": [
      "cat\n"
     ]
    }
   ],
   "source": [
    "import numpy as np\n",
    "res = np.array([(\"alex\",20,20000,\"data analyst\"),\n",
    "               (\"pooja\",23,34000,\"data artist\"),\n",
    "               (\"lion\",24,50000,\"data scientist\"),\n",
    "               (\"cat\",35,56000,\"data engineer\")],\n",
    "              dtype=[(\"name\",\"U10\",),(\"Age\",int),(\"Salary\",float),(\"department\",\"U10\")])\n",
    "print(res[\"name\"][3])"
   ]
  },
  {
   "cell_type": "code",
   "execution_count": 114,
   "id": "ffd59c15",
   "metadata": {},
   "outputs": [
    {
     "name": "stdout",
     "output_type": "stream",
     "text": [
      "56000.0\n"
     ]
    }
   ],
   "source": [
    "import numpy as np\n",
    "res = np.array([(\"alex\",20,20000,\"data analyst\"),\n",
    "               (\"pooja\",23,34000,\"data artist\"),\n",
    "               (\"lion\",24,50000,\"data scientist\"),\n",
    "               (\"cat\",35,56000,\"data engineer\")],\n",
    "              dtype=[(\"name\",\"U10\",),(\"Age\",int),(\"Salary\",float),(\"department\",\"U10\")])\n",
    "print(max(res[\"Salary\"]))"
   ]
  },
  {
   "cell_type": "code",
   "execution_count": 115,
   "id": "0de0315e",
   "metadata": {},
   "outputs": [
    {
     "name": "stdout",
     "output_type": "stream",
     "text": [
      "160000.0\n"
     ]
    }
   ],
   "source": [
    "import numpy as np\n",
    "res = np.array([(\"alex\",20,20000,\"data analyst\"),\n",
    "               (\"pooja\",23,34000,\"data artist\"),\n",
    "               (\"lion\",24,50000,\"data scientist\"),\n",
    "               (\"cat\",35,56000,\"data engineer\")],\n",
    "              dtype=[(\"name\",\"U10\",),(\"Age\",int),(\"Salary\",float),(\"department\",\"U10\")])\n",
    "print(sum(res[\"Salary\"]))"
   ]
  },
  {
   "cell_type": "code",
   "execution_count": 120,
   "id": "b801b8a7",
   "metadata": {},
   "outputs": [
    {
     "name": "stdout",
     "output_type": "stream",
     "text": [
      "20000.0\n"
     ]
    }
   ],
   "source": [
    "import numpy as np\n",
    "res = np.array([(\"alex\",20,20000,\"data analyst\"),\n",
    "               (\"pooja\",23,34000,\"data artist\"),\n",
    "               (\"lion\",24,50000,\"data scientist\"),\n",
    "               (\"cat\",35,56000,\"data engineer\")],\n",
    "              dtype=[(\"name\",\"U10\",),(\"Age\",int),(\"Salary\",float),(\"department\",\"U15\")])\n",
    "r = res[res[\"department\"]==\"data analyst\"][\"Salary\"]\n",
    "print(sum(r))"
   ]
  },
  {
   "cell_type": "code",
   "execution_count": 1,
   "id": "531ed3a1",
   "metadata": {},
   "outputs": [
    {
     "name": "stdout",
     "output_type": "stream",
     "text": [
      "    name    department  salary\n",
      "0   alex            HR   25000\n",
      "1   sita       Finance   30000\n",
      "2    ram  Data analyst   60000\n",
      "3  pappu     marketing   30000\n"
     ]
    }
   ],
   "source": [
    "import pandas as pd\n",
    "res = pd.read_csv(\"yhill.csv\")\n",
    "print(res)"
   ]
  },
  {
   "cell_type": "code",
   "execution_count": 2,
   "id": "a4cc1207",
   "metadata": {},
   "outputs": [
    {
     "data": {
      "text/html": [
       "<div>\n",
       "<style scoped>\n",
       "    .dataframe tbody tr th:only-of-type {\n",
       "        vertical-align: middle;\n",
       "    }\n",
       "\n",
       "    .dataframe tbody tr th {\n",
       "        vertical-align: top;\n",
       "    }\n",
       "\n",
       "    .dataframe thead th {\n",
       "        text-align: right;\n",
       "    }\n",
       "</style>\n",
       "<table border=\"1\" class=\"dataframe\">\n",
       "  <thead>\n",
       "    <tr style=\"text-align: right;\">\n",
       "      <th></th>\n",
       "      <th>name</th>\n",
       "      <th>department</th>\n",
       "      <th>salary</th>\n",
       "    </tr>\n",
       "  </thead>\n",
       "  <tbody>\n",
       "    <tr>\n",
       "      <th>0</th>\n",
       "      <td>alex</td>\n",
       "      <td>HR</td>\n",
       "      <td>25000</td>\n",
       "    </tr>\n",
       "    <tr>\n",
       "      <th>1</th>\n",
       "      <td>sita</td>\n",
       "      <td>Finance</td>\n",
       "      <td>30000</td>\n",
       "    </tr>\n",
       "    <tr>\n",
       "      <th>2</th>\n",
       "      <td>ram</td>\n",
       "      <td>Data analyst</td>\n",
       "      <td>60000</td>\n",
       "    </tr>\n",
       "    <tr>\n",
       "      <th>3</th>\n",
       "      <td>pappu</td>\n",
       "      <td>marketing</td>\n",
       "      <td>30000</td>\n",
       "    </tr>\n",
       "  </tbody>\n",
       "</table>\n",
       "</div>"
      ],
      "text/plain": [
       "    name    department  salary\n",
       "0   alex            HR   25000\n",
       "1   sita       Finance   30000\n",
       "2    ram  Data analyst   60000\n",
       "3  pappu     marketing   30000"
      ]
     },
     "metadata": {},
     "output_type": "display_data"
    }
   ],
   "source": [
    "import pandas as pd\n",
    "res = pd.read_csv(\"yhill.csv\")\n",
    "display(res)"
   ]
  },
  {
   "cell_type": "code",
   "execution_count": 3,
   "id": "a5fab3b2",
   "metadata": {},
   "outputs": [
    {
     "data": {
      "text/html": [
       "<div>\n",
       "<style scoped>\n",
       "    .dataframe tbody tr th:only-of-type {\n",
       "        vertical-align: middle;\n",
       "    }\n",
       "\n",
       "    .dataframe tbody tr th {\n",
       "        vertical-align: top;\n",
       "    }\n",
       "\n",
       "    .dataframe thead th {\n",
       "        text-align: right;\n",
       "    }\n",
       "</style>\n",
       "<table border=\"1\" class=\"dataframe\">\n",
       "  <thead>\n",
       "    <tr style=\"text-align: right;\">\n",
       "      <th></th>\n",
       "      <th>name</th>\n",
       "      <th>department</th>\n",
       "      <th>salary</th>\n",
       "    </tr>\n",
       "  </thead>\n",
       "  <tbody>\n",
       "    <tr>\n",
       "      <th>0</th>\n",
       "      <td>alex</td>\n",
       "      <td>HR</td>\n",
       "      <td>25000</td>\n",
       "    </tr>\n",
       "    <tr>\n",
       "      <th>1</th>\n",
       "      <td>sita</td>\n",
       "      <td>Finance</td>\n",
       "      <td>30000</td>\n",
       "    </tr>\n",
       "    <tr>\n",
       "      <th>2</th>\n",
       "      <td>ram</td>\n",
       "      <td>Data analyst</td>\n",
       "      <td>60000</td>\n",
       "    </tr>\n",
       "    <tr>\n",
       "      <th>3</th>\n",
       "      <td>pappu</td>\n",
       "      <td>marketing</td>\n",
       "      <td>30000</td>\n",
       "    </tr>\n",
       "  </tbody>\n",
       "</table>\n",
       "</div>"
      ],
      "text/plain": [
       "    name    department  salary\n",
       "0   alex            HR   25000\n",
       "1   sita       Finance   30000\n",
       "2    ram  Data analyst   60000\n",
       "3  pappu     marketing   30000"
      ]
     },
     "execution_count": 3,
     "metadata": {},
     "output_type": "execute_result"
    }
   ],
   "source": [
    "import pandas as pd\n",
    "res = pd.read_csv(\"yhill.csv\")\n",
    "res"
   ]
  },
  {
   "cell_type": "code",
   "execution_count": 4,
   "id": "79c635b5",
   "metadata": {},
   "outputs": [
    {
     "data": {
      "text/html": [
       "<div>\n",
       "<style scoped>\n",
       "    .dataframe tbody tr th:only-of-type {\n",
       "        vertical-align: middle;\n",
       "    }\n",
       "\n",
       "    .dataframe tbody tr th {\n",
       "        vertical-align: top;\n",
       "    }\n",
       "\n",
       "    .dataframe thead th {\n",
       "        text-align: right;\n",
       "    }\n",
       "</style>\n",
       "<table border=\"1\" class=\"dataframe\">\n",
       "  <thead>\n",
       "    <tr style=\"text-align: right;\">\n",
       "      <th></th>\n",
       "      <th>name</th>\n",
       "      <th>department</th>\n",
       "      <th>salary</th>\n",
       "    </tr>\n",
       "  </thead>\n",
       "  <tbody>\n",
       "    <tr>\n",
       "      <th>0</th>\n",
       "      <td>alex</td>\n",
       "      <td>HR</td>\n",
       "      <td>25000</td>\n",
       "    </tr>\n",
       "    <tr>\n",
       "      <th>1</th>\n",
       "      <td>sita</td>\n",
       "      <td>Finance</td>\n",
       "      <td>30000</td>\n",
       "    </tr>\n",
       "    <tr>\n",
       "      <th>2</th>\n",
       "      <td>ram</td>\n",
       "      <td>Data analyst</td>\n",
       "      <td>60000</td>\n",
       "    </tr>\n",
       "    <tr>\n",
       "      <th>3</th>\n",
       "      <td>pappu</td>\n",
       "      <td>marketing</td>\n",
       "      <td>30000</td>\n",
       "    </tr>\n",
       "  </tbody>\n",
       "</table>\n",
       "</div>"
      ],
      "text/plain": [
       "    name    department  salary\n",
       "0   alex            HR   25000\n",
       "1   sita       Finance   30000\n",
       "2    ram  Data analyst   60000\n",
       "3  pappu     marketing   30000"
      ]
     },
     "metadata": {},
     "output_type": "display_data"
    }
   ],
   "source": [
    "import pandas as pd\n",
    "res = pd.read_csv(\"yhill.csv\")\n",
    "display(res.head())"
   ]
  },
  {
   "cell_type": "code",
   "execution_count": 5,
   "id": "a3e6397a",
   "metadata": {},
   "outputs": [
    {
     "data": {
      "text/html": [
       "<div>\n",
       "<style scoped>\n",
       "    .dataframe tbody tr th:only-of-type {\n",
       "        vertical-align: middle;\n",
       "    }\n",
       "\n",
       "    .dataframe tbody tr th {\n",
       "        vertical-align: top;\n",
       "    }\n",
       "\n",
       "    .dataframe thead th {\n",
       "        text-align: right;\n",
       "    }\n",
       "</style>\n",
       "<table border=\"1\" class=\"dataframe\">\n",
       "  <thead>\n",
       "    <tr style=\"text-align: right;\">\n",
       "      <th></th>\n",
       "      <th>name</th>\n",
       "      <th>department</th>\n",
       "      <th>salary</th>\n",
       "    </tr>\n",
       "  </thead>\n",
       "  <tbody>\n",
       "    <tr>\n",
       "      <th>0</th>\n",
       "      <td>alex</td>\n",
       "      <td>HR</td>\n",
       "      <td>25000</td>\n",
       "    </tr>\n",
       "    <tr>\n",
       "      <th>1</th>\n",
       "      <td>sita</td>\n",
       "      <td>Finance</td>\n",
       "      <td>30000</td>\n",
       "    </tr>\n",
       "  </tbody>\n",
       "</table>\n",
       "</div>"
      ],
      "text/plain": [
       "   name department  salary\n",
       "0  alex         HR   25000\n",
       "1  sita    Finance   30000"
      ]
     },
     "metadata": {},
     "output_type": "display_data"
    }
   ],
   "source": [
    "import pandas as pd\n",
    "res = pd.read_csv(\"yhill.csv\")\n",
    "display(res.head(2))"
   ]
  },
  {
   "cell_type": "code",
   "execution_count": 7,
   "id": "ca597db1",
   "metadata": {},
   "outputs": [
    {
     "data": {
      "text/html": [
       "<div>\n",
       "<style scoped>\n",
       "    .dataframe tbody tr th:only-of-type {\n",
       "        vertical-align: middle;\n",
       "    }\n",
       "\n",
       "    .dataframe tbody tr th {\n",
       "        vertical-align: top;\n",
       "    }\n",
       "\n",
       "    .dataframe thead th {\n",
       "        text-align: right;\n",
       "    }\n",
       "</style>\n",
       "<table border=\"1\" class=\"dataframe\">\n",
       "  <thead>\n",
       "    <tr style=\"text-align: right;\">\n",
       "      <th></th>\n",
       "      <th>name</th>\n",
       "      <th>department</th>\n",
       "      <th>salary</th>\n",
       "    </tr>\n",
       "  </thead>\n",
       "  <tbody>\n",
       "    <tr>\n",
       "      <th>1</th>\n",
       "      <td>sita</td>\n",
       "      <td>Finance</td>\n",
       "      <td>30000</td>\n",
       "    </tr>\n",
       "    <tr>\n",
       "      <th>2</th>\n",
       "      <td>ram</td>\n",
       "      <td>Data analyst</td>\n",
       "      <td>60000</td>\n",
       "    </tr>\n",
       "    <tr>\n",
       "      <th>3</th>\n",
       "      <td>pappu</td>\n",
       "      <td>marketing</td>\n",
       "      <td>30000</td>\n",
       "    </tr>\n",
       "  </tbody>\n",
       "</table>\n",
       "</div>"
      ],
      "text/plain": [
       "    name    department  salary\n",
       "1   sita       Finance   30000\n",
       "2    ram  Data analyst   60000\n",
       "3  pappu     marketing   30000"
      ]
     },
     "metadata": {},
     "output_type": "display_data"
    }
   ],
   "source": [
    "import pandas as pd\n",
    "res = pd.read_csv(\"yhill.csv\")\n",
    "display(res.tail(3))"
   ]
  },
  {
   "cell_type": "code",
   "execution_count": 8,
   "id": "a3032f1c",
   "metadata": {},
   "outputs": [
    {
     "name": "stdout",
     "output_type": "stream",
     "text": [
      "0     alex\n",
      "1     sita\n",
      "2      ram\n",
      "3    pappu\n",
      "Name: name, dtype: object\n"
     ]
    }
   ],
   "source": [
    "import pandas as pd\n",
    "res = pd.read_csv(\"yhill.csv\")\n",
    "print(res[\"name\"])"
   ]
  },
  {
   "cell_type": "code",
   "execution_count": 9,
   "id": "289a2460",
   "metadata": {},
   "outputs": [
    {
     "name": "stdout",
     "output_type": "stream",
     "text": [
      "0              HR\n",
      "1         Finance\n",
      "2    Data analyst\n",
      "3       marketing\n",
      "Name: department, dtype: object\n"
     ]
    }
   ],
   "source": [
    "import pandas as pd\n",
    "res = pd.read_csv(\"yhill.csv\")\n",
    "print(res[\"department\"])"
   ]
  },
  {
   "cell_type": "code",
   "execution_count": 11,
   "id": "ebbbb008",
   "metadata": {},
   "outputs": [
    {
     "data": {
      "text/html": [
       "<div>\n",
       "<style scoped>\n",
       "    .dataframe tbody tr th:only-of-type {\n",
       "        vertical-align: middle;\n",
       "    }\n",
       "\n",
       "    .dataframe tbody tr th {\n",
       "        vertical-align: top;\n",
       "    }\n",
       "\n",
       "    .dataframe thead th {\n",
       "        text-align: right;\n",
       "    }\n",
       "</style>\n",
       "<table border=\"1\" class=\"dataframe\">\n",
       "  <thead>\n",
       "    <tr style=\"text-align: right;\">\n",
       "      <th></th>\n",
       "      <th>name</th>\n",
       "      <th>department</th>\n",
       "    </tr>\n",
       "  </thead>\n",
       "  <tbody>\n",
       "    <tr>\n",
       "      <th>0</th>\n",
       "      <td>alex</td>\n",
       "      <td>HR</td>\n",
       "    </tr>\n",
       "    <tr>\n",
       "      <th>1</th>\n",
       "      <td>sita</td>\n",
       "      <td>Finance</td>\n",
       "    </tr>\n",
       "  </tbody>\n",
       "</table>\n",
       "</div>"
      ],
      "text/plain": [
       "   name department\n",
       "0  alex         HR\n",
       "1  sita    Finance"
      ]
     },
     "metadata": {},
     "output_type": "display_data"
    }
   ],
   "source": [
    "import pandas as pd\n",
    "res = pd.read_csv(\"yhill.csv\")\n",
    "sc = [\"name\",\"department\"]\n",
    "display(res[sc].head(2))"
   ]
  },
  {
   "cell_type": "code",
   "execution_count": 12,
   "id": "e6c5f40f",
   "metadata": {},
   "outputs": [
    {
     "data": {
      "text/html": [
       "<div>\n",
       "<style scoped>\n",
       "    .dataframe tbody tr th:only-of-type {\n",
       "        vertical-align: middle;\n",
       "    }\n",
       "\n",
       "    .dataframe tbody tr th {\n",
       "        vertical-align: top;\n",
       "    }\n",
       "\n",
       "    .dataframe thead th {\n",
       "        text-align: right;\n",
       "    }\n",
       "</style>\n",
       "<table border=\"1\" class=\"dataframe\">\n",
       "  <thead>\n",
       "    <tr style=\"text-align: right;\">\n",
       "      <th></th>\n",
       "      <th>salary</th>\n",
       "    </tr>\n",
       "  </thead>\n",
       "  <tbody>\n",
       "    <tr>\n",
       "      <th>count</th>\n",
       "      <td>4.000000</td>\n",
       "    </tr>\n",
       "    <tr>\n",
       "      <th>mean</th>\n",
       "      <td>36250.000000</td>\n",
       "    </tr>\n",
       "    <tr>\n",
       "      <th>std</th>\n",
       "      <td>16007.810594</td>\n",
       "    </tr>\n",
       "    <tr>\n",
       "      <th>min</th>\n",
       "      <td>25000.000000</td>\n",
       "    </tr>\n",
       "    <tr>\n",
       "      <th>25%</th>\n",
       "      <td>28750.000000</td>\n",
       "    </tr>\n",
       "    <tr>\n",
       "      <th>50%</th>\n",
       "      <td>30000.000000</td>\n",
       "    </tr>\n",
       "    <tr>\n",
       "      <th>75%</th>\n",
       "      <td>37500.000000</td>\n",
       "    </tr>\n",
       "    <tr>\n",
       "      <th>max</th>\n",
       "      <td>60000.000000</td>\n",
       "    </tr>\n",
       "  </tbody>\n",
       "</table>\n",
       "</div>"
      ],
      "text/plain": [
       "             salary\n",
       "count      4.000000\n",
       "mean   36250.000000\n",
       "std    16007.810594\n",
       "min    25000.000000\n",
       "25%    28750.000000\n",
       "50%    30000.000000\n",
       "75%    37500.000000\n",
       "max    60000.000000"
      ]
     },
     "metadata": {},
     "output_type": "display_data"
    }
   ],
   "source": [
    "import pandas as pd\n",
    "res = pd.read_csv(\"yhill.csv\")\n",
    "display(res.describe())"
   ]
  },
  {
   "cell_type": "code",
   "execution_count": 15,
   "id": "d0c71998",
   "metadata": {},
   "outputs": [
    {
     "data": {
      "text/plain": [
       "4"
      ]
     },
     "metadata": {},
     "output_type": "display_data"
    }
   ],
   "source": [
    "import pandas as pd\n",
    "res = pd.read_csv(\"yhill.csv\")\n",
    "display(res[\"department\"].count())"
   ]
  },
  {
   "cell_type": "code",
   "execution_count": 16,
   "id": "8c2bc975",
   "metadata": {},
   "outputs": [
    {
     "data": {
      "text/plain": [
       "4"
      ]
     },
     "metadata": {},
     "output_type": "display_data"
    }
   ],
   "source": [
    "import pandas as pd\n",
    "res = pd.read_csv(\"yhill.csv\")\n",
    "display(res[\"name\"].count())"
   ]
  },
  {
   "cell_type": "code",
   "execution_count": 20,
   "id": "a27b73c8",
   "metadata": {},
   "outputs": [
    {
     "data": {
      "text/plain": [
       "60000"
      ]
     },
     "metadata": {},
     "output_type": "display_data"
    }
   ],
   "source": [
    "import pandas as pd\n",
    "res = pd.read_csv(\"yhill.csv\")\n",
    "display(max(res[\"salary\"]))"
   ]
  },
  {
   "cell_type": "code",
   "execution_count": 21,
   "id": "6b44011e",
   "metadata": {},
   "outputs": [
    {
     "data": {
      "text/plain": [
       "60000"
      ]
     },
     "metadata": {},
     "output_type": "display_data"
    }
   ],
   "source": [
    "import pandas as pd\n",
    "res = pd.read_csv(\"yhill.csv\")\n",
    "display(res[\"salary\"].max())"
   ]
  },
  {
   "cell_type": "code",
   "execution_count": 22,
   "id": "45872b3f",
   "metadata": {},
   "outputs": [
    {
     "name": "stdout",
     "output_type": "stream",
     "text": [
      "25000\n"
     ]
    }
   ],
   "source": [
    "import pandas as pd\n",
    "res = pd.read_csv(\"yhill.csv\")\n",
    "print(res[\"salary\"].min())"
   ]
  },
  {
   "cell_type": "code",
   "execution_count": 23,
   "id": "104c3a94",
   "metadata": {},
   "outputs": [
    {
     "data": {
      "text/plain": [
       "25000"
      ]
     },
     "metadata": {},
     "output_type": "display_data"
    }
   ],
   "source": [
    "import pandas as pd\n",
    "res = pd.read_csv(\"yhill.csv\")\n",
    "display(res[\"salary\"].min())"
   ]
  },
  {
   "cell_type": "code",
   "execution_count": 24,
   "id": "40835493",
   "metadata": {},
   "outputs": [
    {
     "data": {
      "text/plain": [
       "36250.0"
      ]
     },
     "metadata": {},
     "output_type": "display_data"
    }
   ],
   "source": [
    "import pandas as pd\n",
    "res = pd.read_csv(\"yhill.csv\")\n",
    "display(res[\"salary\"].mean())"
   ]
  },
  {
   "cell_type": "code",
   "execution_count": 25,
   "id": "d7febc11",
   "metadata": {},
   "outputs": [
    {
     "data": {
      "text/plain": [
       "name          object\n",
       "department    object\n",
       "salary         int64\n",
       "dtype: object"
      ]
     },
     "metadata": {},
     "output_type": "display_data"
    }
   ],
   "source": [
    "import pandas as pd\n",
    "res = pd.read_csv(\"yhill.csv\")\n",
    "display(res.dtypes)"
   ]
  },
  {
   "cell_type": "code",
   "execution_count": 26,
   "id": "ca3a06b0",
   "metadata": {},
   "outputs": [
    {
     "data": {
      "text/plain": [
       "alex     1\n",
       "sita     1\n",
       "ram      1\n",
       "pappu    1\n",
       "Name: name, dtype: int64"
      ]
     },
     "metadata": {},
     "output_type": "display_data"
    }
   ],
   "source": [
    "display(res[\"name\"].value_counts())"
   ]
  },
  {
   "cell_type": "code",
   "execution_count": 27,
   "id": "308cfaf8",
   "metadata": {},
   "outputs": [
    {
     "data": {
      "text/plain": [
       "name   department    salary\n",
       "alex   HR            25000     1\n",
       "pappu  marketing     30000     1\n",
       "ram    Data analyst  60000     1\n",
       "sita   Finance       30000     1\n",
       "dtype: int64"
      ]
     },
     "metadata": {},
     "output_type": "display_data"
    }
   ],
   "source": [
    "import pandas as pd\n",
    "res = pd.read_csv(\"yhill.csv\")\n",
    "sc = [\"name\",\"department\",\"salary\"]\n",
    "display(res[sc].value_counts())"
   ]
  },
  {
   "cell_type": "code",
   "execution_count": 28,
   "id": "8b0acd0e",
   "metadata": {},
   "outputs": [
    {
     "data": {
      "text/plain": [
       "25000    1\n",
       "60000    1\n",
       "30000    2\n",
       "Name: salary, dtype: int64"
      ]
     },
     "metadata": {},
     "output_type": "display_data"
    }
   ],
   "source": [
    "import pandas as pd\n",
    "res = pd.read_csv(\"yhill.csv\")\n",
    "display(res[\"salary\"].value_counts(ascending=True))"
   ]
  },
  {
   "cell_type": "code",
   "execution_count": 29,
   "id": "cb75fd72",
   "metadata": {},
   "outputs": [
    {
     "data": {
      "text/plain": [
       "alex     1\n",
       "sita     1\n",
       "ram      1\n",
       "pappu    1\n",
       "Name: name, dtype: int64"
      ]
     },
     "metadata": {},
     "output_type": "display_data"
    }
   ],
   "source": [
    "import pandas as pd\n",
    "res = pd.read_csv(\"yhill.csv\")\n",
    "display(res[\"name\"].value_counts(ascending=False))"
   ]
  },
  {
   "cell_type": "code",
   "execution_count": 30,
   "id": "510d49ea",
   "metadata": {},
   "outputs": [
    {
     "data": {
      "text/plain": [
       "<pandas.core.groupby.generic.DataFrameGroupBy object at 0x00000188300203D0>"
      ]
     },
     "metadata": {},
     "output_type": "display_data"
    }
   ],
   "source": [
    "display(res.groupby(\"department\"))"
   ]
  },
  {
   "cell_type": "code",
   "execution_count": 31,
   "id": "bc3adb21",
   "metadata": {},
   "outputs": [
    {
     "data": {
      "text/plain": [
       "<pandas.core.groupby.generic.DataFrameGroupBy object at 0x000001882F0D9190>"
      ]
     },
     "execution_count": 31,
     "metadata": {},
     "output_type": "execute_result"
    }
   ],
   "source": [
    "res.groupby(\"name\")\n"
   ]
  },
  {
   "cell_type": "code",
   "execution_count": 33,
   "id": "8fda11de",
   "metadata": {},
   "outputs": [
    {
     "data": {
      "text/plain": [
       "department\n",
       "Data analyst    60000.0\n",
       "Finance         30000.0\n",
       "HR              25000.0\n",
       "marketing       30000.0\n",
       "Name: salary, dtype: float64"
      ]
     },
     "execution_count": 33,
     "metadata": {},
     "output_type": "execute_result"
    }
   ],
   "source": [
    "gdata = res.groupby(\"department\")\n",
    "gdata[\"salary\"].mean()"
   ]
  },
  {
   "cell_type": "code",
   "execution_count": 34,
   "id": "2c7c8a1a",
   "metadata": {},
   "outputs": [
    {
     "data": {
      "text/plain": [
       "department\n",
       "Data analyst    60000\n",
       "Finance         30000\n",
       "HR              25000\n",
       "marketing       30000\n",
       "Name: salary, dtype: int64"
      ]
     },
     "execution_count": 34,
     "metadata": {},
     "output_type": "execute_result"
    }
   ],
   "source": [
    "gdata = res.groupby(\"department\")\n",
    "gdata[\"salary\"].min()"
   ]
  },
  {
   "cell_type": "code",
   "execution_count": 35,
   "id": "8e48d669",
   "metadata": {},
   "outputs": [
    {
     "data": {
      "text/plain": [
       "department\n",
       "Data analyst    60000\n",
       "Finance         30000\n",
       "HR              25000\n",
       "marketing       30000\n",
       "Name: salary, dtype: int64"
      ]
     },
     "execution_count": 35,
     "metadata": {},
     "output_type": "execute_result"
    }
   ],
   "source": [
    "ram = res.groupby(\"department\")\n",
    "ram[\"salary\"].max()"
   ]
  },
  {
   "cell_type": "code",
   "execution_count": 36,
   "id": "7b55afb3",
   "metadata": {},
   "outputs": [
    {
     "data": {
      "text/plain": [
       "department\n",
       "Data analyst    60000\n",
       "Finance         30000\n",
       "HR              25000\n",
       "marketing       30000\n",
       "Name: salary, dtype: int64"
      ]
     },
     "execution_count": 36,
     "metadata": {},
     "output_type": "execute_result"
    }
   ],
   "source": [
    "ram = res.groupby(\"department\")\n",
    "ram[\"salary\"].sum()"
   ]
  },
  {
   "cell_type": "code",
   "execution_count": 37,
   "id": "420a35b0",
   "metadata": {},
   "outputs": [
    {
     "data": {
      "text/html": [
       "<div>\n",
       "<style scoped>\n",
       "    .dataframe tbody tr th:only-of-type {\n",
       "        vertical-align: middle;\n",
       "    }\n",
       "\n",
       "    .dataframe tbody tr th {\n",
       "        vertical-align: top;\n",
       "    }\n",
       "\n",
       "    .dataframe thead th {\n",
       "        text-align: right;\n",
       "    }\n",
       "</style>\n",
       "<table border=\"1\" class=\"dataframe\">\n",
       "  <thead>\n",
       "    <tr style=\"text-align: right;\">\n",
       "      <th></th>\n",
       "      <th>name</th>\n",
       "      <th>department</th>\n",
       "      <th>salary</th>\n",
       "    </tr>\n",
       "  </thead>\n",
       "  <tbody>\n",
       "    <tr>\n",
       "      <th>2</th>\n",
       "      <td>ram</td>\n",
       "      <td>Data analyst</td>\n",
       "      <td>60000</td>\n",
       "    </tr>\n",
       "  </tbody>\n",
       "</table>\n",
       "</div>"
      ],
      "text/plain": [
       "  name    department  salary\n",
       "2  ram  Data analyst   60000"
      ]
     },
     "metadata": {},
     "output_type": "display_data"
    }
   ],
   "source": [
    "display(res[res[\"salary\"]>50000])"
   ]
  },
  {
   "cell_type": "code",
   "execution_count": 38,
   "id": "fb5a337f",
   "metadata": {},
   "outputs": [
    {
     "data": {
      "text/html": [
       "<div>\n",
       "<style scoped>\n",
       "    .dataframe tbody tr th:only-of-type {\n",
       "        vertical-align: middle;\n",
       "    }\n",
       "\n",
       "    .dataframe tbody tr th {\n",
       "        vertical-align: top;\n",
       "    }\n",
       "\n",
       "    .dataframe thead th {\n",
       "        text-align: right;\n",
       "    }\n",
       "</style>\n",
       "<table border=\"1\" class=\"dataframe\">\n",
       "  <thead>\n",
       "    <tr style=\"text-align: right;\">\n",
       "      <th></th>\n",
       "      <th>name</th>\n",
       "      <th>department</th>\n",
       "      <th>salary</th>\n",
       "    </tr>\n",
       "  </thead>\n",
       "  <tbody>\n",
       "  </tbody>\n",
       "</table>\n",
       "</div>"
      ],
      "text/plain": [
       "Empty DataFrame\n",
       "Columns: [name, department, salary]\n",
       "Index: []"
      ]
     },
     "metadata": {},
     "output_type": "display_data"
    }
   ],
   "source": [
    "display(res[res[\"department\"]==\"data analyst\"])"
   ]
  },
  {
   "cell_type": "code",
   "execution_count": 39,
   "id": "87aa6447",
   "metadata": {},
   "outputs": [
    {
     "data": {
      "text/html": [
       "<div>\n",
       "<style scoped>\n",
       "    .dataframe tbody tr th:only-of-type {\n",
       "        vertical-align: middle;\n",
       "    }\n",
       "\n",
       "    .dataframe tbody tr th {\n",
       "        vertical-align: top;\n",
       "    }\n",
       "\n",
       "    .dataframe thead th {\n",
       "        text-align: right;\n",
       "    }\n",
       "</style>\n",
       "<table border=\"1\" class=\"dataframe\">\n",
       "  <thead>\n",
       "    <tr style=\"text-align: right;\">\n",
       "      <th></th>\n",
       "      <th>name</th>\n",
       "      <th>department</th>\n",
       "      <th>salary</th>\n",
       "    </tr>\n",
       "  </thead>\n",
       "  <tbody>\n",
       "    <tr>\n",
       "      <th>2</th>\n",
       "      <td>ram</td>\n",
       "      <td>Data analyst</td>\n",
       "      <td>60000</td>\n",
       "    </tr>\n",
       "  </tbody>\n",
       "</table>\n",
       "</div>"
      ],
      "text/plain": [
       "  name    department  salary\n",
       "2  ram  Data analyst   60000"
      ]
     },
     "metadata": {},
     "output_type": "display_data"
    }
   ],
   "source": [
    "display(res[res[\"salary\"]>40000])"
   ]
  },
  {
   "cell_type": "code",
   "execution_count": 40,
   "id": "a6a97bcf",
   "metadata": {},
   "outputs": [
    {
     "data": {
      "text/html": [
       "<div>\n",
       "<style scoped>\n",
       "    .dataframe tbody tr th:only-of-type {\n",
       "        vertical-align: middle;\n",
       "    }\n",
       "\n",
       "    .dataframe tbody tr th {\n",
       "        vertical-align: top;\n",
       "    }\n",
       "\n",
       "    .dataframe thead th {\n",
       "        text-align: right;\n",
       "    }\n",
       "</style>\n",
       "<table border=\"1\" class=\"dataframe\">\n",
       "  <thead>\n",
       "    <tr style=\"text-align: right;\">\n",
       "      <th></th>\n",
       "      <th>name</th>\n",
       "      <th>department</th>\n",
       "      <th>salary</th>\n",
       "    </tr>\n",
       "  </thead>\n",
       "  <tbody>\n",
       "    <tr>\n",
       "      <th>0</th>\n",
       "      <td>alex</td>\n",
       "      <td>HR</td>\n",
       "      <td>25000</td>\n",
       "    </tr>\n",
       "  </tbody>\n",
       "</table>\n",
       "</div>"
      ],
      "text/plain": [
       "   name department  salary\n",
       "0  alex         HR   25000"
      ]
     },
     "metadata": {},
     "output_type": "display_data"
    }
   ],
   "source": [
    "display(res[res[\"salary\"]<30000])"
   ]
  },
  {
   "cell_type": "code",
   "execution_count": 41,
   "id": "c6dcd7e5",
   "metadata": {},
   "outputs": [
    {
     "data": {
      "text/plain": [
       "department\n",
       "Data analyst    60000.0\n",
       "Finance         30000.0\n",
       "HR              25000.0\n",
       "marketing       30000.0\n",
       "Name: salary, dtype: float64"
      ]
     },
     "metadata": {},
     "output_type": "display_data"
    }
   ],
   "source": [
    "gdata = res.groupby(\"department\") [\"salary\"].mean()\n",
    "display(gdata)"
   ]
  },
  {
   "cell_type": "code",
   "execution_count": 42,
   "id": "98410954",
   "metadata": {},
   "outputs": [
    {
     "data": {
      "text/plain": [
       "department\n",
       "Data analyst    60000\n",
       "Finance         30000\n",
       "HR              25000\n",
       "marketing       30000\n",
       "Name: salary, dtype: int64"
      ]
     },
     "metadata": {},
     "output_type": "display_data"
    }
   ],
   "source": [
    "gdata = res.groupby(\"department\")[\"salary\"].min()\n",
    "display(gdata)"
   ]
  },
  {
   "cell_type": "code",
   "execution_count": 43,
   "id": "0018f25b",
   "metadata": {},
   "outputs": [
    {
     "data": {
      "text/plain": [
       "department\n",
       "Data analyst    60000.0\n",
       "Finance         30000.0\n",
       "HR              25000.0\n",
       "marketing       30000.0\n",
       "Name: salary, dtype: float64"
      ]
     },
     "metadata": {},
     "output_type": "display_data"
    }
   ],
   "source": [
    "gdata = res.groupby(\"department\")\n",
    "data = gdata[\"salary\"].mean()\n",
    "display(data)"
   ]
  },
  {
   "cell_type": "code",
   "execution_count": 44,
   "id": "98b9c57b",
   "metadata": {},
   "outputs": [
    {
     "data": {
      "text/plain": [
       "array(['alex', 'sita', 'ram', 'pappu'], dtype=object)"
      ]
     },
     "metadata": {},
     "output_type": "display_data"
    }
   ],
   "source": [
    "display(res[\"name\"].unique())"
   ]
  },
  {
   "cell_type": "code",
   "execution_count": 45,
   "id": "75b2b5f1",
   "metadata": {},
   "outputs": [
    {
     "data": {
      "text/plain": [
       "array(['HR', 'Finance', 'Data analyst', 'marketing'], dtype=object)"
      ]
     },
     "metadata": {},
     "output_type": "display_data"
    }
   ],
   "source": [
    "display(res[\"department\"].unique())"
   ]
  },
  {
   "cell_type": "code",
   "execution_count": 46,
   "id": "ae458ba6",
   "metadata": {},
   "outputs": [
    {
     "data": {
      "text/plain": [
       "array([25000, 30000, 60000], dtype=int64)"
      ]
     },
     "execution_count": 46,
     "metadata": {},
     "output_type": "execute_result"
    }
   ],
   "source": [
    "res[\"salary\"].unique()\n"
   ]
  },
  {
   "cell_type": "code",
   "execution_count": 47,
   "id": "2ca5ff2a",
   "metadata": {},
   "outputs": [
    {
     "name": "stdout",
     "output_type": "stream",
     "text": [
      "    name    department  salary\n",
      "2    ram  Data analyst   60000\n",
      "1   sita       Finance   30000\n",
      "0   alex            HR   25000\n",
      "3  pappu     marketing   30000\n"
     ]
    }
   ],
   "source": [
    "print(res.sort_values(by=\"department\",ascending=True))"
   ]
  },
  {
   "cell_type": "code",
   "execution_count": 48,
   "id": "e62baa84",
   "metadata": {},
   "outputs": [
    {
     "data": {
      "text/html": [
       "<div>\n",
       "<style scoped>\n",
       "    .dataframe tbody tr th:only-of-type {\n",
       "        vertical-align: middle;\n",
       "    }\n",
       "\n",
       "    .dataframe tbody tr th {\n",
       "        vertical-align: top;\n",
       "    }\n",
       "\n",
       "    .dataframe thead th {\n",
       "        text-align: right;\n",
       "    }\n",
       "</style>\n",
       "<table border=\"1\" class=\"dataframe\">\n",
       "  <thead>\n",
       "    <tr style=\"text-align: right;\">\n",
       "      <th></th>\n",
       "      <th>name</th>\n",
       "      <th>department</th>\n",
       "      <th>salary</th>\n",
       "    </tr>\n",
       "  </thead>\n",
       "  <tbody>\n",
       "    <tr>\n",
       "      <th>0</th>\n",
       "      <td>alex</td>\n",
       "      <td>HR</td>\n",
       "      <td>25000</td>\n",
       "    </tr>\n",
       "    <tr>\n",
       "      <th>3</th>\n",
       "      <td>pappu</td>\n",
       "      <td>marketing</td>\n",
       "      <td>30000</td>\n",
       "    </tr>\n",
       "    <tr>\n",
       "      <th>2</th>\n",
       "      <td>ram</td>\n",
       "      <td>Data analyst</td>\n",
       "      <td>60000</td>\n",
       "    </tr>\n",
       "    <tr>\n",
       "      <th>1</th>\n",
       "      <td>sita</td>\n",
       "      <td>Finance</td>\n",
       "      <td>30000</td>\n",
       "    </tr>\n",
       "  </tbody>\n",
       "</table>\n",
       "</div>"
      ],
      "text/plain": [
       "    name    department  salary\n",
       "0   alex            HR   25000\n",
       "3  pappu     marketing   30000\n",
       "2    ram  Data analyst   60000\n",
       "1   sita       Finance   30000"
      ]
     },
     "metadata": {},
     "output_type": "display_data"
    }
   ],
   "source": [
    "display(res.sort_values(by=\"name\",ascending=True))"
   ]
  },
  {
   "cell_type": "code",
   "execution_count": 50,
   "id": "4fee0eb3",
   "metadata": {},
   "outputs": [
    {
     "data": {
      "text/html": [
       "<div>\n",
       "<style scoped>\n",
       "    .dataframe tbody tr th:only-of-type {\n",
       "        vertical-align: middle;\n",
       "    }\n",
       "\n",
       "    .dataframe tbody tr th {\n",
       "        vertical-align: top;\n",
       "    }\n",
       "\n",
       "    .dataframe thead th {\n",
       "        text-align: right;\n",
       "    }\n",
       "</style>\n",
       "<table border=\"1\" class=\"dataframe\">\n",
       "  <thead>\n",
       "    <tr style=\"text-align: right;\">\n",
       "      <th></th>\n",
       "      <th>name</th>\n",
       "      <th>department</th>\n",
       "      <th>salary</th>\n",
       "    </tr>\n",
       "  </thead>\n",
       "  <tbody>\n",
       "    <tr>\n",
       "      <th>0</th>\n",
       "      <td>alex</td>\n",
       "      <td>HR</td>\n",
       "      <td>25000</td>\n",
       "    </tr>\n",
       "    <tr>\n",
       "      <th>1</th>\n",
       "      <td>sita</td>\n",
       "      <td>Finance</td>\n",
       "      <td>30000</td>\n",
       "    </tr>\n",
       "    <tr>\n",
       "      <th>2</th>\n",
       "      <td>ram</td>\n",
       "      <td>Data analyst</td>\n",
       "      <td>60000</td>\n",
       "    </tr>\n",
       "    <tr>\n",
       "      <th>3</th>\n",
       "      <td>pappu</td>\n",
       "      <td>marketing</td>\n",
       "      <td>30000</td>\n",
       "    </tr>\n",
       "  </tbody>\n",
       "</table>\n",
       "</div>"
      ],
      "text/plain": [
       "    name    department  salary\n",
       "0   alex            HR   25000\n",
       "1   sita       Finance   30000\n",
       "2    ram  Data analyst   60000\n",
       "3  pappu     marketing   30000"
      ]
     },
     "metadata": {},
     "output_type": "display_data"
    }
   ],
   "source": [
    "import pandas as pd\n",
    "res = pd.read_csv(\"yhill.csv\")\n",
    "display(res)"
   ]
  },
  {
   "cell_type": "code",
   "execution_count": 52,
   "id": "7867fc9a",
   "metadata": {},
   "outputs": [
    {
     "data": {
      "text/html": [
       "<div>\n",
       "<style scoped>\n",
       "    .dataframe tbody tr th:only-of-type {\n",
       "        vertical-align: middle;\n",
       "    }\n",
       "\n",
       "    .dataframe tbody tr th {\n",
       "        vertical-align: top;\n",
       "    }\n",
       "\n",
       "    .dataframe thead th {\n",
       "        text-align: right;\n",
       "    }\n",
       "</style>\n",
       "<table border=\"1\" class=\"dataframe\">\n",
       "  <thead>\n",
       "    <tr style=\"text-align: right;\">\n",
       "      <th></th>\n",
       "      <th>name</th>\n",
       "      <th>department</th>\n",
       "      <th>salary</th>\n",
       "    </tr>\n",
       "  </thead>\n",
       "  <tbody>\n",
       "    <tr>\n",
       "      <th>0</th>\n",
       "      <td>alex</td>\n",
       "      <td>HR</td>\n",
       "      <td>25000</td>\n",
       "    </tr>\n",
       "  </tbody>\n",
       "</table>\n",
       "</div>"
      ],
      "text/plain": [
       "   name department  salary\n",
       "0  alex         HR   25000"
      ]
     },
     "metadata": {},
     "output_type": "display_data"
    }
   ],
   "source": [
    "display(res[res[\"department\"].isin([\"HR\"])])"
   ]
  },
  {
   "cell_type": "code",
   "execution_count": 53,
   "id": "52197054",
   "metadata": {},
   "outputs": [
    {
     "data": {
      "text/html": [
       "<div>\n",
       "<style scoped>\n",
       "    .dataframe tbody tr th:only-of-type {\n",
       "        vertical-align: middle;\n",
       "    }\n",
       "\n",
       "    .dataframe tbody tr th {\n",
       "        vertical-align: top;\n",
       "    }\n",
       "\n",
       "    .dataframe thead th {\n",
       "        text-align: right;\n",
       "    }\n",
       "</style>\n",
       "<table border=\"1\" class=\"dataframe\">\n",
       "  <thead>\n",
       "    <tr style=\"text-align: right;\">\n",
       "      <th></th>\n",
       "      <th>name</th>\n",
       "      <th>department</th>\n",
       "      <th>salary</th>\n",
       "    </tr>\n",
       "  </thead>\n",
       "  <tbody>\n",
       "  </tbody>\n",
       "</table>\n",
       "</div>"
      ],
      "text/plain": [
       "Empty DataFrame\n",
       "Columns: [name, department, salary]\n",
       "Index: []"
      ]
     },
     "metadata": {},
     "output_type": "display_data"
    }
   ],
   "source": [
    "display(res[res[\"salary\"].isin([20000])])"
   ]
  },
  {
   "cell_type": "code",
   "execution_count": 54,
   "id": "60a7ca27",
   "metadata": {},
   "outputs": [
    {
     "data": {
      "text/html": [
       "<div>\n",
       "<style scoped>\n",
       "    .dataframe tbody tr th:only-of-type {\n",
       "        vertical-align: middle;\n",
       "    }\n",
       "\n",
       "    .dataframe tbody tr th {\n",
       "        vertical-align: top;\n",
       "    }\n",
       "\n",
       "    .dataframe thead th {\n",
       "        text-align: right;\n",
       "    }\n",
       "</style>\n",
       "<table border=\"1\" class=\"dataframe\">\n",
       "  <thead>\n",
       "    <tr style=\"text-align: right;\">\n",
       "      <th></th>\n",
       "      <th>name</th>\n",
       "      <th>department</th>\n",
       "      <th>salary</th>\n",
       "    </tr>\n",
       "  </thead>\n",
       "  <tbody>\n",
       "  </tbody>\n",
       "</table>\n",
       "</div>"
      ],
      "text/plain": [
       "Empty DataFrame\n",
       "Columns: [name, department, salary]\n",
       "Index: []"
      ]
     },
     "metadata": {},
     "output_type": "display_data"
    }
   ],
   "source": [
    "display(res[res[\"department\"].isin([\"data analyst\"])])"
   ]
  },
  {
   "cell_type": "code",
   "execution_count": 55,
   "id": "a598d5d5",
   "metadata": {},
   "outputs": [
    {
     "data": {
      "text/html": [
       "<div>\n",
       "<style scoped>\n",
       "    .dataframe tbody tr th:only-of-type {\n",
       "        vertical-align: middle;\n",
       "    }\n",
       "\n",
       "    .dataframe tbody tr th {\n",
       "        vertical-align: top;\n",
       "    }\n",
       "\n",
       "    .dataframe thead th {\n",
       "        text-align: right;\n",
       "    }\n",
       "</style>\n",
       "<table border=\"1\" class=\"dataframe\">\n",
       "  <thead>\n",
       "    <tr style=\"text-align: right;\">\n",
       "      <th></th>\n",
       "      <th>name</th>\n",
       "      <th>department</th>\n",
       "      <th>salary</th>\n",
       "    </tr>\n",
       "  </thead>\n",
       "  <tbody>\n",
       "    <tr>\n",
       "      <th>0</th>\n",
       "      <td>alex</td>\n",
       "      <td>HR</td>\n",
       "      <td>25000</td>\n",
       "    </tr>\n",
       "  </tbody>\n",
       "</table>\n",
       "</div>"
      ],
      "text/plain": [
       "   name department  salary\n",
       "0  alex         HR   25000"
      ]
     },
     "metadata": {},
     "output_type": "display_data"
    }
   ],
   "source": [
    "display(res[res[\"department\"]==\"HR\"])"
   ]
  },
  {
   "cell_type": "code",
   "execution_count": 56,
   "id": "a9ced395",
   "metadata": {},
   "outputs": [
    {
     "data": {
      "text/html": [
       "<div>\n",
       "<style scoped>\n",
       "    .dataframe tbody tr th:only-of-type {\n",
       "        vertical-align: middle;\n",
       "    }\n",
       "\n",
       "    .dataframe tbody tr th {\n",
       "        vertical-align: top;\n",
       "    }\n",
       "\n",
       "    .dataframe thead th {\n",
       "        text-align: right;\n",
       "    }\n",
       "</style>\n",
       "<table border=\"1\" class=\"dataframe\">\n",
       "  <thead>\n",
       "    <tr style=\"text-align: right;\">\n",
       "      <th></th>\n",
       "      <th>name</th>\n",
       "      <th>department</th>\n",
       "      <th>salary</th>\n",
       "    </tr>\n",
       "  </thead>\n",
       "  <tbody>\n",
       "    <tr>\n",
       "      <th>0</th>\n",
       "      <td>alex</td>\n",
       "      <td>HR</td>\n",
       "      <td>25000</td>\n",
       "    </tr>\n",
       "    <tr>\n",
       "      <th>1</th>\n",
       "      <td>sita</td>\n",
       "      <td>Finance</td>\n",
       "      <td>30000</td>\n",
       "    </tr>\n",
       "  </tbody>\n",
       "</table>\n",
       "</div>"
      ],
      "text/plain": [
       "   name department  salary\n",
       "0  alex         HR   25000\n",
       "1  sita    Finance   30000"
      ]
     },
     "metadata": {},
     "output_type": "display_data"
    }
   ],
   "source": [
    "display(res[res[\"department\"].isin([\"HR\",\"Marketing\",\"Finance\"])])"
   ]
  },
  {
   "cell_type": "code",
   "execution_count": 57,
   "id": "c224c027",
   "metadata": {},
   "outputs": [
    {
     "name": "stdout",
     "output_type": "stream",
     "text": [
      "    name    department     salary\n",
      "0   alex            HR  2070750.0\n",
      "1   sita       Finance  2484900.0\n",
      "2    ram  Data analyst  4969800.0\n",
      "3  pappu     marketing  2484900.0\n"
     ]
    }
   ],
   "source": [
    "res[\"salary\"] = res[\"salary\"]*82.83\n",
    "print(res)"
   ]
  },
  {
   "cell_type": "code",
   "execution_count": 58,
   "id": "c51e09aa",
   "metadata": {},
   "outputs": [
    {
     "name": "stdout",
     "output_type": "stream",
     "text": [
      "    name    department   salary\n",
      "0   alex            HR  25000.0\n",
      "1   sita       Finance  30000.0\n",
      "2    ram  Data analyst  60000.0\n",
      "3  pappu     marketing  30000.0\n"
     ]
    }
   ],
   "source": [
    "res[\"salary\"]=res[\"salary\"]/82.83\n",
    "print(res)"
   ]
  },
  {
   "cell_type": "code",
   "execution_count": 59,
   "id": "16cf74ce",
   "metadata": {},
   "outputs": [
    {
     "data": {
      "text/html": [
       "<div>\n",
       "<style scoped>\n",
       "    .dataframe tbody tr th:only-of-type {\n",
       "        vertical-align: middle;\n",
       "    }\n",
       "\n",
       "    .dataframe tbody tr th {\n",
       "        vertical-align: top;\n",
       "    }\n",
       "\n",
       "    .dataframe thead th {\n",
       "        text-align: right;\n",
       "    }\n",
       "</style>\n",
       "<table border=\"1\" class=\"dataframe\">\n",
       "  <thead>\n",
       "    <tr style=\"text-align: right;\">\n",
       "      <th></th>\n",
       "      <th>name</th>\n",
       "      <th>department</th>\n",
       "      <th>salary</th>\n",
       "    </tr>\n",
       "  </thead>\n",
       "  <tbody>\n",
       "    <tr>\n",
       "      <th>0</th>\n",
       "      <td>alex</td>\n",
       "      <td>HR</td>\n",
       "      <td>25000</td>\n",
       "    </tr>\n",
       "    <tr>\n",
       "      <th>1</th>\n",
       "      <td>sita</td>\n",
       "      <td>Finance</td>\n",
       "      <td>30000</td>\n",
       "    </tr>\n",
       "    <tr>\n",
       "      <th>2</th>\n",
       "      <td>ram</td>\n",
       "      <td>Data analyst</td>\n",
       "      <td>60000</td>\n",
       "    </tr>\n",
       "    <tr>\n",
       "      <th>3</th>\n",
       "      <td>pappu</td>\n",
       "      <td>marketing</td>\n",
       "      <td>30000</td>\n",
       "    </tr>\n",
       "  </tbody>\n",
       "</table>\n",
       "</div>"
      ],
      "text/plain": [
       "    name    department  salary\n",
       "0   alex            HR   25000\n",
       "1   sita       Finance   30000\n",
       "2    ram  Data analyst   60000\n",
       "3  pappu     marketing   30000"
      ]
     },
     "execution_count": 59,
     "metadata": {},
     "output_type": "execute_result"
    }
   ],
   "source": [
    "import pandas as pd\n",
    "res = pd.read_csv(\"yhill.csv\")\n",
    "cdata = res.copy()\n",
    "cdata"
   ]
  },
  {
   "cell_type": "code",
   "execution_count": 61,
   "id": "a2e0e632",
   "metadata": {},
   "outputs": [
    {
     "name": "stdout",
     "output_type": "stream",
     "text": [
      "5.0\n"
     ]
    }
   ],
   "source": [
    "def bonus(salary):\n",
    "    if salary>30000:\n",
    "        return salary*(10/100)\n",
    "    else:\n",
    "        return salary*(5/100)\n",
    "res = bonus(100)\n",
    "print(res)"
   ]
  },
  {
   "cell_type": "code",
   "execution_count": 62,
   "id": "904aac96",
   "metadata": {},
   "outputs": [
    {
     "name": "stdout",
     "output_type": "stream",
     "text": [
      "5.0\n"
     ]
    }
   ],
   "source": [
    "def bonus(salary):\n",
    "    if salary>20000:\n",
    "        return salary*(10/100)\n",
    "    else:\n",
    "        return salary*(5/100)\n",
    "res = bonus(100)\n",
    "print(res)"
   ]
  },
  {
   "cell_type": "code",
   "execution_count": 63,
   "id": "0e8c010a",
   "metadata": {},
   "outputs": [
    {
     "data": {
      "text/html": [
       "<div>\n",
       "<style scoped>\n",
       "    .dataframe tbody tr th:only-of-type {\n",
       "        vertical-align: middle;\n",
       "    }\n",
       "\n",
       "    .dataframe tbody tr th {\n",
       "        vertical-align: top;\n",
       "    }\n",
       "\n",
       "    .dataframe thead th {\n",
       "        text-align: right;\n",
       "    }\n",
       "</style>\n",
       "<table border=\"1\" class=\"dataframe\">\n",
       "  <thead>\n",
       "    <tr style=\"text-align: right;\">\n",
       "      <th></th>\n",
       "      <th>name</th>\n",
       "      <th>department</th>\n",
       "      <th>salary</th>\n",
       "      <th>Bonus</th>\n",
       "    </tr>\n",
       "  </thead>\n",
       "  <tbody>\n",
       "    <tr>\n",
       "      <th>0</th>\n",
       "      <td>alex</td>\n",
       "      <td>HR</td>\n",
       "      <td>25000</td>\n",
       "      <td>2500.0</td>\n",
       "    </tr>\n",
       "    <tr>\n",
       "      <th>1</th>\n",
       "      <td>sita</td>\n",
       "      <td>Finance</td>\n",
       "      <td>30000</td>\n",
       "      <td>3000.0</td>\n",
       "    </tr>\n",
       "    <tr>\n",
       "      <th>2</th>\n",
       "      <td>ram</td>\n",
       "      <td>Data analyst</td>\n",
       "      <td>60000</td>\n",
       "      <td>6000.0</td>\n",
       "    </tr>\n",
       "    <tr>\n",
       "      <th>3</th>\n",
       "      <td>pappu</td>\n",
       "      <td>marketing</td>\n",
       "      <td>30000</td>\n",
       "      <td>3000.0</td>\n",
       "    </tr>\n",
       "  </tbody>\n",
       "</table>\n",
       "</div>"
      ],
      "text/plain": [
       "    name    department  salary   Bonus\n",
       "0   alex            HR   25000  2500.0\n",
       "1   sita       Finance   30000  3000.0\n",
       "2    ram  Data analyst   60000  6000.0\n",
       "3  pappu     marketing   30000  3000.0"
      ]
     },
     "execution_count": 63,
     "metadata": {},
     "output_type": "execute_result"
    }
   ],
   "source": [
    "cdata[\"Bonus\"] = cdata[\"salary\"].apply(bonus)\n",
    "cdata"
   ]
  },
  {
   "cell_type": "code",
   "execution_count": 67,
   "id": "455704e4",
   "metadata": {},
   "outputs": [],
   "source": [
    "def upperFun(name):\n",
    "    return name.upper()"
   ]
  },
  {
   "cell_type": "code",
   "execution_count": 68,
   "id": "2b1267cd",
   "metadata": {},
   "outputs": [
    {
     "data": {
      "text/html": [
       "<div>\n",
       "<style scoped>\n",
       "    .dataframe tbody tr th:only-of-type {\n",
       "        vertical-align: middle;\n",
       "    }\n",
       "\n",
       "    .dataframe tbody tr th {\n",
       "        vertical-align: top;\n",
       "    }\n",
       "\n",
       "    .dataframe thead th {\n",
       "        text-align: right;\n",
       "    }\n",
       "</style>\n",
       "<table border=\"1\" class=\"dataframe\">\n",
       "  <thead>\n",
       "    <tr style=\"text-align: right;\">\n",
       "      <th></th>\n",
       "      <th>name</th>\n",
       "      <th>department</th>\n",
       "      <th>salary</th>\n",
       "      <th>Bonus</th>\n",
       "      <th>Name</th>\n",
       "    </tr>\n",
       "  </thead>\n",
       "  <tbody>\n",
       "    <tr>\n",
       "      <th>0</th>\n",
       "      <td>alex</td>\n",
       "      <td>HR</td>\n",
       "      <td>25000</td>\n",
       "      <td>2500.0</td>\n",
       "      <td>ALEX</td>\n",
       "    </tr>\n",
       "    <tr>\n",
       "      <th>1</th>\n",
       "      <td>sita</td>\n",
       "      <td>Finance</td>\n",
       "      <td>30000</td>\n",
       "      <td>3000.0</td>\n",
       "      <td>SITA</td>\n",
       "    </tr>\n",
       "    <tr>\n",
       "      <th>2</th>\n",
       "      <td>ram</td>\n",
       "      <td>Data analyst</td>\n",
       "      <td>60000</td>\n",
       "      <td>6000.0</td>\n",
       "      <td>RAM</td>\n",
       "    </tr>\n",
       "    <tr>\n",
       "      <th>3</th>\n",
       "      <td>pappu</td>\n",
       "      <td>marketing</td>\n",
       "      <td>30000</td>\n",
       "      <td>3000.0</td>\n",
       "      <td>PAPPU</td>\n",
       "    </tr>\n",
       "  </tbody>\n",
       "</table>\n",
       "</div>"
      ],
      "text/plain": [
       "    name    department  salary   Bonus   Name\n",
       "0   alex            HR   25000  2500.0   ALEX\n",
       "1   sita       Finance   30000  3000.0   SITA\n",
       "2    ram  Data analyst   60000  6000.0    RAM\n",
       "3  pappu     marketing   30000  3000.0  PAPPU"
      ]
     },
     "execution_count": 68,
     "metadata": {},
     "output_type": "execute_result"
    }
   ],
   "source": [
    "cdata[\"Name\"] = cdata[\"name\"].apply(upperFun)\n",
    "cdata"
   ]
  },
  {
   "cell_type": "code",
   "execution_count": null,
   "id": "7b3b25a5",
   "metadata": {},
   "outputs": [],
   "source": [
    "import pandas as pd\n",
    "data = {\n",
    "    \"name\":[\"alex\",\"pappu\",\"pooja\",\"pihu\"],\n",
    "    \"salary\":[10000,20000,30000,40000],\n",
    "    \"department\":[\"HR\",\"Data analyst\",\"Data scientist\",\"data engineer\"]\n",
    "}\n",
    "res = pd.DataFrame(data)\n",
    "print(res)"
   ]
  }
 ],
 "metadata": {
  "kernelspec": {
   "display_name": "Python 3 (ipykernel)",
   "language": "python",
   "name": "python3"
  },
  "language_info": {
   "codemirror_mode": {
    "name": "ipython",
    "version": 3
   },
   "file_extension": ".py",
   "mimetype": "text/x-python",
   "name": "python",
   "nbconvert_exporter": "python",
   "pygments_lexer": "ipython3",
   "version": "3.11.3"
  }
 },
 "nbformat": 4,
 "nbformat_minor": 5
}
