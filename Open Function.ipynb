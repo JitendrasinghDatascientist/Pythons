{
 "cells": [
  {
   "cell_type": "code",
   "execution_count": 1,
   "id": "c9a93260",
   "metadata": {},
   "outputs": [
    {
     "name": "stdout",
     "output_type": "stream",
     "text": [
      "India kaise hoojiooo\n"
     ]
    }
   ],
   "source": [
    "data = open(\"India.txt\")\n",
    "for i in data:\n",
    "    print(i)"
   ]
  },
  {
   "cell_type": "code",
   "execution_count": 2,
   "id": "598eeeaf",
   "metadata": {},
   "outputs": [
    {
     "name": "stdout",
     "output_type": "stream",
     "text": [
      "<_io.TextIOWrapper name='india.txt' mode='r' encoding='cp1252'>\n"
     ]
    }
   ],
   "source": [
    "data = open(\"india.txt\")\n",
    "print(data)"
   ]
  },
  {
   "cell_type": "code",
   "execution_count": 3,
   "id": "68edb577",
   "metadata": {},
   "outputs": [
    {
     "name": "stdout",
     "output_type": "stream",
     "text": [
      "India kaise hoojiooo\n"
     ]
    }
   ],
   "source": [
    "for i in data:\n",
    "    print(i)"
   ]
  },
  {
   "cell_type": "code",
   "execution_count": 4,
   "id": "5b6af8c3",
   "metadata": {},
   "outputs": [
    {
     "name": "stdout",
     "output_type": "stream",
     "text": [
      "<_io.TextIOWrapper name='US.txt' mode='r' encoding='cp1252'>\n"
     ]
    }
   ],
   "source": [
    "res = open(\"US.txt\")\n",
    "print(res)"
   ]
  },
  {
   "cell_type": "code",
   "execution_count": 5,
   "id": "f767a31b",
   "metadata": {},
   "outputs": [
    {
     "name": "stdout",
     "output_type": "stream",
     "text": [
      "The United States of America (USA or U.S.A.), commonly known as the United States (US or U.S.) or America, is a country primarily located in North America, between Canada and Mexico. It is a federation of 50 states, a federal capital district (Washington, D.C.), and 326 Indian reservations. Outside the union of states, it asserts sovereignty over five major unincorporated island territories and various uninhabited islands.[j] The country has the world's third-largest land area,[d] largest maritime exclusive economic zone, and the third-largest population, exceeding 334 million.\n"
     ]
    }
   ],
   "source": [
    "for i in res:\n",
    "    print(i)"
   ]
  },
  {
   "cell_type": "code",
   "execution_count": 6,
   "id": "da3d24d2",
   "metadata": {},
   "outputs": [
    {
     "name": "stdout",
     "output_type": "stream",
     "text": [
      "The United States of America (USA or U.S.A.), commonly known as the United States (US or U.S.) or America, is a country primarily located in North America, between Canada and Mexico. It is a federation of 50 states, a federal capital district (Washington, D.C.), and 326 Indian reservations. Outside the union of states, it asserts sovereignty over five major unincorporated island territories and various uninhabited islands.[j] The country has the world's third-largest land area,[d] largest maritime exclusive economic zone, and the third-largest population, exceeding 334 million.\n"
     ]
    }
   ],
   "source": [
    "file = open(\"US.txt\")\n",
    "content = file.read()\n",
    "print(content)"
   ]
  },
  {
   "cell_type": "code",
   "execution_count": 7,
   "id": "7ed68e84",
   "metadata": {},
   "outputs": [
    {
     "name": "stdout",
     "output_type": "stream",
     "text": [
      "<_io.TextIOWrapper name='US.txt' mode='r' encoding='cp1252'>\n"
     ]
    }
   ],
   "source": [
    "data = open(\"US.txt\")\n",
    "print(data)"
   ]
  },
  {
   "cell_type": "code",
   "execution_count": 8,
   "id": "1b44fa27",
   "metadata": {},
   "outputs": [
    {
     "name": "stdout",
     "output_type": "stream",
     "text": [
      "The United States of America (USA or U.S.A.), commonly known as the United States (US or U.S.) or America, is a country primarily located in North America, between Canada and Mexico. It is a federation of 50 states, a federal capital district (Washington, D.C.), and 326 Indian reservations. Outside the union of states, it asserts sovereignty over five major unincorporated island territories and various uninhabited islands.[j] The country has the world's third-largest land area,[d] largest maritime exclusive economic zone, and the third-largest population, exceeding 334 million.\n"
     ]
    }
   ],
   "source": [
    "for i in data:\n",
    "    print(i)"
   ]
  },
  {
   "cell_type": "code",
   "execution_count": 9,
   "id": "fc636652",
   "metadata": {},
   "outputs": [
    {
     "name": "stdout",
     "output_type": "stream",
     "text": [
      "The United States of America (USA or U.S.A.), commonly known as the United States (US or U.S.) or America, is a country primarily located in North America, between Canada and Mexico. It is a federation of 50 states, a federal capital district (Washington, D.C.), and 326 Indian reservations. Outside the union of states, it asserts sovereignty over five major unincorporated island territories and various uninhabited islands.[j] The country has the world's third-largest land area,[d] largest maritime exclusive economic zone, and the third-largest population, exceeding 334 million.\n"
     ]
    }
   ],
   "source": [
    "file = open(\"US.txt\")\n",
    "con = file.read()\n",
    "print(con)"
   ]
  },
  {
   "cell_type": "code",
   "execution_count": 10,
   "id": "bcf63443",
   "metadata": {},
   "outputs": [
    {
     "name": "stdout",
     "output_type": "stream",
     "text": [
      "[\"The United States of America (USA or U.S.A.), commonly known as the United States (US or U.S.) or America, is a country primarily located in North America, between Canada and Mexico. It is a federation of 50 states, a federal capital district (Washington, D.C.), and 326 Indian reservations. Outside the union of states, it asserts sovereignty over five major unincorporated island territories and various uninhabited islands.[j] The country has the world's third-largest land area,[d] largest maritime exclusive economic zone, and the third-largest population, exceeding 334 million.\"]\n"
     ]
    }
   ],
   "source": [
    "file = open(\"US.txt\")\n",
    "con = file.readlines()\n",
    "print(con)"
   ]
  },
  {
   "cell_type": "code",
   "execution_count": 11,
   "id": "7c929553",
   "metadata": {},
   "outputs": [],
   "source": [
    "file = open(\"US.txt\",\"w\")\n",
    "file.write(\"Hello world\")\n",
    "file.close()"
   ]
  },
  {
   "cell_type": "code",
   "execution_count": 12,
   "id": "dd3af80b",
   "metadata": {},
   "outputs": [],
   "source": [
    "file = open(\"US.txt\",\"w\")\n",
    "file.write(\"Kwejriwal jail gaya\")\n",
    "file.close()"
   ]
  },
  {
   "cell_type": "code",
   "execution_count": 13,
   "id": "9b14ae1f",
   "metadata": {},
   "outputs": [
    {
     "name": "stdout",
     "output_type": "stream",
     "text": [
      "Kwejriwal jail gaya\n"
     ]
    }
   ],
   "source": [
    "file = open(\"US.txt\")\n",
    "con = file.read()\n",
    "print(con)"
   ]
  },
  {
   "cell_type": "code",
   "execution_count": 15,
   "id": "6512e6a0",
   "metadata": {},
   "outputs": [],
   "source": [
    "file = open(\"US.txt\",\"a\")\n",
    "file.write(\"  Jai hind\")\n",
    "file.close()"
   ]
  },
  {
   "cell_type": "code",
   "execution_count": 16,
   "id": "77d09ec5",
   "metadata": {},
   "outputs": [
    {
     "name": "stdout",
     "output_type": "stream",
     "text": [
      "Kwejriwal jail gayaJai hind  Jai hind\n"
     ]
    }
   ],
   "source": [
    "file = open(\"US.txt\")\n",
    "con = file.read()\n",
    "print(con)"
   ]
  },
  {
   "cell_type": "code",
   "execution_count": 17,
   "id": "c73ea203",
   "metadata": {},
   "outputs": [],
   "source": [
    "file = open(\"US.txt\",\"w\")\n",
    "file.write(\"Neha gone to our home\")\n",
    "file.close()"
   ]
  },
  {
   "cell_type": "code",
   "execution_count": 18,
   "id": "00447347",
   "metadata": {},
   "outputs": [],
   "source": [
    "file = open(\"US.txt\",\"a\")\n",
    "file.write(\"jitendra u want to become a data analyst in this month\")\n",
    "file.close()"
   ]
  },
  {
   "cell_type": "code",
   "execution_count": 19,
   "id": "c4812644",
   "metadata": {},
   "outputs": [
    {
     "name": "stdout",
     "output_type": "stream",
     "text": [
      "<_io.TextIOWrapper name='india.txt' mode='r' encoding='cp1252'>\n"
     ]
    }
   ],
   "source": [
    "data = open(\"india.txt\")\n",
    "print(data)"
   ]
  },
  {
   "cell_type": "code",
   "execution_count": 20,
   "id": "7927b233",
   "metadata": {},
   "outputs": [
    {
     "name": "stdout",
     "output_type": "stream",
     "text": [
      "India kaise hoojiooo\n"
     ]
    }
   ],
   "source": [
    "for i in data:\n",
    "    print(i)"
   ]
  },
  {
   "cell_type": "code",
   "execution_count": 21,
   "id": "d75dd792",
   "metadata": {},
   "outputs": [],
   "source": [
    "import os \n",
    "os.mkdir(\"IND.txt\")"
   ]
  },
  {
   "cell_type": "code",
   "execution_count": 23,
   "id": "e79e5ce8",
   "metadata": {},
   "outputs": [],
   "source": [
    "import os \n",
    "os.mkdir(\"IND.MP4\")"
   ]
  },
  {
   "cell_type": "code",
   "execution_count": 24,
   "id": "7a1ab9eb",
   "metadata": {},
   "outputs": [],
   "source": [
    "import os\n",
    "os.mkdir(\"IND.MP3\")"
   ]
  },
  {
   "cell_type": "code",
   "execution_count": 25,
   "id": "40af1219",
   "metadata": {},
   "outputs": [],
   "source": [
    "import os\n",
    "os.mkdir(\"IND.csv\")"
   ]
  },
  {
   "cell_type": "code",
   "execution_count": 26,
   "id": "15b15ad8",
   "metadata": {},
   "outputs": [],
   "source": [
    "import os \n",
    "os.mkdir(\"IND.JPG\")"
   ]
  },
  {
   "cell_type": "code",
   "execution_count": 27,
   "id": "0f5dd3e4",
   "metadata": {},
   "outputs": [],
   "source": [
    "file = open(\"IND.pdf\",\"w\")\n",
    "file.close()"
   ]
  },
  {
   "cell_type": "code",
   "execution_count": 28,
   "id": "f7a934db",
   "metadata": {},
   "outputs": [],
   "source": [
    "file = open(\"lion.txt\",\"w\")\n",
    "file.close()"
   ]
  },
  {
   "cell_type": "code",
   "execution_count": 30,
   "id": "27fd4b35",
   "metadata": {},
   "outputs": [
    {
     "name": "stdout",
     "output_type": "stream",
     "text": [
      "US.txt present\n"
     ]
    }
   ],
   "source": [
    "import os\n",
    "file_name = \"US.txt\"\n",
    "if os.path.exists(file_name):\n",
    "    print(file_name,\"present\")\n",
    "else:\n",
    "    print(file_name,\"not present\")"
   ]
  },
  {
   "cell_type": "code",
   "execution_count": 31,
   "id": "4d33c5ab",
   "metadata": {},
   "outputs": [
    {
     "name": "stdout",
     "output_type": "stream",
     "text": [
      "Neha gone to our homejitendra u want to become a data analyst in this month\n"
     ]
    }
   ],
   "source": [
    "file = open(\"US.txt\")\n",
    "con = file.read()\n",
    "print(con)"
   ]
  },
  {
   "cell_type": "code",
   "execution_count": 32,
   "id": "44effe14",
   "metadata": {},
   "outputs": [
    {
     "name": "stdout",
     "output_type": "stream",
     "text": [
      "<_io.TextIOWrapper name='US.txt' mode='r' encoding='cp1252'>\n"
     ]
    }
   ],
   "source": [
    "data = open(\"US.txt\")\n",
    "print(data)"
   ]
  },
  {
   "cell_type": "code",
   "execution_count": 33,
   "id": "e5145d73",
   "metadata": {},
   "outputs": [
    {
     "name": "stdout",
     "output_type": "stream",
     "text": [
      "Neha gone to our homejitendra u want to become a data analyst in this month\n"
     ]
    }
   ],
   "source": [
    "for i in data:\n",
    "    print(i)"
   ]
  },
  {
   "cell_type": "code",
   "execution_count": 34,
   "id": "f6b3f965",
   "metadata": {},
   "outputs": [],
   "source": [
    "file = open(\"US.txt\",\"w\")\n",
    "file.write(\"Hello world\")\n",
    "file.close()"
   ]
  },
  {
   "cell_type": "code",
   "execution_count": 35,
   "id": "76a7d0a2",
   "metadata": {},
   "outputs": [],
   "source": [
    "file = open(\"US.txt\",\"a\")\n",
    "file.write(\"Hello world\")\n",
    "file.close()"
   ]
  },
  {
   "cell_type": "code",
   "execution_count": 37,
   "id": "b432ca0c",
   "metadata": {},
   "outputs": [],
   "source": [
    "import os\n",
    "os.mkdir(\"ND.txt\")"
   ]
  },
  {
   "cell_type": "code",
   "execution_count": 38,
   "id": "e55d4cdf",
   "metadata": {},
   "outputs": [],
   "source": [
    "import os\n",
    "os.mkdir(\"ND.png\")"
   ]
  },
  {
   "cell_type": "code",
   "execution_count": 42,
   "id": "80af90fe",
   "metadata": {},
   "outputs": [],
   "source": [
    "file = open(\"ND.jpg\",\"w\")\n",
    "file.close()"
   ]
  },
  {
   "cell_type": "code",
   "execution_count": 43,
   "id": "1d439cb2",
   "metadata": {},
   "outputs": [],
   "source": [
    "file = open(\"ND.MP3\",\"w\")\n",
    "file.close()"
   ]
  },
  {
   "cell_type": "code",
   "execution_count": 44,
   "id": "3b905fb9",
   "metadata": {},
   "outputs": [
    {
     "name": "stdout",
     "output_type": "stream",
     "text": [
      "US.txt Present\n"
     ]
    }
   ],
   "source": [
    "import os\n",
    "file_name = \"US.txt\"\n",
    "if os.path.exists(file_name):\n",
    "    print(file_name,\"Present\")\n",
    "else:\n",
    "    print(file_name,\"not present\")"
   ]
  },
  {
   "cell_type": "code",
   "execution_count": 49,
   "id": "4d397810",
   "metadata": {},
   "outputs": [],
   "source": [
    "res = open(\"CAT.txt\",\"r\")\n",
    "df = open(\"RAT.txt\",\"w\")\n",
    "data = res.read()\n",
    "df.write(data)\n",
    "res.close()\n",
    "df.close()"
   ]
  },
  {
   "cell_type": "code",
   "execution_count": 50,
   "id": "7eaf34ae",
   "metadata": {},
   "outputs": [
    {
     "name": "stdout",
     "output_type": "stream",
     "text": [
      "US.txt present\n"
     ]
    }
   ],
   "source": [
    "import os\n",
    "file_name = \"US.txt\"\n",
    "if os.path.exists(file_name):\n",
    "    print(file_name,\"present\")\n",
    "else:\n",
    "    print(file_name,\"not present\")"
   ]
  },
  {
   "cell_type": "code",
   "execution_count": 51,
   "id": "c685a86a",
   "metadata": {},
   "outputs": [
    {
     "name": "stdout",
     "output_type": "stream",
     "text": [
      "<_io.TextIOWrapper name='CAT.txt' mode='r' encoding='cp1252'>\n"
     ]
    }
   ],
   "source": [
    "data = open(\"CAT.txt\")\n",
    "print(data)"
   ]
  },
  {
   "cell_type": "code",
   "execution_count": 52,
   "id": "9aae71e8",
   "metadata": {},
   "outputs": [
    {
     "name": "stdout",
     "output_type": "stream",
     "text": [
      "hello ram kaise hoo.\n"
     ]
    }
   ],
   "source": [
    "for i in data:\n",
    "    print(i)"
   ]
  },
  {
   "cell_type": "code",
   "execution_count": 53,
   "id": "38a9bee5",
   "metadata": {},
   "outputs": [
    {
     "name": "stdout",
     "output_type": "stream",
     "text": [
      "hello ram kaise hoo.\n"
     ]
    }
   ],
   "source": [
    "file = open(\"CAT.txt\",\"r\")\n",
    "con = file.read()\n",
    "print(con)"
   ]
  },
  {
   "cell_type": "code",
   "execution_count": 54,
   "id": "d558f29f",
   "metadata": {},
   "outputs": [],
   "source": [
    "data = open(\"CAT.txt\",\"w\")\n",
    "data.write(\"Hello India\")\n",
    "data.close()"
   ]
  },
  {
   "cell_type": "code",
   "execution_count": 55,
   "id": "3fa9efcd",
   "metadata": {},
   "outputs": [],
   "source": [
    "data = open(\"CAT.txt\",\"a\")\n",
    "data.write(\"Rita hello\")\n",
    "data.close()"
   ]
  },
  {
   "cell_type": "code",
   "execution_count": 56,
   "id": "610deea4",
   "metadata": {},
   "outputs": [],
   "source": [
    "import os\n",
    "os.mkdir(\"Neha.txt\")"
   ]
  },
  {
   "cell_type": "code",
   "execution_count": 57,
   "id": "f62902bd",
   "metadata": {},
   "outputs": [
    {
     "name": "stdout",
     "output_type": "stream",
     "text": [
      "US Not present\n"
     ]
    }
   ],
   "source": [
    "import os\n",
    "file_name = \"US\"\n",
    "if os.path.exists(file_name):\n",
    "    print(file_name,\"present\")\n",
    "else:\n",
    "    print(file_name,\"Not present\")"
   ]
  },
  {
   "cell_type": "code",
   "execution_count": 59,
   "id": "591457e7",
   "metadata": {},
   "outputs": [],
   "source": [
    "res = open(\"CAT.txt\",\"r\")\n",
    "df = open(\"RAT.txt\",\"w\")\n",
    "data = res.read()\n",
    "df.write(data)\n",
    "res.close()\n",
    "df.close()"
   ]
  },
  {
   "cell_type": "code",
   "execution_count": 64,
   "id": "7ff5e82b",
   "metadata": {},
   "outputs": [],
   "source": [
    "with open(\"CAT.txt\",\"r\") as file1:\n",
    "    with open(\"RAT.txt\",\"w\")as file2:\n",
    "        file2.write(file1.read())"
   ]
  },
  {
   "cell_type": "code",
   "execution_count": 65,
   "id": "030a4ca3",
   "metadata": {},
   "outputs": [],
   "source": [
    "res = open(\"CAT.txt\",\"r\")\n",
    "df = open(\"RAT.txt\",\"w\")\n",
    "data = res.read()\n",
    "df.write(data)\n",
    "res.close()\n",
    "df.close()"
   ]
  },
  {
   "cell_type": "code",
   "execution_count": 66,
   "id": "3af85a25",
   "metadata": {},
   "outputs": [],
   "source": [
    "with open(\"CAT.txt\",\"r\") as file1:\n",
    "    with open(\"RAT.txt\",\"w\") as file2:\n",
    "        file2.write(file1.read())"
   ]
  },
  {
   "cell_type": "code",
   "execution_count": 67,
   "id": "3197a84f",
   "metadata": {},
   "outputs": [],
   "source": [
    "import os \n",
    "os.remove(\"UN.txt\")"
   ]
  },
  {
   "cell_type": "code",
   "execution_count": 70,
   "id": "cfbc4712",
   "metadata": {},
   "outputs": [],
   "source": [
    "import os \n",
    "os.remove(\"india.txt\")"
   ]
  },
  {
   "cell_type": "code",
   "execution_count": 71,
   "id": "0ec61826",
   "metadata": {},
   "outputs": [],
   "source": [
    "import os\n",
    "os.remove(\"jawan.txt\")"
   ]
  },
  {
   "cell_type": "code",
   "execution_count": 73,
   "id": "8d936f4b",
   "metadata": {},
   "outputs": [
    {
     "name": "stdout",
     "output_type": "stream",
     "text": [
      "yellow.txt present\n"
     ]
    }
   ],
   "source": [
    "import os\n",
    "file_name = \"yellow.txt\"\n",
    "if os.path.exists(file_name):\n",
    "    os.remove(file_name)\n",
    "    print(file_name,\"present\")\n",
    "else:\n",
    "    print(file_name,\"not present\")"
   ]
  },
  {
   "cell_type": "code",
   "execution_count": 74,
   "id": "90be388f",
   "metadata": {},
   "outputs": [
    {
     "name": "stdout",
     "output_type": "stream",
     "text": [
      "present\n"
     ]
    }
   ],
   "source": [
    "import os\n",
    "file_name = \"Wallmartp.CSV\"\n",
    "if os.path.exists(file_name):\n",
    "    os.remove(file_name)\n",
    "    print(\"present\")\n",
    "else:\n",
    "    print(\"NOT present\")"
   ]
  },
  {
   "cell_type": "code",
   "execution_count": 75,
   "id": "40ecaeeb",
   "metadata": {},
   "outputs": [
    {
     "name": "stdout",
     "output_type": "stream",
     "text": [
      "enter the file name: Wallmart.CSV\n",
      "present\n",
      "enter the file name: vmp5\n",
      "not present\n"
     ]
    }
   ],
   "source": [
    "import os\n",
    "for i in range(1,3):\n",
    "    file_name = input(\"enter the file name: \")\n",
    "    if os.path.exists(file_name):\n",
    "        os.remove(file_name)\n",
    "        print(\"present\")\n",
    "    else:\n",
    "        print(\"not present\")"
   ]
  },
  {
   "cell_type": "code",
   "execution_count": 76,
   "id": "24004b19",
   "metadata": {},
   "outputs": [
    {
     "name": "stdout",
     "output_type": "stream",
     "text": [
      "enter the num:3\n",
      "Enter the file name: vmp5.csv\n",
      "present\n",
      "Enter the file name: vmp4.csv\n",
      "present\n",
      "Enter the file name: vmp3.csv\n",
      "present\n",
      "Enter the file name: vmp2.csv\n",
      "present\n"
     ]
    }
   ],
   "source": [
    "import os\n",
    "num = int(input(\"enter the num:\"))\n",
    "for i in range(0,num+1):\n",
    "    file_name = input(\"Enter the file name: \")\n",
    "    if os.path.exists(file_name):\n",
    "        os.remove(file_name)\n",
    "        print(\"present\")\n",
    "    else:\n",
    "        print(\"Not present\")"
   ]
  },
  {
   "cell_type": "code",
   "execution_count": 77,
   "id": "3947ada8",
   "metadata": {},
   "outputs": [
    {
     "name": "stdout",
     "output_type": "stream",
     "text": [
      "<_io.TextIOWrapper name='US.txt' mode='r' encoding='cp1252'>\n"
     ]
    }
   ],
   "source": [
    "data = open(\"US.txt\")\n",
    "print(data)"
   ]
  },
  {
   "cell_type": "code",
   "execution_count": 78,
   "id": "01676c67",
   "metadata": {},
   "outputs": [
    {
     "name": "stdout",
     "output_type": "stream",
     "text": [
      "Hello worldHello world\n"
     ]
    }
   ],
   "source": [
    "for i in data:\n",
    "    print(i)"
   ]
  },
  {
   "cell_type": "code",
   "execution_count": 80,
   "id": "5da47978",
   "metadata": {},
   "outputs": [
    {
     "name": "stdout",
     "output_type": "stream",
     "text": [
      "Hello worldHello world\n"
     ]
    }
   ],
   "source": [
    "file = open(\"US.txt\",\"r\")\n",
    "data = file.read()\n",
    "print(data)"
   ]
  },
  {
   "cell_type": "code",
   "execution_count": 82,
   "id": "d5619cef",
   "metadata": {},
   "outputs": [],
   "source": [
    "file = open(\"US.txt\",\"w\")\n",
    "file.write(\"hello world\")\n",
    "file.close()"
   ]
  },
  {
   "cell_type": "code",
   "execution_count": 83,
   "id": "bc20750e",
   "metadata": {},
   "outputs": [],
   "source": [
    "file = open(\"jawan.csv\",\"w\")\n",
    "data = \"shyam watched the movie jawan today\"\n",
    "file.write(data)\n",
    "file.close()"
   ]
  },
  {
   "cell_type": "code",
   "execution_count": 84,
   "id": "d217cd39",
   "metadata": {},
   "outputs": [
    {
     "name": "stdout",
     "output_type": "stream",
     "text": [
      "shyam watched the movie jawan today\n"
     ]
    }
   ],
   "source": [
    "res = open(\"jawan.csv\",\"r\")\n",
    "data = res.read()\n",
    "print(data)"
   ]
  },
  {
   "cell_type": "code",
   "execution_count": 85,
   "id": "29726a00",
   "metadata": {},
   "outputs": [],
   "source": [
    "new_content = content.replace(\"shyam\",\"naveen\")\n",
    "file = open(\"jawan.csv\",\"w\")\n",
    "file.write(new_content)\n",
    "file.close()"
   ]
  },
  {
   "cell_type": "code",
   "execution_count": 86,
   "id": "f7045046",
   "metadata": {},
   "outputs": [
    {
     "name": "stdout",
     "output_type": "stream",
     "text": [
      "The United States of America (USA or U.S.A.), commonly known as the United States (US or U.S.) or America, is a country primarily located in North America, between Canada and Mexico. It is a federation of 50 states, a federal capital district (Washington, D.C.), and 326 Indian reservations. Outside the union of states, it asserts sovereignty over five major unincorporated island territories and various uninhabited islands.[j] The country has the world's third-largest land area,[d] largest maritime exclusive economic zone, and the third-largest population, exceeding 334 million.\n"
     ]
    }
   ],
   "source": [
    "file = open(\"jawan.csv\",\"r\")\n",
    "data = file.read()\n",
    "print(data)"
   ]
  },
  {
   "cell_type": "code",
   "execution_count": 87,
   "id": "79e0e9c2",
   "metadata": {},
   "outputs": [],
   "source": [
    "file = open(\"saitan.csv\",\"w\")\n",
    "data = \"Akash watched the saitan movie\"\n",
    "file.write(data)\n",
    "file.close()"
   ]
  },
  {
   "cell_type": "code",
   "execution_count": 88,
   "id": "d895d467",
   "metadata": {},
   "outputs": [
    {
     "name": "stdout",
     "output_type": "stream",
     "text": [
      "Akash watched the saitan movie\n"
     ]
    }
   ],
   "source": [
    "file = open(\"saitan.csv\",\"r\")\n",
    "data = file.read()\n",
    "print(data)"
   ]
  },
  {
   "cell_type": "code",
   "execution_count": 89,
   "id": "2ae7b0a1",
   "metadata": {},
   "outputs": [],
   "source": [
    "new_content = content.replace(\"Akash\",\"Abhi\")\n",
    "file = open(\"saitan.csv\",\"w\")\n",
    "file.write(new_content)\n",
    "file.close()"
   ]
  },
  {
   "cell_type": "code",
   "execution_count": 93,
   "id": "d9a97fe3",
   "metadata": {},
   "outputs": [],
   "source": [
    "res = open(\"saitan.csv\",\"r\")\n",
    "data=res.read()"
   ]
  },
  {
   "cell_type": "code",
   "execution_count": 94,
   "id": "7ba71390",
   "metadata": {},
   "outputs": [
    {
     "name": "stdout",
     "output_type": "stream",
     "text": [
      "The United States of America (USA or U.S.A.), commonly known as the United States (US or U.S.) or America, is a country primarily located in North America, between Canada and Mexico. It is a federation of 50 states, a federal capital district (Washington, D.C.), and 326 Indian reservations. Outside the union of states, it asserts sovereignty over five major unincorporated island territories and various uninhabited islands.[j] The country has the world's third-largest land area,[d] largest maritime exclusive economic zone, and the third-largest population, exceeding 334 million.\n"
     ]
    }
   ],
   "source": [
    "print(data)"
   ]
  },
  {
   "cell_type": "code",
   "execution_count": 100,
   "id": "2e08b085",
   "metadata": {},
   "outputs": [
    {
     "name": "stdout",
     "output_type": "stream",
     "text": [
      "ram,23,23000\n",
      "\n",
      "ravi,24,24000\n",
      "\n",
      "emily,26,30000\n"
     ]
    }
   ],
   "source": [
    "res = open(\"LEO.csv\",\"r\")\n",
    "print(res.readline())\n",
    "print(res.readline())\n",
    "print(res.readline())"
   ]
  },
  {
   "cell_type": "code",
   "execution_count": 110,
   "id": "8e9304a8",
   "metadata": {},
   "outputs": [
    {
     "name": "stdout",
     "output_type": "stream",
     "text": [
      "77000\n"
     ]
    }
   ],
   "source": [
    "with open (\"LEO.csv\",\"r\") as file1:\n",
    "    lines = file1.readlines()\n",
    "total_salary = 0\n",
    "for line in lines:\n",
    "    _,_,salary_str = line.strip().split(\",\")\n",
    "    salary = int(salary_str)\n",
    "    total_salary = total_salary + salary\n",
    "print(total_salary)"
   ]
  },
  {
   "cell_type": "code",
   "execution_count": 111,
   "id": "094c7978",
   "metadata": {},
   "outputs": [
    {
     "name": "stdout",
     "output_type": "stream",
     "text": [
      "77000\n"
     ]
    }
   ],
   "source": [
    "with open(\"LEO.csv\", \"r\") as file1:\n",
    "    lines = file1.readlines()\n",
    "total_salary = 0\n",
    "for line in lines:\n",
    "    _, _, salary_str = line.strip().split(\",\")\n",
    "    salary = int(salary_str)\n",
    "    total_salary += salary\n",
    "print(total_salary)\n"
   ]
  },
  {
   "cell_type": "code",
   "execution_count": 112,
   "id": "1273bfd7",
   "metadata": {},
   "outputs": [
    {
     "name": "stdout",
     "output_type": "stream",
     "text": [
      "['ram,23,23000\\n', 'ravi,24,24000\\n', 'emily,26,30000']\n"
     ]
    }
   ],
   "source": [
    "with open (\"LEO.csv\",\"r\") as file1:\n",
    "    lines = file1.readlines()\n",
    "print(lines)"
   ]
  },
  {
   "cell_type": "code",
   "execution_count": 114,
   "id": "cb8d4af9",
   "metadata": {},
   "outputs": [
    {
     "name": "stdout",
     "output_type": "stream",
     "text": [
      "77000\n"
     ]
    }
   ],
   "source": [
    "with open(\"LEO.csv\",\"r\") as file1:\n",
    "    lines = file1.readlines()\n",
    "total_salary = 0\n",
    "for line in lines:\n",
    "    _,_,salary_str = line.strip().split(\",\")\n",
    "    salary = int(salary_str)\n",
    "    total_salary = total_salary + salary\n",
    "print(total_salary)"
   ]
  },
  {
   "cell_type": "code",
   "execution_count": 115,
   "id": "7714542b",
   "metadata": {},
   "outputs": [
    {
     "name": "stdout",
     "output_type": "stream",
     "text": [
      "['ram,23,23000\\n', 'ravi,24,24000\\n', 'emily,26,30000']\n"
     ]
    }
   ],
   "source": [
    "with open(\"LEO.csv\",\"r\") as file1:\n",
    "    lines = file1.readlines()\n",
    "print(lines)"
   ]
  },
  {
   "cell_type": "code",
   "execution_count": 118,
   "id": "65d24a6d",
   "metadata": {},
   "outputs": [
    {
     "name": "stdout",
     "output_type": "stream",
     "text": [
      "77000\n"
     ]
    }
   ],
   "source": [
    "with open (\"LEO.csv\",\"r\") as file1:\n",
    "    lines = file1.readlines()\n",
    "total_salary = []\n",
    "\n",
    "for line in lines:\n",
    "    _,_,salary_str = line.strip().split(\",\")\n",
    "    salary = int(salary_str)\n",
    "    total_salary.append(salary)\n",
    "print(sum(total_salary))"
   ]
  },
  {
   "cell_type": "code",
   "execution_count": 119,
   "id": "ed2292a9",
   "metadata": {},
   "outputs": [
    {
     "name": "stdout",
     "output_type": "stream",
     "text": [
      "['jitendarsingh8567', 'gamil.com']\n"
     ]
    }
   ],
   "source": [
    "sen = \"jitendarsingh8567@gamil.com\"\n",
    "data = sen.split(\"@\")\n",
    "print(data)"
   ]
  },
  {
   "cell_type": "code",
   "execution_count": 120,
   "id": "7c931783",
   "metadata": {},
   "outputs": [
    {
     "name": "stdout",
     "output_type": "stream",
     "text": [
      "['jitendrasingh8567@gmail', 'com']\n"
     ]
    }
   ],
   "source": [
    "sen = \"jitendrasingh8567@gmail.com\"\n",
    "data = sen.split(\".\")\n",
    "print(data)"
   ]
  },
  {
   "cell_type": "code",
   "execution_count": 121,
   "id": "955dee62",
   "metadata": {},
   "outputs": [
    {
     "name": "stdout",
     "output_type": "stream",
     "text": [
      "['ram', ',shyam', ',fish', '']\n"
     ]
    }
   ],
   "source": [
    "sen = \"ram\\n,shyam\\n,fish\\n\"\n",
    "word = sen.split(\"\\n\")\n",
    "print(word)"
   ]
  },
  {
   "cell_type": "code",
   "execution_count": 123,
   "id": "d283d204",
   "metadata": {},
   "outputs": [
    {
     "name": "stdout",
     "output_type": "stream",
     "text": [
      "ram\n",
      "shyam\n",
      "fish\n",
      "\n"
     ]
    }
   ],
   "source": [
    "sen = \"ram\\nshyam\\nfish\\n\"\n",
    "word = sen.split(\"\\n\")\n",
    "for i in word:\n",
    "    print(i)"
   ]
  },
  {
   "cell_type": "code",
   "execution_count": null,
   "id": "dec39d3d",
   "metadata": {},
   "outputs": [],
   "source": [
    "sen = \"python\"\n"
   ]
  }
 ],
 "metadata": {
  "kernelspec": {
   "display_name": "Python 3 (ipykernel)",
   "language": "python",
   "name": "python3"
  },
  "language_info": {
   "codemirror_mode": {
    "name": "ipython",
    "version": 3
   },
   "file_extension": ".py",
   "mimetype": "text/x-python",
   "name": "python",
   "nbconvert_exporter": "python",
   "pygments_lexer": "ipython3",
   "version": "3.11.3"
  }
 },
 "nbformat": 4,
 "nbformat_minor": 5
}
